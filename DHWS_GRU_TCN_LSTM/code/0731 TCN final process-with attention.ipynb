{
 "cells": [
  {
   "cell_type": "code",
   "execution_count": 1,
   "metadata": {
    "collapsed": true
   },
   "outputs": [],
   "source": [
    "import pandas as pd\n",
    "from sklearn.preprocessing import MinMaxScaler\n",
    "\n",
    "import matplotlib.pyplot as plt\n",
    "import matplotlib.ticker as ticker\n",
    "\n",
    "\n",
    "import numpy as np\n",
    "\n",
    "import random\n",
    "import math\n",
    "import time\n",
    "import pandas as pd\n",
    "import scipy.io\n"
   ]
  },
  {
   "cell_type": "code",
   "execution_count": 2,
   "metadata": {
    "collapsed": true
   },
   "outputs": [],
   "source": [
    "import scipy.io\n",
    "data1 = scipy.io.loadmat('data/user1-100.mat')\n",
    "data2 = scipy.io.loadmat('data/user101-150.mat')\n",
    "data3 = scipy.io.loadmat('data/user151-200.mat')\n",
    "tariff = scipy.io.loadmat('data/Tariff2(1).mat')[\"Tariff\"][0].tolist()\n",
    "ZP = data1[\"ZP\"].sum(axis=1) + data2[\"ZP\"].sum(axis=1) + data3[\"ZP\"].sum(axis=1)\n",
    "ZP1 = np.concatenate((data1[\"ZP\"], data2[\"ZP\"][:, 100:], data3[\"ZP\"][:, 150:]), axis=1).T\n",
    "ZT = np.concatenate((data1[\"ZTtank\"], data2[\"ZTtank\"][:, 100:], data3[\"ZTtank\"][:, 150:]), axis=1).T\n",
    "pattern = pd.read_csv('data/0519 2000userpattern.csv')\n",
    "pattern200 = np.array(pattern)[:200, 1:]"
   ]
  },
  {
   "cell_type": "code",
   "execution_count": 2,
   "metadata": {
    "collapsed": true
   },
   "outputs": [],
   "source": [
    "df = pd.read_csv('data/0728 200user.csv')"
   ]
  },
  {
   "cell_type": "code",
   "execution_count": 60,
   "metadata": {
    "collapsed": true
   },
   "outputs": [],
   "source": [
    "# np.save('data/input_features.npy',df[['ls_move', 'p_norm', 'tariff']])\n",
    "# np.save('data/p_flex.npy',df[['p_flex']])"
   ]
  },
  {
   "cell_type": "code",
   "execution_count": 56,
   "metadata": {
    "collapsed": true
   },
   "outputs": [],
   "source": [
    "# np.save('data/0519 2000userpattern.npy',pattern)\n",
    "# np.save('data/ZP1.npy',ZP1)\n",
    "# np.save('data/ZP.npy',ZP)\n",
    "# np.save('data/ZT.npy',ZT)"
   ]
  },
  {
   "cell_type": "code",
   "execution_count": 3,
   "metadata": {
    "collapsed": true
   },
   "outputs": [],
   "source": [
    "data_input = np.load('data/input_features.npy')\n",
    "data_output = np.load('data/p_flex.npy')\n",
    "\n",
    "scaler = MinMaxScaler(feature_range=(0, 1))\n",
    "scaled_input = scaler.fit_transform(data_input)\n",
    "scaled_output = scaler.fit_transform(data_output)\n",
    "\n",
    "time_stamp = 96\n",
    "scaled_train_in = scaled_input[:243*96-96*31]\n",
    "scaled_train_out = scaled_output[:243*96-96*31]\n",
    "scaled_test_in = scaled_input[243*96-96*31:]\n",
    "scaled_test_out = scaled_output[243*96-96*31:]"
   ]
  },
  {
   "cell_type": "code",
   "execution_count": 9,
   "metadata": {},
   "outputs": [
    {
     "data": {
      "text/plain": [
       "array([[0.5       , 0.4935    , 0.        ],\n",
       "       [1.        , 0.45776667, 0.        ],\n",
       "       [1.        , 0.51941667, 0.        ],\n",
       "       [1.        , 0.52468333, 0.        ],\n",
       "       [1.        , 0.5078    , 0.        ],\n",
       "       [1.        , 0.60728333, 0.        ],\n",
       "       [1.        , 0.59268333, 0.        ],\n",
       "       [1.        , 0.61548333, 0.        ],\n",
       "       [1.        , 0.56736667, 0.        ],\n",
       "       [1.        , 0.57186667, 0.        ],\n",
       "       [1.        , 0.14116667, 0.        ],\n",
       "       [1.        , 0.09141667, 0.        ],\n",
       "       [1.        , 0.12133333, 0.        ],\n",
       "       [1.        , 0.2655    , 0.        ],\n",
       "       [1.        , 0.2355    , 0.        ],\n",
       "       [1.        , 0.3055    , 0.        ],\n",
       "       [1.        , 0.23558333, 0.        ],\n",
       "       [1.        , 0.32058333, 0.        ],\n",
       "       [1.        , 0.27091667, 0.        ],\n",
       "       [1.        , 0.59141667, 0.        ],\n",
       "       [1.        , 0.65058333, 0.        ],\n",
       "       [1.        , 0.74      , 0.        ],\n",
       "       [1.        , 0.7324    , 0.        ],\n",
       "       [1.        , 0.79911667, 0.        ],\n",
       "       [1.        , 0.51908   , 0.3908431 ],\n",
       "       [1.        , 0.28493333, 0.3908431 ],\n",
       "       [1.        , 0.22      , 0.3908431 ],\n",
       "       [1.        , 0.28848333, 0.3908431 ],\n",
       "       [1.        , 0.24258333, 0.3908431 ],\n",
       "       [1.        , 0.20758333, 0.3908431 ],\n",
       "       [1.        , 0.22      , 0.3908431 ],\n",
       "       [1.        , 0.195     , 0.3908431 ],\n",
       "       [1.        , 0.29      , 0.3908431 ],\n",
       "       [1.        , 0.225     , 0.3908431 ],\n",
       "       [1.        , 0.13      , 0.3908431 ],\n",
       "       [1.        , 0.105     , 0.3908431 ],\n",
       "       [1.        , 0.18      , 0.3908431 ],\n",
       "       [1.        , 0.        , 0.3908431 ],\n",
       "       [1.        , 0.16      , 0.3908431 ],\n",
       "       [1.        , 0.16      , 0.3908431 ],\n",
       "       [1.        , 0.        , 1.        ],\n",
       "       [1.        , 0.        , 1.        ],\n",
       "       [1.        , 0.        , 1.        ],\n",
       "       [1.        , 0.        , 1.        ],\n",
       "       [1.        , 0.        , 1.        ],\n",
       "       [1.        , 0.        , 1.        ],\n",
       "       [1.        , 0.        , 1.        ],\n",
       "       [1.        , 0.        , 1.        ],\n",
       "       [1.        , 0.        , 1.        ],\n",
       "       [1.        , 0.        , 1.        ],\n",
       "       [1.        , 0.        , 1.        ],\n",
       "       [1.        , 0.        , 1.        ],\n",
       "       [1.        , 0.        , 1.        ],\n",
       "       [1.        , 0.        , 1.        ],\n",
       "       [1.        , 0.        , 1.        ],\n",
       "       [1.        , 0.        , 1.        ],\n",
       "       [1.        , 0.12      , 0.3908431 ],\n",
       "       [1.        , 0.025     , 0.3908431 ],\n",
       "       [1.        , 0.045     , 0.3908431 ],\n",
       "       [1.        , 0.        , 0.3908431 ],\n",
       "       [1.        , 0.025     , 0.3908431 ],\n",
       "       [1.        , 0.06      , 0.3908431 ],\n",
       "       [1.        , 0.12064   , 0.3908431 ],\n",
       "       [1.        , 0.11213333, 0.3908431 ],\n",
       "       [1.        , 0.17085333, 0.3908431 ],\n",
       "       [1.        , 0.2       , 0.3908431 ],\n",
       "       [1.        , 0.2       , 0.3908431 ],\n",
       "       [1.        , 0.25543   , 0.3908431 ],\n",
       "       [1.        , 0.3462    , 0.3908431 ],\n",
       "       [1.        , 0.35125   , 0.3908431 ],\n",
       "       [1.        , 0.19066667, 0.3908431 ],\n",
       "       [1.        , 0.18673333, 0.3908431 ],\n",
       "       [1.        , 0.22633333, 0.3908431 ],\n",
       "       [1.        , 0.39600333, 0.3908431 ],\n",
       "       [1.        , 0.39566667, 0.3908431 ],\n",
       "       [1.        , 0.33405333, 0.3908431 ],\n",
       "       [1.        , 0.        , 1.        ],\n",
       "       [1.        , 0.        , 1.        ],\n",
       "       [1.        , 0.        , 1.        ],\n",
       "       [1.        , 0.        , 1.        ],\n",
       "       [1.        , 0.        , 1.        ],\n",
       "       [1.        , 0.        , 1.        ],\n",
       "       [1.        , 0.        , 1.        ],\n",
       "       [1.        , 0.        , 1.        ],\n",
       "       [1.        , 0.        , 1.        ],\n",
       "       [1.        , 0.        , 1.        ],\n",
       "       [1.        , 0.        , 1.        ],\n",
       "       [1.        , 0.        , 1.        ],\n",
       "       [1.        , 0.09816667, 0.        ],\n",
       "       [1.        , 0.0075    , 0.        ],\n",
       "       [1.        , 0.00283333, 0.        ],\n",
       "       [1.        , 0.00283333, 0.        ],\n",
       "       [1.        , 0.00283333, 0.        ],\n",
       "       [1.        , 0.00483333, 0.        ],\n",
       "       [1.        , 0.00366667, 0.        ],\n",
       "       [1.        , 0.        , 0.        ],\n",
       "       [0.5       , 0.96593333, 0.        ],\n",
       "       [0.5       , 0.9612    , 0.        ],\n",
       "       [1.        , 0.8578    , 0.        ],\n",
       "       [1.        , 0.8146    , 0.        ]])"
      ]
     },
     "execution_count": 9,
     "metadata": {},
     "output_type": "execute_result"
    }
   ],
   "source": [
    "np.array(scaled_train_in[:100,:])"
   ]
  },
  {
   "cell_type": "code",
   "execution_count": 71,
   "metadata": {},
   "outputs": [
    {
     "name": "stdout",
     "output_type": "stream",
     "text": [
      "(30, 96, 3) (30, 96, 1)\n"
     ]
    }
   ],
   "source": [
    "x_test, y_test=[], []\n",
    "for i in range(30):\n",
    "    x_test.append(scaled_test_in[i*time_stamp:(i+1)*time_stamp,:3])\n",
    "    y_test.append(scaled_test_out[(i+1)*time_stamp:(i+2)*time_stamp])\n",
    "x_test, y_test = np.array(x_test), np.array(y_test)\n",
    "\n",
    "print(x_test.shape, y_test.shape)\n",
    "\n"
   ]
  },
  {
   "cell_type": "code",
   "execution_count": 62,
   "metadata": {},
   "outputs": [
    {
     "data": {
      "text/plain": [
       "(23328, 3)"
      ]
     },
     "execution_count": 62,
     "metadata": {},
     "output_type": "execute_result"
    }
   ],
   "source": [
    "a = np.load('data/input_features.npy')\n",
    "a.shape"
   ]
  },
  {
   "cell_type": "code",
   "execution_count": 4,
   "metadata": {},
   "outputs": [
    {
     "data": {
      "text/html": [
       "<div>\n",
       "<style scoped>\n",
       "    .dataframe tbody tr th:only-of-type {\n",
       "        vertical-align: middle;\n",
       "    }\n",
       "\n",
       "    .dataframe tbody tr th {\n",
       "        vertical-align: top;\n",
       "    }\n",
       "\n",
       "    .dataframe thead th {\n",
       "        text-align: right;\n",
       "    }\n",
       "</style>\n",
       "<table border=\"1\" class=\"dataframe\">\n",
       "  <thead>\n",
       "    <tr style=\"text-align: right;\">\n",
       "      <th></th>\n",
       "      <th>p_norm</th>\n",
       "      <th>p_flex</th>\n",
       "      <th>ls</th>\n",
       "      <th>tariff</th>\n",
       "      <th>ls_move</th>\n",
       "    </tr>\n",
       "  </thead>\n",
       "  <tbody>\n",
       "    <tr>\n",
       "      <th>0</th>\n",
       "      <td>296.10</td>\n",
       "      <td>303.90</td>\n",
       "      <td>1</td>\n",
       "      <td>0.288</td>\n",
       "      <td>0.0</td>\n",
       "    </tr>\n",
       "    <tr>\n",
       "      <th>1</th>\n",
       "      <td>274.66</td>\n",
       "      <td>325.34</td>\n",
       "      <td>1</td>\n",
       "      <td>0.288</td>\n",
       "      <td>1.0</td>\n",
       "    </tr>\n",
       "    <tr>\n",
       "      <th>2</th>\n",
       "      <td>311.65</td>\n",
       "      <td>288.35</td>\n",
       "      <td>1</td>\n",
       "      <td>0.288</td>\n",
       "      <td>1.0</td>\n",
       "    </tr>\n",
       "    <tr>\n",
       "      <th>3</th>\n",
       "      <td>314.81</td>\n",
       "      <td>285.19</td>\n",
       "      <td>1</td>\n",
       "      <td>0.288</td>\n",
       "      <td>1.0</td>\n",
       "    </tr>\n",
       "    <tr>\n",
       "      <th>4</th>\n",
       "      <td>304.68</td>\n",
       "      <td>0.00</td>\n",
       "      <td>1</td>\n",
       "      <td>0.288</td>\n",
       "      <td>1.0</td>\n",
       "    </tr>\n",
       "  </tbody>\n",
       "</table>\n",
       "</div>"
      ],
      "text/plain": [
       "   p_norm  p_flex  ls  tariff  ls_move\n",
       "0  296.10  303.90   1   0.288      0.0\n",
       "1  274.66  325.34   1   0.288      1.0\n",
       "2  311.65  288.35   1   0.288      1.0\n",
       "3  314.81  285.19   1   0.288      1.0\n",
       "4  304.68    0.00   1   0.288      1.0"
      ]
     },
     "execution_count": 4,
     "metadata": {},
     "output_type": "execute_result"
    }
   ],
   "source": [
    "df.head()"
   ]
  },
  {
   "cell_type": "code",
   "execution_count": 5,
   "metadata": {
    "collapsed": true
   },
   "outputs": [],
   "source": [
    "#生成测试数据\n",
    "test=df[['p_norm','tariff']]\n",
    "scaler = MinMaxScaler(feature_range=(0, 1))\n",
    "\n",
    "x_test=scaler.fit_transform(test[96*243-96*2:96*243-96*1])\n",
    "real_test=df[['p_norm']][96*243-96*1:]"
   ]
  },
  {
   "cell_type": "code",
   "execution_count": 6,
   "metadata": {
    "collapsed": true
   },
   "outputs": [],
   "source": [
    "#生成up和down不同的96组信号\n",
    "\n",
    "down = []\n",
    "for i in range(96):\n",
    "    row = []\n",
    "    for j in range(96):\n",
    "        if j < i:\n",
    "            row.append(0)\n",
    "        else:\n",
    "            row.append(-1)\n",
    "    down.append(row)\n",
    "down = np.array(down)\n",
    "\n",
    "up = []\n",
    "for i in range(96):\n",
    "    row = []\n",
    "    for j in range(96):\n",
    "        if j < i:\n",
    "            row.append(0)\n",
    "        else:\n",
    "            row.append(1)\n",
    "    up.append(row)\n",
    "up = np.array(up)"
   ]
  },
  {
   "cell_type": "code",
   "execution_count": 7,
   "metadata": {
    "collapsed": true
   },
   "outputs": [],
   "source": [
    "#修改成只生成最后一天的函数\n",
    "def flexoneday(p_base, t_base, dr_sig, userpattern):\n",
    "    p_flex = np.zeros(96 , dtype=int)\n",
    "    for i in range(200):\n",
    "        flex = np.zeros(96, dtype=int).tolist()\n",
    "        temp = t_base[i]\n",
    "        p = p_base[i]\n",
    "        pattern = userpattern[i]\n",
    "        for j in range(96 - 1):\n",
    "            if dr_sig[j] == 0:\n",
    "                flex[j] = 0\n",
    "            elif dr_sig[j] == -1:\n",
    "                flex[j] = p[j]\n",
    "                p[j] = 0\n",
    "                if pattern[j] == 1 or pattern[j] == 2 or pattern[j] == 5:\n",
    "                    temp[j + 1] = temp[j] - 1.142\n",
    "                elif pattern[j] == 3:\n",
    "                    temp[j + 1] = temp[j] - 8.14\n",
    "                else:\n",
    "                    temp[j + 1] = temp[j] - 15.143\n",
    "                if temp[j] <= 60:\n",
    "                    flex[j] = 0  # 温控信号与dr信号对冲，此后灵活度均降为零\n",
    "            else:  # 正1信号代表此刻功率变为最大功率\n",
    "                flex[j] = 3 - p[j]\n",
    "                p[j] = 3\n",
    "                if pattern[j] == 1 or pattern[j] == 2 or pattern[j] == 5:\n",
    "                    temp[j + 1] = temp[j] + 6.4\n",
    "                elif pattern[j] == 3:\n",
    "                    temp[j + 1] = temp[j] - 4.6\n",
    "                else:\n",
    "                    temp[j + 1] = temp[j] - 8.6\n",
    "                if temp[j] >= 100:\n",
    "                    flex[j] = 0  # 温控信号与dr信号对冲，灵活度降为零\n",
    "        p_flex = p_flex + np.array(flex)\n",
    "    return p_flex\n"
   ]
  },
  {
   "cell_type": "code",
   "execution_count": 8,
   "metadata": {
    "collapsed": true
   },
   "outputs": [],
   "source": [
    "real_flex_up = []\n",
    "for i in range(96):\n",
    "    p=ZP1[:,243*96-96:].copy()# 这一步很关键，否则函数会直接对ZP1进行修改，无法循环\n",
    "    t=ZT[:,243*96-96:].copy()# 同上\n",
    "    a=up[i]\n",
    "    flex = flexoneday(p, t , a, pattern200[:,243*96-96:]).tolist()\n",
    "    real_flex_up.append(flex)"
   ]
  },
  {
   "cell_type": "code",
   "execution_count": 9,
   "metadata": {
    "collapsed": true
   },
   "outputs": [],
   "source": [
    "real_flex_down = []\n",
    "for i in range(96):\n",
    "    p=ZP1[:,243*96-96:].copy()\n",
    "    t=ZT[:,243*96-96:].copy()\n",
    "    a=down[i]\n",
    "    flex = flexoneday(p, t , a, pattern200[:,243*96-96:]).tolist()\n",
    "    real_flex_down.append(flex)"
   ]
  },
  {
   "cell_type": "code",
   "execution_count": 10,
   "metadata": {
    "collapsed": true
   },
   "outputs": [],
   "source": [
    "#根据倒数第二天数据进行序列预测\n",
    "#对信号归一化\n",
    "scaled_down = np.where(down==0,0.5,0)\n",
    "scaled_up = np.where(up==0,0.5,1)\n",
    "test_up =[]\n",
    "for i in range(96):\n",
    "    a=np.hstack((np.array(scaled_up[i]).reshape(96,1),x_test))\n",
    "    test_up.append(a)\n",
    "test_up = np.array(test_up)\n",
    "test_down =[]\n",
    "for i in range(96):\n",
    "    a=np.hstack((np.array(scaled_down[i]).reshape(96,1),x_test))\n",
    "    test_down.append(a)\n",
    "test_down = np.array(test_down)"
   ]
  },
  {
   "cell_type": "code",
   "execution_count": 11,
   "metadata": {
    "collapsed": true
   },
   "outputs": [],
   "source": [
    "import torch\n",
    "import torch.nn as nn\n",
    "import torch.optim as optim\n",
    "import torch.nn.functional as F\n",
    "from torch.nn.utils import weight_norm\n",
    "import pandas as pd\n",
    "from sklearn.preprocessing import MinMaxScaler\n",
    "\n",
    "import torchtext\n",
    "from torchtext.datasets import Multi30k\n",
    "from torchtext.data import Field, BucketIterator\n",
    "\n",
    "import matplotlib.pyplot as plt\n",
    "import matplotlib.ticker as ticker\n",
    "\n",
    "import spacy\n",
    "import numpy as np\n",
    "\n",
    "import random\n",
    "import math\n",
    "import time\n",
    "import pandas as pd\n",
    "from Dilated_TCN_Model import TemporalConvNet\n"
   ]
  },
  {
   "cell_type": "code",
   "execution_count": 15,
   "metadata": {},
   "outputs": [
    {
     "name": "stdout",
     "output_type": "stream",
     "text": [
      "Now your model can capture 120 step dependency\n"
     ]
    }
   ],
   "source": [
    "\n",
    "class Encoder(nn.Module):\n",
    "    def __init__(self, input_dim, emb_dim, num_channels, device, output_dim, kernel_sz, dropout):\n",
    "        super().__init__()\n",
    "\n",
    "        assert kernel_sz % 2 == 1, \"Kernel size must be odd!\"\n",
    "\n",
    "        self.device = device\n",
    "\n",
    "        self.scale = torch.sqrt(torch.FloatTensor([0.5])).to(device)\n",
    "        self.embed = nn.Linear(input_dim, emb_dim)\n",
    "        self.TCNBlock = TemporalConvNet(emb_dim, num_channels, device, kernel_sz, dropout)\n",
    "        self.conv2emb = nn.Linear(num_channels[-1], emb_dim)\n",
    "        self.dropout = nn.Dropout(dropout)\n",
    "\n",
    "    def forward(self, x):# x=[batch, 96 , inputdim]\n",
    "\n",
    "        embed = self.embed(x)    # embed = [batch size, 96, emd dim]\n",
    "        conv_input = embed.permute(0, 2, 1)      # conv_input = [batch size, emb dim, 96]\n",
    "        conv_out = self.TCNBlock(conv_input ).permute(0,2,1)  # conv_out = [batch size, 96 , num_channels(-1)]\n",
    "        conved = self.conv2emb(conv_out)     # conved = [batch size, 96, emb dim]\n",
    "\n",
    "        # elementwise sum output (conved) and input (embedded) to be used for attention\n",
    "        combined = (conved + embed) * self.scale # combined = [batch size, src len, emb dim]\n",
    "\n",
    "        return conved, combined\n",
    "\n",
    "# decoder 若也使用dilated_tcn 会造成第i输出考虑过多target,造成cheating\n",
    "class Decoder(nn.Module):\n",
    "    def __init__(self, output_dim, emb_dim, n_layers, kernel_sz, dropout, trg_pad_idx, device):\n",
    "        super().__init__()\n",
    "\n",
    "        self.kernel_size = kernel_sz\n",
    "        self.device = device\n",
    "        self.trg_pad_idx = trg_pad_idx\n",
    "\n",
    "        self.scale = torch.sqrt(torch.FloatTensor([0.5])).to(device)\n",
    "\n",
    "        self.Linear1 = nn.Linear(output_dim, emb_dim)\n",
    "\n",
    "        self.attn_emb2out = nn.Linear(emb_dim, output_dim)\n",
    "        self.attn_out2emb = nn.Linear(output_dim, emb_dim)\n",
    "\n",
    "        self.fc_out = nn.Linear(emb_dim, output_dim)\n",
    "\n",
    "        self.convs = nn.ModuleList([nn.Conv1d(in_channels=emb_dim, out_channels=2 * emb_dim, kernel_size=kernel_sz) for _ in range(n_layers)])\n",
    "\n",
    "        self.dropout = nn.Dropout(dropout)\n",
    "\n",
    "    def calculate_attention(self, output , conved, encoder_conved, encoder_combined):\n",
    "        # conved = [batch size, hid dim, trg len]\n",
    "        # encoder_conved = encoder_combined = [batch size, src len, (hid dim)]\n",
    "        conved_emb = conved.permute(0, 2, 1)\n",
    "\n",
    "        conved_emb = self.attn_emb2out(conved_emb)  # conved_emb = [batch size, trg len, output dim]\n",
    "\n",
    "        combined = (conved_emb + output) * self.scale  # combined = [batch size, trg len, output dim]\n",
    "\n",
    "        combined = self.attn_out2emb(combined)# combined = [batch size, trg len, hid dim]\n",
    "\n",
    "        energy = torch.matmul(combined, encoder_conved.permute(0, 2, 1))\n",
    "        # energy = [batch size, trg len, src len]\n",
    "\n",
    "        attention = F.softmax(energy, dim=2)\n",
    "\n",
    "        # attention = [batch size, trg len, src len]\n",
    "\n",
    "        attended_encoding = torch.matmul(attention, encoder_combined)\n",
    "\n",
    "        # attended_encoding = [batch size, trg len, hid dim]\n",
    "\n",
    "        # apply residual connection\n",
    "        attended_combined = (conved + attended_encoding.permute(0, 2, 1)) * self.scale\n",
    "\n",
    "        # attended_combined = [batch size, hid dim, trg len]\n",
    "\n",
    "        return attention, attended_combined\n",
    "\n",
    "    def forward(self, y, encoder_conved, encoder_combined):\n",
    "        # y = [batch size, 96, output_dim]\n",
    "        conv_input = self.Linear1(y) # conv_input = [ batch size, 96, emb_dim]\n",
    "        conv_input = conv_input.permute(0, 2, 1)\n",
    "        batch_size = conv_input.shape[0]\n",
    "        hid_dim = conv_input.shape[1]\n",
    "        for i, conv in enumerate(self.convs):\n",
    "            # apply dropout\n",
    "            conv_input = self.dropout(conv_input)\n",
    "\n",
    "            # need to pad so decoder can't \"cheat\"\n",
    "            padding = torch.zeros(batch_size, hid_dim, self.kernel_size - 1).fill_(self.trg_pad_idx).to(self.device)\n",
    "\n",
    "            padded_conv_input = torch.cat((padding, conv_input), dim=2)\n",
    "\n",
    "            # padded_conv_input = [batch size, hid dim, trg len + kernel size - 1]\n",
    "\n",
    "            # pass through convolutional layer\n",
    "            conved = conv(padded_conv_input) # conved = [batch size, hid dim *2, 96]\n",
    "            conved = F.glu(conved, dim = 1) # conved = [batch size, hid dim, 96]\n",
    "\n",
    "            # calculate attention\n",
    "            attention, conved = self.calculate_attention(y, conved, encoder_conved, encoder_combined)\n",
    "            # conved [batch size, hid dim, trg len]\n",
    "            # attention = [batch size, trg len, src len]\n",
    "            # apply residual connection\n",
    "            conved = (conved + conv_input) * self.scale\n",
    "            # conved = [batch size, hid dim, trg len]\n",
    "            # set conv_input to conved for next loop iteration\n",
    "            conv_input = conved\n",
    "\n",
    "        # conved = [batch size, trg len, hid_dim]\n",
    "\n",
    "        output = self.fc_out(self.dropout(conved.permute(0,2,1)))\n",
    "\n",
    "        # output = [batch size, trg len, output dim]\n",
    "\n",
    "        return output, attention\n",
    "\n",
    "\n",
    "class Seq2Seq(nn.Module):\n",
    "    def __init__(self, encoder, decoder):\n",
    "        super().__init__()\n",
    "\n",
    "        self.encoder = encoder\n",
    "        self.decoder = decoder\n",
    "\n",
    "    def forward(self, x, y):\n",
    "        encoder_conved, encoder_combined = self.encoder(x)\n",
    "\n",
    "        output, attention = self.decoder(y, encoder_conved, encoder_combined)\n",
    "\n",
    "        return output, attention\n",
    "\n",
    "channels = [128, 128, 128, 128, 128, 128]\n",
    "KERNEL_SIZE = 3\n",
    "dependency = KERNEL_SIZE * len(channels) * (len(channels) + 1) - len(channels)\n",
    "print('Now your model can capture {} step dependency'.format(dependency))\n",
    "\n",
    "# 参数预设\n",
    "INPUT_DIM = 3\n",
    "EMBED_DIM = 64\n",
    "OUTPUTDIM = 1\n",
    "DROPOUT = 0.\n",
    "TRG_PAD_IDX = 0.\n",
    "DEC_LAYERS = 10\n",
    "device = torch.device('cuda' if torch.cuda.is_available() else 'cpu')\n",
    "\n",
    "enc = Encoder(INPUT_DIM, EMBED_DIM, channels, device, OUTPUTDIM, KERNEL_SIZE, 0.)\n",
    "dec = Decoder(OUTPUTDIM, EMBED_DIM, DEC_LAYERS, KERNEL_SIZE, 0., TRG_PAD_IDX, device)\n",
    "\n",
    "model = Seq2Seq(enc, dec).to(device)\n",
    "\n",
    "\n"
   ]
  },
  {
   "cell_type": "code",
   "execution_count": 16,
   "metadata": {},
   "outputs": [
    {
     "data": {
      "text/plain": [
       "Seq2Seq(\n",
       "  (encoder): Encoder(\n",
       "    (embed): Linear(in_features=3, out_features=64, bias=True)\n",
       "    (TCNBlock): TemporalConvNet(\n",
       "      (network): Sequential(\n",
       "        (0): TemporalBlock(\n",
       "          (conv1): Conv1d(64, 128, kernel_size=(3,), stride=(1,), padding=(2,))\n",
       "          (chomp1): Chomp1d()\n",
       "          (relu1): ReLU()\n",
       "          (dropout1): Dropout(p=0.0, inplace=False)\n",
       "          (conv2): Conv1d(128, 128, kernel_size=(3,), stride=(1,), padding=(2,))\n",
       "          (chomp2): Chomp1d()\n",
       "          (relu2): ReLU()\n",
       "          (dropout2): Dropout(p=0.0, inplace=False)\n",
       "          (net): Sequential(\n",
       "            (0): Conv1d(64, 128, kernel_size=(3,), stride=(1,), padding=(2,))\n",
       "            (1): Chomp1d()\n",
       "            (2): ReLU()\n",
       "            (3): Dropout(p=0.0, inplace=False)\n",
       "            (4): Conv1d(128, 128, kernel_size=(3,), stride=(1,), padding=(2,))\n",
       "            (5): Chomp1d()\n",
       "            (6): ReLU()\n",
       "            (7): Dropout(p=0.0, inplace=False)\n",
       "          )\n",
       "          (downsample): Conv1d(64, 128, kernel_size=(1,), stride=(1,))\n",
       "          (relu): ReLU()\n",
       "        )\n",
       "        (1): TemporalBlock(\n",
       "          (conv1): Conv1d(128, 128, kernel_size=(3,), stride=(1,), padding=(4,), dilation=(2,))\n",
       "          (chomp1): Chomp1d()\n",
       "          (relu1): ReLU()\n",
       "          (dropout1): Dropout(p=0.0, inplace=False)\n",
       "          (conv2): Conv1d(128, 128, kernel_size=(3,), stride=(1,), padding=(4,), dilation=(2,))\n",
       "          (chomp2): Chomp1d()\n",
       "          (relu2): ReLU()\n",
       "          (dropout2): Dropout(p=0.0, inplace=False)\n",
       "          (net): Sequential(\n",
       "            (0): Conv1d(128, 128, kernel_size=(3,), stride=(1,), padding=(4,), dilation=(2,))\n",
       "            (1): Chomp1d()\n",
       "            (2): ReLU()\n",
       "            (3): Dropout(p=0.0, inplace=False)\n",
       "            (4): Conv1d(128, 128, kernel_size=(3,), stride=(1,), padding=(4,), dilation=(2,))\n",
       "            (5): Chomp1d()\n",
       "            (6): ReLU()\n",
       "            (7): Dropout(p=0.0, inplace=False)\n",
       "          )\n",
       "          (relu): ReLU()\n",
       "        )\n",
       "        (2): TemporalBlock(\n",
       "          (conv1): Conv1d(128, 128, kernel_size=(3,), stride=(1,), padding=(8,), dilation=(4,))\n",
       "          (chomp1): Chomp1d()\n",
       "          (relu1): ReLU()\n",
       "          (dropout1): Dropout(p=0.0, inplace=False)\n",
       "          (conv2): Conv1d(128, 128, kernel_size=(3,), stride=(1,), padding=(8,), dilation=(4,))\n",
       "          (chomp2): Chomp1d()\n",
       "          (relu2): ReLU()\n",
       "          (dropout2): Dropout(p=0.0, inplace=False)\n",
       "          (net): Sequential(\n",
       "            (0): Conv1d(128, 128, kernel_size=(3,), stride=(1,), padding=(8,), dilation=(4,))\n",
       "            (1): Chomp1d()\n",
       "            (2): ReLU()\n",
       "            (3): Dropout(p=0.0, inplace=False)\n",
       "            (4): Conv1d(128, 128, kernel_size=(3,), stride=(1,), padding=(8,), dilation=(4,))\n",
       "            (5): Chomp1d()\n",
       "            (6): ReLU()\n",
       "            (7): Dropout(p=0.0, inplace=False)\n",
       "          )\n",
       "          (relu): ReLU()\n",
       "        )\n",
       "        (3): TemporalBlock(\n",
       "          (conv1): Conv1d(128, 128, kernel_size=(3,), stride=(1,), padding=(16,), dilation=(8,))\n",
       "          (chomp1): Chomp1d()\n",
       "          (relu1): ReLU()\n",
       "          (dropout1): Dropout(p=0.0, inplace=False)\n",
       "          (conv2): Conv1d(128, 128, kernel_size=(3,), stride=(1,), padding=(16,), dilation=(8,))\n",
       "          (chomp2): Chomp1d()\n",
       "          (relu2): ReLU()\n",
       "          (dropout2): Dropout(p=0.0, inplace=False)\n",
       "          (net): Sequential(\n",
       "            (0): Conv1d(128, 128, kernel_size=(3,), stride=(1,), padding=(16,), dilation=(8,))\n",
       "            (1): Chomp1d()\n",
       "            (2): ReLU()\n",
       "            (3): Dropout(p=0.0, inplace=False)\n",
       "            (4): Conv1d(128, 128, kernel_size=(3,), stride=(1,), padding=(16,), dilation=(8,))\n",
       "            (5): Chomp1d()\n",
       "            (6): ReLU()\n",
       "            (7): Dropout(p=0.0, inplace=False)\n",
       "          )\n",
       "          (relu): ReLU()\n",
       "        )\n",
       "        (4): TemporalBlock(\n",
       "          (conv1): Conv1d(128, 128, kernel_size=(3,), stride=(1,), padding=(32,), dilation=(16,))\n",
       "          (chomp1): Chomp1d()\n",
       "          (relu1): ReLU()\n",
       "          (dropout1): Dropout(p=0.0, inplace=False)\n",
       "          (conv2): Conv1d(128, 128, kernel_size=(3,), stride=(1,), padding=(32,), dilation=(16,))\n",
       "          (chomp2): Chomp1d()\n",
       "          (relu2): ReLU()\n",
       "          (dropout2): Dropout(p=0.0, inplace=False)\n",
       "          (net): Sequential(\n",
       "            (0): Conv1d(128, 128, kernel_size=(3,), stride=(1,), padding=(32,), dilation=(16,))\n",
       "            (1): Chomp1d()\n",
       "            (2): ReLU()\n",
       "            (3): Dropout(p=0.0, inplace=False)\n",
       "            (4): Conv1d(128, 128, kernel_size=(3,), stride=(1,), padding=(32,), dilation=(16,))\n",
       "            (5): Chomp1d()\n",
       "            (6): ReLU()\n",
       "            (7): Dropout(p=0.0, inplace=False)\n",
       "          )\n",
       "          (relu): ReLU()\n",
       "        )\n",
       "        (5): TemporalBlock(\n",
       "          (conv1): Conv1d(128, 128, kernel_size=(3,), stride=(1,), padding=(64,), dilation=(32,))\n",
       "          (chomp1): Chomp1d()\n",
       "          (relu1): ReLU()\n",
       "          (dropout1): Dropout(p=0.0, inplace=False)\n",
       "          (conv2): Conv1d(128, 128, kernel_size=(3,), stride=(1,), padding=(64,), dilation=(32,))\n",
       "          (chomp2): Chomp1d()\n",
       "          (relu2): ReLU()\n",
       "          (dropout2): Dropout(p=0.0, inplace=False)\n",
       "          (net): Sequential(\n",
       "            (0): Conv1d(128, 128, kernel_size=(3,), stride=(1,), padding=(64,), dilation=(32,))\n",
       "            (1): Chomp1d()\n",
       "            (2): ReLU()\n",
       "            (3): Dropout(p=0.0, inplace=False)\n",
       "            (4): Conv1d(128, 128, kernel_size=(3,), stride=(1,), padding=(64,), dilation=(32,))\n",
       "            (5): Chomp1d()\n",
       "            (6): ReLU()\n",
       "            (7): Dropout(p=0.0, inplace=False)\n",
       "          )\n",
       "          (relu): ReLU()\n",
       "        )\n",
       "      )\n",
       "    )\n",
       "    (conv2emb): Linear(in_features=128, out_features=64, bias=True)\n",
       "    (dropout): Dropout(p=0.0, inplace=False)\n",
       "  )\n",
       "  (decoder): Decoder(\n",
       "    (Linear1): Linear(in_features=1, out_features=64, bias=True)\n",
       "    (attn_emb2out): Linear(in_features=64, out_features=1, bias=True)\n",
       "    (attn_out2emb): Linear(in_features=1, out_features=64, bias=True)\n",
       "    (fc_out): Linear(in_features=64, out_features=1, bias=True)\n",
       "    (convs): ModuleList(\n",
       "      (0): Conv1d(64, 128, kernel_size=(3,), stride=(1,))\n",
       "      (1): Conv1d(64, 128, kernel_size=(3,), stride=(1,))\n",
       "      (2): Conv1d(64, 128, kernel_size=(3,), stride=(1,))\n",
       "      (3): Conv1d(64, 128, kernel_size=(3,), stride=(1,))\n",
       "      (4): Conv1d(64, 128, kernel_size=(3,), stride=(1,))\n",
       "      (5): Conv1d(64, 128, kernel_size=(3,), stride=(1,))\n",
       "      (6): Conv1d(64, 128, kernel_size=(3,), stride=(1,))\n",
       "      (7): Conv1d(64, 128, kernel_size=(3,), stride=(1,))\n",
       "      (8): Conv1d(64, 128, kernel_size=(3,), stride=(1,))\n",
       "      (9): Conv1d(64, 128, kernel_size=(3,), stride=(1,))\n",
       "    )\n",
       "    (dropout): Dropout(p=0.0, inplace=False)\n",
       "  )\n",
       ")"
      ]
     },
     "execution_count": 16,
     "metadata": {},
     "output_type": "execute_result"
    }
   ],
   "source": [
    "\n",
    "model.load_state_dict(torch.load ('models/0731 TCN attention model 0.pt', map_location='cpu'))\n",
    "model.eval()\n"
   ]
  },
  {
   "cell_type": "code",
   "execution_count": 17,
   "metadata": {
    "collapsed": true
   },
   "outputs": [],
   "source": [
    "real_up=pd.DataFrame(real_flex_up).T"
   ]
  },
  {
   "cell_type": "code",
   "execution_count": 52,
   "metadata": {},
   "outputs": [
    {
     "data": {
      "text/plain": [
       "array([ 25.16,  19.28,  75.76, 102.48, 122.52, 220.4 , 333.48,   0.  ,\n",
       "         0.  ,   0.  ,   0.  ,   0.  ,   0.  ,   0.  ,   0.  ,   0.  ,\n",
       "         0.  ,   0.  ,   0.  ,   0.  ,   0.  ,   0.  ,   0.  ,   0.  ,\n",
       "         0.  ,   0.  ,   0.  ,   0.  ,   0.  ,   0.  ,   0.  ,   0.  ,\n",
       "         0.  ,   0.  ,   0.  ,   0.  ,   0.  ,   0.  ,   0.  ,   0.  ,\n",
       "         0.  ,   0.  ,   0.  ,   0.  ,   0.  ,   0.  ,   0.  ,   0.  ,\n",
       "         0.  ,   0.  ,   0.  ,   0.  ,   0.  ,   0.  ,   0.  ,   0.  ,\n",
       "         0.  ,   0.  ,   0.  ,   0.  ,   0.  ,   0.  ,   0.  ,   0.  ,\n",
       "         0.  ,   0.  ,   0.  ,   0.  ,   0.  ,   0.  ,   0.  ,   0.  ,\n",
       "         0.  ,   0.  ,   0.  ,   0.  ,   0.  ,   0.  ,   0.  ,   0.  ,\n",
       "         0.  ,   0.  ,   0.  ,   0.  ,   0.  ,   0.  ,   0.  ,   0.  ,\n",
       "         0.  ,   0.  ,   0.  ,   0.  ,   0.  ,   0.  ,   0.  ,   0.  ])"
      ]
     },
     "execution_count": 52,
     "metadata": {},
     "output_type": "execute_result"
    }
   ],
   "source": [
    "real_up[0].values"
   ]
  },
  {
   "cell_type": "code",
   "execution_count": 49,
   "metadata": {
    "collapsed": true
   },
   "outputs": [],
   "source": [
    "pre_flex ,_= model(torch.Tensor(test_up[0].reshape(1,96,3)),torch.Tensor(real_up[0].values.reshape(1,96,1)))"
   ]
  },
  {
   "cell_type": "code",
   "execution_count": 50,
   "metadata": {},
   "outputs": [
    {
     "data": {
      "text/plain": [
       "array([[ 2.1032701e+01,  1.8830812e+01,  6.7265648e+01,  9.6955276e+01,\n",
       "         1.0855367e+02,  1.9197731e+02,  2.9206400e+02, -2.2208218e+01,\n",
       "        -1.2863183e+00, -7.2351837e+00, -9.0670147e+00,  5.8547556e-01,\n",
       "         6.8779051e-01,  5.4932203e-02,  2.4586777e-01,  6.2678978e-02,\n",
       "         8.0680661e-03,  1.5356850e-02,  2.3343973e-03, -2.0182505e-04,\n",
       "         9.6943602e-04,  1.3360940e-03,  1.2890361e-03,  1.2727492e-03,\n",
       "         1.2734048e-03,  1.2740307e-03,  1.2740605e-03,  1.2740605e-03,\n",
       "         1.2740605e-03,  1.2740605e-03,  1.2740605e-03,  1.2740605e-03,\n",
       "         1.2740605e-03,  1.2740605e-03,  1.2740605e-03,  1.2740605e-03,\n",
       "         1.2740605e-03,  1.2740605e-03,  1.2740605e-03,  1.2740605e-03,\n",
       "         1.2740605e-03,  1.2740605e-03,  1.2740605e-03,  1.2740605e-03,\n",
       "         1.2740605e-03,  1.2740605e-03,  1.2740605e-03,  1.2740605e-03,\n",
       "         1.2740605e-03,  1.2740605e-03,  1.2740605e-03,  1.2740605e-03,\n",
       "         1.2740605e-03,  1.2740605e-03,  1.2740605e-03,  1.2740605e-03,\n",
       "         1.2740605e-03,  1.2740605e-03,  1.2740605e-03,  1.2740605e-03,\n",
       "         1.2740605e-03,  1.2740605e-03,  1.2740605e-03,  1.2740605e-03,\n",
       "         1.2740605e-03,  1.2740605e-03,  1.2740605e-03,  1.2740605e-03,\n",
       "         1.2740605e-03,  1.2740605e-03,  1.2740605e-03,  1.2740605e-03,\n",
       "         1.2740605e-03,  1.2740605e-03,  1.2740605e-03,  1.2740605e-03,\n",
       "         1.2740605e-03,  1.2740605e-03,  1.2740605e-03,  1.2740605e-03,\n",
       "         1.2740605e-03,  1.2740605e-03,  1.2740605e-03,  1.2740605e-03,\n",
       "         1.2740605e-03,  1.2740605e-03,  1.2740605e-03,  1.2740605e-03,\n",
       "         1.2740605e-03,  1.2740605e-03,  1.2740605e-03,  1.2740605e-03,\n",
       "         1.2740605e-03,  1.2740605e-03,  1.2740605e-03,  1.2740605e-03]],\n",
       "      dtype=float32)"
      ]
     },
     "execution_count": 50,
     "metadata": {},
     "output_type": "execute_result"
    }
   ],
   "source": [
    "pre_flex.view(1,96).detach().numpy()"
   ]
  },
  {
   "cell_type": "code",
   "execution_count": 35,
   "metadata": {
    "collapsed": true
   },
   "outputs": [],
   "source": [
    "pre_flex_up=[]\n",
    "for i in range(96):\n",
    "    pre_flex,_ = model(torch.Tensor(test_up[i].reshape(1,96,3)),torch.Tensor(real_up[i].values.reshape(1,96,1)) )\n",
    "    scaler.fit_transform(df['p_flex'].values.reshape(-1,1))\n",
    "    pre_flex = scaler.inverse_transform( pre_flex.view(1,96).detach().numpy())\n",
    "    pre_flex_up.append(pre_flex)\n",
    "pre_flex_up = np.array(pre_flex_up)\n"
   ]
  },
  {
   "cell_type": "code",
   "execution_count": 37,
   "metadata": {},
   "outputs": [
    {
     "data": {
      "text/plain": [
       "array([[ 9.2216802e-01,  9.3336177e-01,  3.7327164e+04,  5.6521445e+04,\n",
       "         6.6403789e+04,  1.1604300e+05,  1.7553075e+05,  1.9000608e+05,\n",
       "        -7.6183701e+03, -4.9609590e+03, -7.3839155e+03, -4.7798853e+03,\n",
       "        -5.5776996e+02,  1.2968600e+03,  1.9625121e+02,  9.8704048e+01,\n",
       "         8.4877029e+01,  1.5773255e+01,  6.5292993e+00,  1.1534191e+00,\n",
       "         9.5732510e-03,  5.8057082e-01,  8.2340014e-01,  7.9586279e-01,\n",
       "         7.8103912e-01,  7.8174543e-01,  7.8212094e-01,  7.8212094e-01,\n",
       "         7.8209412e-01,  7.8209412e-01,  7.8209412e-01,  7.8209412e-01,\n",
       "         7.8209412e-01,  7.8209412e-01,  7.8209412e-01,  7.8209412e-01,\n",
       "         7.8209412e-01,  7.8209412e-01,  7.8209412e-01,  7.8209412e-01,\n",
       "         7.8209412e-01,  7.8209412e-01,  7.8209412e-01,  7.8209412e-01,\n",
       "         7.8209412e-01,  7.8209412e-01,  7.8209412e-01,  7.8209412e-01,\n",
       "         7.8209412e-01,  7.8209412e-01,  7.8209412e-01,  7.8209412e-01,\n",
       "         7.8209412e-01,  7.8209412e-01,  7.8209412e-01,  7.8209412e-01,\n",
       "         7.8209412e-01,  7.8209412e-01,  7.8209412e-01,  7.8209412e-01,\n",
       "         7.8209412e-01,  7.8209412e-01,  7.8209412e-01,  7.8209412e-01,\n",
       "         7.8209412e-01,  7.8209412e-01,  7.8209412e-01,  7.8209412e-01,\n",
       "         7.8209412e-01,  7.8209412e-01,  7.8209412e-01,  7.8209412e-01,\n",
       "         7.8209412e-01,  7.8209412e-01,  7.8209412e-01,  7.8209412e-01,\n",
       "         7.8209412e-01,  7.8209412e-01,  7.8209412e-01,  7.8209412e-01,\n",
       "         7.8209412e-01,  7.8209412e-01,  7.8209412e-01,  7.8209412e-01,\n",
       "         7.8209412e-01,  7.8209412e-01,  7.8209412e-01,  7.8209412e-01,\n",
       "         7.8209412e-01,  7.8209412e-01,  7.8209412e-01,  7.8209412e-01,\n",
       "         7.8209412e-01,  7.8209412e-01,  7.8209412e-01,  7.8209412e-01]],\n",
       "      dtype=float32)"
      ]
     },
     "execution_count": 37,
     "metadata": {},
     "output_type": "execute_result"
    }
   ],
   "source": [
    "pre_flex_up[2]"
   ]
  },
  {
   "cell_type": "code",
   "execution_count": 38,
   "metadata": {
    "collapsed": true
   },
   "outputs": [],
   "source": [
    "real_down=pd.DataFrame(real_flex_down).T\n",
    "pre_flex_down=[]\n",
    "for i in range(96):\n",
    "    pre_flex, _ = model(torch.Tensor(test_down[i].reshape(1,96,3)),torch.Tensor(real_down[i].values.reshape(1,96,1)) )\n",
    "    scaler.fit_transform(df['p_flex'].values.reshape(-1,1))\n",
    "    pre_flex = scaler.inverse_transform( pre_flex.view(1,96).detach().numpy())\n",
    "    pre_flex_down.append(pre_flex)\n",
    "pre_flex_down = np.array(pre_flex_down)\n"
   ]
  },
  {
   "cell_type": "code",
   "execution_count": 39,
   "metadata": {
    "collapsed": true
   },
   "outputs": [],
   "source": [
    "#生成灵活度表征函数\n",
    "#上备用\n",
    "real_up_1step=[]\n",
    "for i in range(96):\n",
    "    a=real_flex_up[i][i]\n",
    "    real_up_1step.append(a)\n",
    "real_up_1step=np.array(real_up_1step)\n",
    "\n",
    "real_up_2step=[]\n",
    "for i in range(48):\n",
    "    a=[real_flex_up[i][i],real_flex_up[i][i+1]]\n",
    "    b=np.min(a)\n",
    "    real_up_2step.append(b)\n",
    "    real_up_2step.append(b)\n",
    "real_up_2step=np.array(real_up_2step)\n",
    "\n",
    "real_up_4step=[]\n",
    "for i in range(24):\n",
    "    a=[real_flex_up[i][i],real_flex_up[i][i+1],real_flex_up[i][i+2],real_flex_up[i][i+3]]\n",
    "    b=np.min(a)\n",
    "    real_up_4step.append(b)\n",
    "    real_up_4step.append(b)\n",
    "    real_up_4step.append(b)\n",
    "    real_up_4step.append(b)\n",
    "real_up_4step=np.array(real_up_4step)\n",
    " \n",
    "\n"
   ]
  },
  {
   "cell_type": "code",
   "execution_count": 40,
   "metadata": {
    "collapsed": true
   },
   "outputs": [],
   "source": [
    "pre_flex_up=pre_flex_up.reshape(96,96)\n",
    "pre_flex_down=pre_flex_down.reshape(96,96)"
   ]
  },
  {
   "cell_type": "code",
   "execution_count": 41,
   "metadata": {
    "collapsed": true
   },
   "outputs": [],
   "source": [
    "pre_up_1step=[]\n",
    "for i in range(96):\n",
    "    a=pre_flex_up[i][i]\n",
    "    pre_up_1step.append(a)\n",
    "pre_up_1step=np.array(pre_up_1step)\n",
    "\n",
    "pre_up_2step=[]\n",
    "for i in range(48):\n",
    "    a=[pre_flex_up[i][i],pre_flex_up[i][i+1]]\n",
    "    b=np.min(a)\n",
    "    pre_up_2step.append(b)\n",
    "    pre_up_2step.append(b)\n",
    "pre_up_2step=np.array(pre_up_2step)\n",
    "\n",
    "pre_up_4step=[]\n",
    "for i in range(24):\n",
    "    a=[pre_flex_up[i][i],pre_flex_up[i][i+1],pre_flex_up[i][i+2],pre_flex_up[i][i+3]]\n",
    "    b=np.min(a)\n",
    "    pre_up_4step.append(b)\n",
    "    pre_up_4step.append(b)\n",
    "    pre_up_4step.append(b)\n",
    "    pre_up_4step.append(b)\n",
    "pre_up_4step=np.array(pre_up_4step)\n",
    " \n",
    "\n"
   ]
  },
  {
   "cell_type": "code",
   "execution_count": 42,
   "metadata": {
    "collapsed": true
   },
   "outputs": [],
   "source": [
    "#下备用\n",
    "real_down_1step=[]\n",
    "for i in range(96):\n",
    "    a=real_flex_down[i][i]\n",
    "    real_down_1step.append(a)\n",
    "real_down_1step=np.array(real_down_1step)\n",
    "\n",
    "real_down_2step=[]\n",
    "for i in range(48):\n",
    "    a=[real_flex_down[i][i],real_flex_down[i][i+1]]\n",
    "    b=np.min(a)\n",
    "    real_down_2step.append(b)\n",
    "    real_down_2step.append(b)\n",
    "real_down_2step=np.array(real_down_2step)\n",
    "\n",
    "real_down_4step=[]\n",
    "for i in range(24):\n",
    "    a=[real_flex_down[i][i],real_flex_down[i][i+1],real_flex_down[i][i+2],real_flex_down[i][i+3]]\n",
    "    b=np.min(a)\n",
    "    real_down_4step.append(b)\n",
    "    real_down_4step.append(b)\n",
    "    real_down_4step.append(b)\n",
    "    real_down_4step.append(b)\n",
    "real_down_4step=np.array(real_down_4step)\n",
    " \n",
    "\n",
    "\n"
   ]
  },
  {
   "cell_type": "code",
   "execution_count": 43,
   "metadata": {
    "collapsed": true
   },
   "outputs": [],
   "source": [
    "pre_down_1step=[]\n",
    "for i in range(96):\n",
    "    a=pre_flex_down[i][i]\n",
    "    pre_down_1step.append(a)\n",
    "pre_down_1step=np.array(pre_down_1step)\n",
    "\n",
    "pre_down_2step=[]\n",
    "for i in range(48):\n",
    "    a=[pre_flex_down[i][i],pre_flex_down[i][i+1]]\n",
    "    b=np.min(a)\n",
    "    pre_down_2step.append(b)\n",
    "    pre_down_2step.append(b)\n",
    "pre_down_2step=np.array(pre_down_2step)\n",
    "\n",
    "pre_down_4step=[]\n",
    "for i in range(24):\n",
    "    a=[pre_flex_down[i][i],pre_flex_down[i][i+1],pre_flex_down[i][i+2],pre_flex_down[i][i+3]]\n",
    "    b=np.min(a)\n",
    "    pre_down_4step.append(b)\n",
    "    pre_down_4step.append(b)\n",
    "    pre_down_4step.append(b)\n",
    "    pre_down_4step.append(b)\n",
    "pre_down_4step=np.array(pre_down_4step)\n",
    " \n",
    "\n"
   ]
  },
  {
   "cell_type": "code",
   "execution_count": 44,
   "metadata": {},
   "outputs": [
    {
     "data": {
      "text/plain": [
       "(96,)"
      ]
     },
     "execution_count": 44,
     "metadata": {},
     "output_type": "execute_result"
    }
   ],
   "source": [
    "pre_up_1step.shape"
   ]
  },
  {
   "cell_type": "code",
   "execution_count": 46,
   "metadata": {},
   "outputs": [
    {
     "data": {
      "image/png": "[encoded data removed]",
      "text/plain": [
       "<Figure size 720x360 with 3 Axes>"
      ]
     },
     "metadata": {
      "needs_background": "light"
     },
     "output_type": "display_data"
    }
   ],
   "source": [
    "#画图\n",
    "plt.figure(figsize=(10,5))\n",
    "ax1 = plt.subplot(311)\n",
    "x1=np.linspace(0,96,96).astype(int)\n",
    "l1=plt.step(x1,real_up_1step,label='one step up backup')\n",
    "l2=plt.step(x1,pre_up_1step/500,label='one step predicted backup')\n",
    "plt.legend(loc = 'upper right')\n",
    "# plt.yticks(y)\n",
    "plt.grid()\n",
    "\n",
    "ax2 = plt.subplot(312)\n",
    "l1=plt.step(x1,real_up_2step,label='two step up backup')\n",
    "l2=plt.step(x1,pre_up_2step/500,label='two step predicted backup')\n",
    "plt.legend(loc = 'upper right')\n",
    "# plt.yticks(y)\n",
    "plt.grid()\n",
    "\n",
    "ax3 = plt.subplot(313)\n",
    "l1=plt.step(x1,real_up_4step,label='four step up backup')\n",
    "l2=plt.step(x1,pre_up_4step/500,label='four step predicted backup')\n",
    "plt.legend(loc = 'upper right')\n",
    "# plt.yticks(y)\n",
    "plt.grid()\n",
    "\n",
    "\n",
    "\n",
    "plt.show()\n",
    "\n"
   ]
  },
  {
   "cell_type": "code",
   "execution_count": 51,
   "metadata": {},
   "outputs": [
    {
     "data": {
      "image/png": "[encoded data removed]",
      "text/plain": [
       "<Figure size 720x360 with 3 Axes>"
      ]
     },
     "metadata": {
      "needs_background": "light"
     },
     "output_type": "display_data"
    }
   ],
   "source": [
    "plt.figure(figsize=(10,5))\n",
    "ax1 = plt.subplot(311)\n",
    "x1=np.linspace(0,96,96).astype(int)\n",
    "l1=plt.step(x1,real_down_1step,label='one step down backup')\n",
    "l2=plt.step(x1,pre_down_1step/500,label='one step predicted backup')\n",
    "plt.legend(loc = 'upper right')\n",
    "# plt.yticks(y)\n",
    "plt.grid()\n",
    "\n",
    "ax2 = plt.subplot(312)\n",
    "l1=plt.step(x1,real_down_2step,label='two step down backup')\n",
    "l2=plt.step(x1,pre_down_2step/500,label='two step predicted backup')\n",
    "plt.legend(loc = 'upper right')\n",
    "# plt.yticks(y)\n",
    "plt.grid()\n",
    "\n",
    "ax3 = plt.subplot(313)\n",
    "l1=plt.step(x1,real_down_4step,label='four step down backup')\n",
    "l2=plt.step(x1,pre_down_4step/500,label='four step predicted backup')\n",
    "plt.legend(loc = 'upper right')\n",
    "# plt.yticks(y)\n",
    "plt.grid()\n",
    "\n",
    "\n",
    "\n",
    "plt.show()\n",
    "\n"
   ]
  },
  {
   "cell_type": "code",
   "execution_count": 54,
   "metadata": {
    "collapsed": true
   },
   "outputs": [],
   "source": [
    "MAX_EPOCH = 2000\n",
    "train_loss_plot = np.load(r'G:\\科研\\代码\\July_coding\\code\\train_loss_plot.npy')\n",
    "val_loss_plot = np.load(r'G:\\科研\\代码\\July_coding\\code\\val_loss_plot.npy')\n",
    "train_loss_plot = np.reshape(train_loss_plot, [MAX_EPOCH, -1])\n",
    "val_loss_plot = np.reshape(val_loss_plot, [MAX_EPOCH, -1])"
   ]
  },
  {
   "cell_type": "code",
   "execution_count": null,
   "metadata": {
    "collapsed": true
   },
   "outputs": [],
   "source": [
    "train"
   ]
  },
  {
   "cell_type": "code",
   "execution_count": 56,
   "metadata": {},
   "outputs": [
    {
     "data": {
      "text/plain": [
       "<matplotlib.legend.Legend at 0x1fb888bc780>"
      ]
     },
     "execution_count": 56,
     "metadata": {},
     "output_type": "execute_result"
    },
    {
     "data": {
      "image/png": "[encoded data removed]",
      "text/plain": [
       "<Figure size 432x288 with 1 Axes>"
      ]
     },
     "metadata": {
      "needs_background": "light"
     },
     "output_type": "display_data"
    }
   ],
   "source": [
    "plt.figure()\n",
    "plt.plot(train_loss_plot)\n",
    "plt.plot(val_loss_plot)\n",
    "plt.legend(['train_loss_curve', 'val_loss_curve'])"
   ]
  },
  {
   "cell_type": "code",
   "execution_count": null,
   "metadata": {
    "collapsed": true
   },
   "outputs": [],
   "source": [
    "np.save('700 ')"
   ]
  }
 ],
 "metadata": {
  "kernelspec": {
   "display_name": "Python [conda env:pytorch-cpu]",
   "language": "python",
   "name": "conda-env-pytorch-cpu-py"
  },
  "language_info": {
   "codemirror_mode": {
    "name": "ipython",
    "version": 3
   },
   "file_extension": ".py",
   "mimetype": "text/x-python",
   "name": "python",
   "nbconvert_exporter": "python",
   "pygments_lexer": "ipython3",
   "version": "3.6.10"
  }
 },
 "nbformat": 4,
 "nbformat_minor": 2
}
