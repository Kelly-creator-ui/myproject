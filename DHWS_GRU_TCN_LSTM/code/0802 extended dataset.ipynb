{
 "cells": [
  {
   "cell_type": "code",
   "execution_count": 2,
   "metadata": {
    "collapsed": true
   },
   "outputs": [],
   "source": [
    "import pandas as pd\n",
    "from sklearn.preprocessing import MinMaxScaler\n",
    "\n",
    "import matplotlib.pyplot as plt\n",
    "import matplotlib.ticker as ticker\n",
    "\n",
    "\n",
    "import numpy as np\n",
    "\n",
    "import random\n",
    "import math\n",
    "import time\n",
    "import pandas as pd\n",
    "import scipy.io\n",
    "import torch\n"
   ]
  },
  {
   "cell_type": "code",
   "execution_count": 19,
   "metadata": {
    "collapsed": true
   },
   "outputs": [],
   "source": [
    "data = np.load('data/07 200user.npy')"
   ]
  },
  {
   "cell_type": "code",
   "execution_count": 20,
   "metadata": {},
   "outputs": [
    {
     "data": {
      "text/plain": [
       "(23328, 5)"
      ]
     },
     "execution_count": 20,
     "metadata": {},
     "output_type": "execute_result"
    }
   ],
   "source": [
    "data.shape"
   ]
  },
  {
   "cell_type": "code",
   "execution_count": 21,
   "metadata": {
    "collapsed": true
   },
   "outputs": [],
   "source": [
    "p_base = []\n",
    "for i in range(243):\n",
    "    p_base.append(data[i*96:(i+1)*96,0])\n"
   ]
  },
  {
   "cell_type": "code",
   "execution_count": 23,
   "metadata": {
    "collapsed": true
   },
   "outputs": [],
   "source": [
    "tariff = data[:96,3].tolist()\n"
   ]
  },
  {
   "cell_type": "code",
   "execution_count": 24,
   "metadata": {
    "collapsed": true
   },
   "outputs": [],
   "source": [
    "#生成up和down不同的96组信号\n",
    "down = []\n",
    "for i in range(96):\n",
    "    row = []\n",
    "    for j in range(96):\n",
    "        if j < i:\n",
    "            row.append(0)\n",
    "        else:\n",
    "            row.append(-1)\n",
    "    down.append(row)\n",
    "down = np.array(down)\n",
    "\n",
    "up = []\n",
    "for i in range(96):\n",
    "    row = []\n",
    "    for j in range(96):\n",
    "        if j < i:\n",
    "            row.append(0)\n",
    "        else:\n",
    "            row.append(1)\n",
    "    up.append(row)\n",
    "up = np.array(up)\n",
    "\n",
    "# 生成一天的灵活度\n",
    "def flexoneday(p_base, t_base, dr_sig, userpattern):\n",
    "    p_flex = np.zeros(96 , dtype=int)\n",
    "    for i in range(200):\n",
    "        flex = np.zeros(96, dtype=int).tolist()\n",
    "        temp = t_base[i]\n",
    "        p = p_base[i]\n",
    "        pattern = userpattern[i]\n",
    "        for j in range(96 - 1):\n",
    "            if dr_sig[j] == 0:\n",
    "                flex[j] = 0\n",
    "            elif dr_sig[j] == -1:\n",
    "                flex[j] = p[j]\n",
    "                p[j] = 0\n",
    "                if pattern[j] == 1 or pattern[j] == 2 or pattern[j] == 5:\n",
    "                    temp[j + 1] = temp[j] - 1.142\n",
    "                elif pattern[j] == 3:\n",
    "                    temp[j + 1] = temp[j] - 8.14\n",
    "                else:\n",
    "                    temp[j + 1] = temp[j] - 15.143\n",
    "                if temp[j] <= 60:\n",
    "                    flex[j] = 0  # 温控信号与dr信号对冲，此后灵活度均降为零\n",
    "            else:  # 正1信号代表此刻功率变为最大功率\n",
    "                flex[j] = 3 - p[j]\n",
    "                p[j] = 3\n",
    "                if pattern[j] == 1 or pattern[j] == 2 or pattern[j] == 5:\n",
    "                    temp[j + 1] = temp[j] + 6.4\n",
    "                elif pattern[j] == 3:\n",
    "                    temp[j + 1] = temp[j] - 4.6\n",
    "                else:\n",
    "                    temp[j + 1] = temp[j] - 8.6\n",
    "                if temp[j] >= 100:\n",
    "                    flex[j] = 0  # 温控信号与dr信号对冲，灵活度降为零\n",
    "        p_flex = p_flex + np.array(flex)\n",
    "    return p_flex\n"
   ]
  },
  {
   "cell_type": "code",
   "execution_count": 25,
   "metadata": {
    "collapsed": true
   },
   "outputs": [],
   "source": [
    "device = torch.device('cuda') if torch.cuda.is_available() else torch.device('cpu')"
   ]
  },
  {
   "cell_type": "code",
   "execution_count": 26,
   "metadata": {},
   "outputs": [
    {
     "name": "stdout",
     "output_type": "stream",
     "text": [
      "(200, 23328) (200, 23328) (200, 23328)\n"
     ]
    }
   ],
   "source": [
    "ZP1 = np.load('data/ZP1.npy')\n",
    "ZP = np.load('data/ZP.npy')\n",
    "ZT = np.load('data/ZT.npy')\n",
    "pattern200 = np.load('data/0519 2000userpattern.npy')[:200, 1:]\n",
    "print(ZP1.shape,ZT.shape,pattern200.shape)"
   ]
  },
  {
   "cell_type": "code",
   "execution_count": 27,
   "metadata": {
    "collapsed": true
   },
   "outputs": [],
   "source": [
    "# real_flex_down = []\n",
    "# for i in range(29):\n",
    "#     flex1 = []\n",
    "#     for j in range(96):\n",
    "#         p = ZP1[:, 243*96-96*(29-i) : 243*96-96*(28-i)].copy()# 这一步很关键，否则函数会直接对ZP1进行修改，无法循环\n",
    "#         t = ZT[:, 243*96-96*(29-i) : 243*96-96*(28-i)].copy()# 同上\n",
    "#         a = down[j]\n",
    "#         flex = flexoneday(p, t , a, pattern200[:,243*96-96*(29-i) : 243*96-96*(28-i)]).tolist()\n",
    "#         flex1.append(flex)\n",
    "#     real_flex_down.append(flex1)\n",
    "# real_flex_down = np.array(real_flex_down)"
   ]
  },
  {
   "cell_type": "code",
   "execution_count": 28,
   "metadata": {
    "collapsed": true
   },
   "outputs": [],
   "source": [
    "ext_pbase = []\n",
    "ext_ds = []\n",
    "ext_pflex = []\n",
    "ext_tariff = []\n",
    "\n",
    "p = ZP1[:, 96: 2* 96].copy()\n",
    "t = ZT[:, 96: 2* 96].copy()\n",
    "pattern = pattern200[:, 96: 2* 96]\n",
    "a = up[3].tolist()\n",
    "flex = flexoneday(p, t, a, pattern).tolist()\n",
    "ext_pflex += flex\n",
    "ext_pbase += data[96: 2* 96,0].tolist()\n",
    "ext_tariff += tariff\n",
    "ext_ds += a\n",
    "\n",
    "p = ZP1[:, 96: 2* 96].copy()\n",
    "t = ZT[:, 96: 2* 96].copy()\n",
    "a = down[3].tolist()\n",
    "pattern = pattern200[:, 96: 2* 96]\n",
    "flex = flexoneday(p, t, a, pattern).tolist()\n",
    "ext_pflex += flex\n",
    "ext_pbase += data[96: 2* 96,0].tolist()\n",
    "ext_tariff += tariff\n"
   ]
  },
  {
   "cell_type": "code",
   "execution_count": 29,
   "metadata": {
    "collapsed": true
   },
   "outputs": [],
   "source": [
    "ds_0 = np.zeros(96, dtype=int).tolist()\n",
    "ext_pbase = []\n",
    "ext_ds = []\n",
    "ext_pflex = []\n",
    "ext_tariff = []\n",
    "for i in range(242):\n",
    "    for j in range(96):\n",
    "        p = ZP1[:, i*96:(i + 1)*96].copy()\n",
    "        t = ZT[:, i*96:(i + 1)*96].copy()\n",
    "        pattern = pattern200[:, i*96:(i + 1)*96]\n",
    "        a = up[j].tolist()\n",
    "        flex = flexoneday(p, t, a, pattern).tolist()\n",
    "        ext_pflex += flex\n",
    "        ext_pbase += data[i*96:(i + 1)*96,0].tolist()\n",
    "        ext_tariff += tariff\n",
    "        ext_ds += a\n",
    "    for j in range(96):\n",
    "        p = ZP1[:, i*96:(i + 1)*96].copy()\n",
    "        t = ZT[:, i*96:(i + 1)*96].copy()\n",
    "        a = down[j].tolist()\n",
    "        pattern = pattern200[:, i*96:(i + 1)*96]\n",
    "        flex = flexoneday(p, t, a, pattern).tolist()\n",
    "        ext_pflex += flex\n",
    "        ext_pbase += data[i*96:(i + 1)*96,0].tolist()\n",
    "        ext_tariff += tariff\n",
    "        ext_ds += a\n",
    "    for j in range(14):\n",
    "        p = ZP1[:, i*96:(i + 1)*96].copy()\n",
    "        t = ZT[:, i*96:(i + 1)*96].copy()\n",
    "        pattern = pattern200[:, i*96:(i + 1)*96]\n",
    "        flex = flexoneday(p, t, ds_0, pattern).tolist()\n",
    "        ext_pflex += flex\n",
    "        ext_pbase += data[i*96:(i + 1)*96,0].tolist()\n",
    "        ext_tariff += tariff\n",
    "        ext_ds += ds_0\n",
    "ext_pbase = np.array(ext_pbase)\n",
    "ext_ds = np.array(ext_ds)\n",
    "ext_pflex = np.array(ext_pflex)\n",
    "ext_tariff = np.array(ext_tariff)"
   ]
  },
  {
   "cell_type": "code",
   "execution_count": 114,
   "metadata": {},
   "outputs": [
    {
     "data": {
      "text/plain": [
       "19776"
      ]
     },
     "execution_count": 114,
     "metadata": {},
     "output_type": "execute_result"
    }
   ],
   "source": [
    "96*96*2+14*96"
   ]
  },
  {
   "cell_type": "code",
   "execution_count": 30,
   "metadata": {},
   "outputs": [
    {
     "name": "stdout",
     "output_type": "stream",
     "text": [
      "(4785792,) (4785792,) (4785792,) (4785792,)\n"
     ]
    }
   ],
   "source": [
    "print(ext_pbase.shape,ext_ds.shape,ext_pflex.shape,ext_tariff.shape)"
   ]
  },
  {
   "cell_type": "code",
   "execution_count": 31,
   "metadata": {},
   "outputs": [
    {
     "data": {
      "text/plain": [
       "49852.0"
      ]
     },
     "execution_count": 31,
     "metadata": {},
     "output_type": "execute_result"
    }
   ],
   "source": [
    "4785792/96"
   ]
  },
  {
   "cell_type": "code",
   "execution_count": 32,
   "metadata": {
    "collapsed": true
   },
   "outputs": [],
   "source": [
    "data1={'p_norm':ext_pbase,'p_flex':ext_pflex,'ls':ext_ds,'tariff':ext_tariff}\n",
    "df = pd.DataFrame(data1)\n",
    "df.to_csv('data/0803 extended data 3.csv')"
   ]
  },
  {
   "cell_type": "code",
   "execution_count": 43,
   "metadata": {
    "collapsed": true
   },
   "outputs": [],
   "source": [
    "data = np.array(pd.read_csv('data/0803 extended data 3.csv')[[\"ls\", \"tariff\", \"p_flex\"]])[206*96*2:,]\n",
    "power = np.array(pd.read_csv('data/0728 200user.csv')[[\"p_norm\", \"tariff\"]])[:-96*3, ] "
   ]
  },
  {
   "cell_type": "code",
   "execution_count": 41,
   "metadata": {},
   "outputs": [
    {
     "name": "stdout",
     "output_type": "stream",
     "text": [
      "(4746240, 3) (23040, 2)\n"
     ]
    }
   ],
   "source": [
    "print(data.shape,power.shape)"
   ]
  },
  {
   "cell_type": "code",
   "execution_count": 42,
   "metadata": {},
   "outputs": [
    {
     "data": {
      "text/plain": [
       "240.0"
      ]
     },
     "execution_count": 42,
     "metadata": {},
     "output_type": "execute_result"
    }
   ],
   "source": [
    "23040/96"
   ]
  },
  {
   "cell_type": "code",
   "execution_count": 36,
   "metadata": {},
   "outputs": [
    {
     "data": {
      "text/plain": [
       "240.0"
      ]
     },
     "execution_count": 36,
     "metadata": {},
     "output_type": "execute_result"
    }
   ],
   "source": [
    "4746240/96/206\n"
   ]
  },
  {
   "cell_type": "code",
   "execution_count": 75,
   "metadata": {
    "collapsed": true
   },
   "outputs": [],
   "source": [
    "data2 = np.array(df)\n",
    "np.save('data/0803 extended data 2',data2)"
   ]
  },
  {
   "cell_type": "code",
   "execution_count": 52,
   "metadata": {
    "collapsed": true
   },
   "outputs": [],
   "source": [
    "c = np.load('data/0802 extended data.npy')"
   ]
  },
  {
   "cell_type": "code",
   "execution_count": 63,
   "metadata": {},
   "outputs": [
    {
     "data": {
      "text/plain": [
       "[9, 10]"
      ]
     },
     "execution_count": 63,
     "metadata": {},
     "output_type": "execute_result"
    }
   ],
   "source": [
    "a = [1,2,3,4,5,6,7,8,9,10]\n",
    "a[-2:]"
   ]
  },
  {
   "cell_type": "code",
   "execution_count": 70,
   "metadata": {},
   "outputs": [
    {
     "ename": "TypeError",
     "evalue": "data type not understood",
     "output_type": "error",
     "traceback": [
      "\u001b[1;31m---------------------------------------------------------------------------\u001b[0m",
      "\u001b[1;31mTypeError\u001b[0m                                 Traceback (most recent call last)",
      "\u001b[1;32m<ipython-input-70-cf943981539c>\u001b[0m in \u001b[0;36m<module>\u001b[1;34m()\u001b[0m\n\u001b[1;32m----> 1\u001b[1;33m \u001b[0ma\u001b[0m\u001b[1;33m=\u001b[0m\u001b[0mnp\u001b[0m\u001b[1;33m.\u001b[0m\u001b[0marray\u001b[0m\u001b[1;33m(\u001b[0m\u001b[1;33m(\u001b[0m\u001b[1;36m2\u001b[0m\u001b[1;33m,\u001b[0m\u001b[1;36m3\u001b[0m\u001b[1;33m,\u001b[0m\u001b[1;36m4\u001b[0m\u001b[1;33m)\u001b[0m\u001b[1;33m,\u001b[0m\u001b[1;33m(\u001b[0m\u001b[1;36m3\u001b[0m\u001b[1;33m,\u001b[0m\u001b[1;36m4\u001b[0m\u001b[1;33m,\u001b[0m\u001b[1;36m5\u001b[0m\u001b[1;33m)\u001b[0m\u001b[1;33m)\u001b[0m\u001b[1;33m\u001b[0m\u001b[0m\n\u001b[0m\u001b[0;32m      2\u001b[0m \u001b[0ma\u001b[0m\u001b[1;33m\u001b[0m\u001b[0m\n",
      "\u001b[1;31mTypeError\u001b[0m: data type not understood"
     ]
    }
   ],
   "source": [
    "a=np.array((2,3,4),(3,4,5))\n",
    "a"
   ]
  },
  {
   "cell_type": "code",
   "execution_count": null,
   "metadata": {
    "collapsed": true
   },
   "outputs": [],
   "source": []
  }
 ],
 "metadata": {
  "kernelspec": {
   "display_name": "Python [conda env:pytorch-cpu]",
   "language": "python",
   "name": "conda-env-pytorch-cpu-py"
  },
  "language_info": {
   "codemirror_mode": {
    "name": "ipython",
    "version": 3
   },
   "file_extension": ".py",
   "mimetype": "text/x-python",
   "name": "python",
   "nbconvert_exporter": "python",
   "pygments_lexer": "ipython3",
   "version": "3.6.10"
  }
 },
 "nbformat": 4,
 "nbformat_minor": 2
}
