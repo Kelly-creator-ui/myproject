{
 "cells": [
  {
   "cell_type": "code",
   "execution_count": 1,
   "metadata": {},
   "outputs": [],
   "source": [
    "import pandas as pd\n",
    "from sklearn.preprocessing import MinMaxScaler\n",
    "\n",
    "import matplotlib.pyplot as plt\n",
    "import matplotlib.ticker as ticker\n",
    "\n",
    "\n",
    "import numpy as np\n",
    "\n",
    "import random\n",
    "import math\n",
    "import time\n",
    "import pandas as pd\n",
    "import scipy.io\n"
   ]
  },
  {
   "cell_type": "code",
   "execution_count": 3,
   "metadata": {},
   "outputs": [],
   "source": [
    "import scipy.io\n",
    "data1 = scipy.io.loadmat('data/user1-100.mat')\n",
    "data2 = scipy.io.loadmat('data/user101-150.mat')\n",
    "data3 = scipy.io.loadmat('data/user151-200.mat')\n",
    "tariff = scipy.io.loadmat('data/Tariff2(1).mat')[\"Tariff\"][0].tolist()\n",
    "ZP = data1[\"ZP\"].sum(axis=1) + data2[\"ZP\"].sum(axis=1) + data3[\"ZP\"].sum(axis=1)\n",
    "ZP1 = np.concatenate((data1[\"ZP\"], data2[\"ZP\"][:, 100:], data3[\"ZP\"][:, 150:]), axis=1).T\n",
    "ZT = np.concatenate((data1[\"ZTtank\"], data2[\"ZTtank\"][:, 100:], data3[\"ZTtank\"][:, 150:]), axis=1).T\n",
    "pattern = pd.read_csv('data/0519 2000userpattern.csv')\n",
    "pattern200 = np.array(pattern)[:200, 1:]"
   ]
  },
  {
   "cell_type": "code",
   "execution_count": 4,
   "metadata": {
    "collapsed": true
   },
   "outputs": [],
   "source": [
    "df = pd.read_csv('data/0728 200user.csv')"
   ]
  },
  {
   "cell_type": "code",
   "execution_count": 76,
   "metadata": {},
   "outputs": [
    {
     "data": {
      "text/html": [
       "<div>\n",
       "<style>\n",
       "    .dataframe thead tr:only-child th {\n",
       "        text-align: right;\n",
       "    }\n",
       "\n",
       "    .dataframe thead th {\n",
       "        text-align: left;\n",
       "    }\n",
       "\n",
       "    .dataframe tbody tr th {\n",
       "        vertical-align: top;\n",
       "    }\n",
       "</style>\n",
       "<table border=\"1\" class=\"dataframe\">\n",
       "  <thead>\n",
       "    <tr style=\"text-align: right;\">\n",
       "      <th></th>\n",
       "      <th>p_norm</th>\n",
       "      <th>p_flex</th>\n",
       "      <th>ls</th>\n",
       "      <th>tariff</th>\n",
       "      <th>ls_move</th>\n",
       "    </tr>\n",
       "  </thead>\n",
       "  <tbody>\n",
       "    <tr>\n",
       "      <th>0</th>\n",
       "      <td>296.10</td>\n",
       "      <td>303.90</td>\n",
       "      <td>1</td>\n",
       "      <td>0.288</td>\n",
       "      <td>0.0</td>\n",
       "    </tr>\n",
       "    <tr>\n",
       "      <th>1</th>\n",
       "      <td>274.66</td>\n",
       "      <td>325.34</td>\n",
       "      <td>1</td>\n",
       "      <td>0.288</td>\n",
       "      <td>1.0</td>\n",
       "    </tr>\n",
       "    <tr>\n",
       "      <th>2</th>\n",
       "      <td>311.65</td>\n",
       "      <td>288.35</td>\n",
       "      <td>1</td>\n",
       "      <td>0.288</td>\n",
       "      <td>1.0</td>\n",
       "    </tr>\n",
       "    <tr>\n",
       "      <th>3</th>\n",
       "      <td>314.81</td>\n",
       "      <td>285.19</td>\n",
       "      <td>1</td>\n",
       "      <td>0.288</td>\n",
       "      <td>1.0</td>\n",
       "    </tr>\n",
       "    <tr>\n",
       "      <th>4</th>\n",
       "      <td>304.68</td>\n",
       "      <td>0.00</td>\n",
       "      <td>1</td>\n",
       "      <td>0.288</td>\n",
       "      <td>1.0</td>\n",
       "    </tr>\n",
       "  </tbody>\n",
       "</table>\n",
       "</div>"
      ],
      "text/plain": [
       "   p_norm  p_flex  ls  tariff  ls_move\n",
       "0  296.10  303.90   1   0.288      0.0\n",
       "1  274.66  325.34   1   0.288      1.0\n",
       "2  311.65  288.35   1   0.288      1.0\n",
       "3  314.81  285.19   1   0.288      1.0\n",
       "4  304.68    0.00   1   0.288      1.0"
      ]
     },
     "execution_count": 76,
     "metadata": {},
     "output_type": "execute_result"
    }
   ],
   "source": [
    "df.head()"
   ]
  },
  {
   "cell_type": "code",
   "execution_count": 5,
   "metadata": {
    "collapsed": true
   },
   "outputs": [],
   "source": [
    "#生成测试数据\n",
    "test=df[['p_norm','tariff']]\n",
    "scaler = MinMaxScaler(feature_range=(0, 1))\n",
    "x_test=scaler.fit_transform(test[96*243-96*2:96*243-96*1])\n",
    "real_test=df[['p_norm']][96*243-96*1:]"
   ]
  },
  {
   "cell_type": "code",
   "execution_count": 6,
   "metadata": {
    "collapsed": true
   },
   "outputs": [],
   "source": [
    "#生成up和down不同的96组信号\n",
    "\n",
    "down = []\n",
    "for i in range(96):\n",
    "    row = []\n",
    "    for j in range(96):\n",
    "        if j < i:\n",
    "            row.append(0)\n",
    "        else:\n",
    "            row.append(-1)\n",
    "    down.append(row)\n",
    "down = np.array(down)\n",
    "\n",
    "up = []\n",
    "for i in range(96):\n",
    "    row = []\n",
    "    for j in range(96):\n",
    "        if j < i:\n",
    "            row.append(0)\n",
    "        else:\n",
    "            row.append(1)\n",
    "    up.append(row)\n",
    "up = np.array(up)"
   ]
  },
  {
   "cell_type": "code",
   "execution_count": 20,
   "metadata": {
    "collapsed": true
   },
   "outputs": [],
   "source": [
    "real_flex_up = []\n",
    "for i in range(96):\n",
    "    p=ZP1[:,243*96-96:].copy()# 这一步很关键，否则函数会直接对ZP1进行修改，无法循环\n",
    "    t=ZT[:,243*96-96:].copy()# 同上\n",
    "    a=up[i]\n",
    "    flex = flexoneday(p, t , a, pattern200[:,243*96-96:]).tolist()\n",
    "    real_flex_up.append(flex)"
   ]
  },
  {
   "cell_type": "code",
   "execution_count": 9,
   "metadata": {
    "collapsed": true
   },
   "outputs": [],
   "source": [
    "real_flex_down = []\n",
    "for i in range(96):\n",
    "    p=ZP1[:,243*96-96:].copy()\n",
    "    t=ZT[:,243*96-96:].copy()\n",
    "    a=down[i]\n",
    "    flex = flexoneday(p, t , a, pattern200[:,243*96-96:]).tolist()\n",
    "    real_flex_down.append(flex)"
   ]
  },
  {
   "cell_type": "code",
   "execution_count": 11,
   "metadata": {},
   "outputs": [],
   "source": [
    "#根据倒数第二天数据进行序列预测\n",
    "#对信号归一化\n",
    "scaled_down = np.where(down==0,0.5,0)\n",
    "scaled_up = np.where(up==0,0.5,1)\n",
    "test_up =[]\n",
    "for i in range(96):\n",
    "    a=np.hstack((np.array(scaled_up[i]).reshape(96,1),x_test))\n",
    "    test_up.append(a)\n",
    "test_up = np.array(test_up)\n",
    "test_down =[]\n",
    "for i in range(96):\n",
    "    a=np.hstack((np.array(scaled_down[i]).reshape(96,1),x_test))\n",
    "    test_down.append(a)\n",
    "test_down = np.array(test_down)"
   ]
  },
  {
   "cell_type": "code",
   "execution_count": 12,
   "metadata": {},
   "outputs": [
    {
     "name": "stderr",
     "output_type": "stream",
     "text": [
      "F:\\anaconda3\\lib\\site-packages\\h5py\\__init__.py:34: FutureWarning: Conversion of the second argument of issubdtype from `float` to `np.floating` is deprecated. In future, it will be treated as `np.float64 == np.dtype(float).type`.\n",
      "  from ._conv import register_converters as _register_converters\n",
      "Using TensorFlow backend.\n"
     ]
    }
   ],
   "source": [
    "from keras.models import load_model\n",
    "model = load_model('model/0728 LSTM.h5')"
   ]
  },
  {
   "cell_type": "code",
   "execution_count": 23,
   "metadata": {},
   "outputs": [],
   "source": [
    "real_up=pd.DataFrame(real_flex_up).T"
   ]
  },
  {
   "cell_type": "code",
   "execution_count": 48,
   "metadata": {},
   "outputs": [
    {
     "data": {
      "text/plain": [
       "(96,)"
      ]
     },
     "execution_count": 48,
     "metadata": {},
     "output_type": "execute_result"
    }
   ],
   "source": [
    "real_up[0].values.shape"
   ]
  },
  {
   "cell_type": "code",
   "execution_count": 78,
   "metadata": {},
   "outputs": [],
   "source": [
    "pre_flex_up=[]\n",
    "for i in range(96):\n",
    "    a = test_up[i].reshape(1,96,3)\n",
    "    pre_flex = model.predict(a)\n",
    "    scaler.fit_transform(df['p_flex'].values.reshape(-1,1))\n",
    "    pre_flex = scaler.inverse_transform(pre_flex.reshape(1,96))\n",
    "    pre_flex_up.append(pre_flex)\n",
    "pre_flex_up = np.array(pre_flex_up)\n"
   ]
  },
  {
   "cell_type": "code",
   "execution_count": 79,
   "metadata": {
    "collapsed": true
   },
   "outputs": [],
   "source": [
    "real_down=pd.DataFrame(real_flex_down).T\n",
    "pre_flex_down=[]\n",
    "for i in range(96):\n",
    "    a = test_down[i].reshape(1,96,3)\n",
    "    pre_flex = model.predict(a)\n",
    "    scaler.fit_transform(df['p_flex'].values.reshape(-1,1))\n",
    "    pre_flex = scaler.inverse_transform(pre_flex.reshape(1,96))\n",
    "    pre_flex_down.append(pre_flex)\n",
    "pre_flex_down = np.array(pre_flex_down)\n"
   ]
  },
  {
   "cell_type": "code",
   "execution_count": 80,
   "metadata": {},
   "outputs": [],
   "source": [
    "#生成灵活度表征函数\n",
    "#上备用\n",
    "real_up_1step=[]\n",
    "for i in range(96):\n",
    "    a=real_flex_up[i][i]\n",
    "    real_up_1step.append(a)\n",
    "real_up_1step=np.array(real_up_1step)\n",
    "\n",
    "real_up_2step=[]\n",
    "for i in range(48):\n",
    "    a=[real_flex_up[i][i],real_flex_up[i][i+1]]\n",
    "    b=np.min(a)\n",
    "    real_up_2step.append(b)\n",
    "    real_up_2step.append(b)\n",
    "real_up_2step=np.array(real_up_2step)\n",
    "\n",
    "real_up_4step=[]\n",
    "for i in range(24):\n",
    "    a=[real_flex_up[i][i],real_flex_up[i][i+1],real_flex_up[i][i+2],real_flex_up[i][i+3]]\n",
    "    b=np.min(a)\n",
    "    real_up_4step.append(b)\n",
    "    real_up_4step.append(b)\n",
    "    real_up_4step.append(b)\n",
    "    real_up_4step.append(b)\n",
    "real_up_4step=np.array(real_up_4step)\n",
    " \n",
    "\n"
   ]
  },
  {
   "cell_type": "code",
   "execution_count": 81,
   "metadata": {
    "collapsed": true
   },
   "outputs": [],
   "source": [
    "pre_flex_up=pre_flex_up.reshape(96,96)\n",
    "pre_flex_down=pre_flex_down.reshape(96,96)"
   ]
  },
  {
   "cell_type": "code",
   "execution_count": 82,
   "metadata": {},
   "outputs": [],
   "source": [
    "pre_up_1step=[]\n",
    "for i in range(96):\n",
    "    a=pre_flex_up[i][i]\n",
    "    pre_up_1step.append(a)\n",
    "pre_up_1step=np.array(pre_up_1step)\n",
    "\n",
    "pre_up_2step=[]\n",
    "for i in range(48):\n",
    "    a=[pre_flex_up[i][i],pre_flex_up[i][i+1]]\n",
    "    b=np.min(a)\n",
    "    pre_up_2step.append(b)\n",
    "    pre_up_2step.append(b)\n",
    "pre_up_2step=np.array(pre_up_2step)\n",
    "\n",
    "pre_up_4step=[]\n",
    "for i in range(24):\n",
    "    a=[pre_flex_up[i][i],pre_flex_up[i][i+1],pre_flex_up[i][i+2],pre_flex_up[i][i+3]]\n",
    "    b=np.min(a)\n",
    "    pre_up_4step.append(b)\n",
    "    pre_up_4step.append(b)\n",
    "    pre_up_4step.append(b)\n",
    "    pre_up_4step.append(b)\n",
    "pre_up_4step=np.array(pre_up_4step)\n",
    " \n",
    "\n"
   ]
  },
  {
   "cell_type": "code",
   "execution_count": 83,
   "metadata": {
    "collapsed": true
   },
   "outputs": [],
   "source": [
    "#下备用\n",
    "real_down_1step=[]\n",
    "for i in range(96):\n",
    "    a=real_flex_down[i][i]\n",
    "    real_down_1step.append(a)\n",
    "real_down_1step=np.array(real_down_1step)\n",
    "\n",
    "real_down_2step=[]\n",
    "for i in range(48):\n",
    "    a=[real_flex_down[i][i],real_flex_down[i][i+1]]\n",
    "    b=np.min(a)\n",
    "    real_down_2step.append(b)\n",
    "    real_down_2step.append(b)\n",
    "real_down_2step=np.array(real_down_2step)\n",
    "\n",
    "real_down_4step=[]\n",
    "for i in range(24):\n",
    "    a=[real_flex_down[i][i],real_flex_down[i][i+1],real_flex_down[i][i+2],real_flex_down[i][i+3]]\n",
    "    b=np.min(a)\n",
    "    real_down_4step.append(b)\n",
    "    real_down_4step.append(b)\n",
    "    real_down_4step.append(b)\n",
    "    real_down_4step.append(b)\n",
    "real_down_4step=np.array(real_down_4step)\n",
    " \n",
    "\n",
    "\n"
   ]
  },
  {
   "cell_type": "code",
   "execution_count": 84,
   "metadata": {
    "collapsed": true
   },
   "outputs": [],
   "source": [
    "pre_down_1step=[]\n",
    "for i in range(96):\n",
    "    a=pre_flex_down[i][i]\n",
    "    pre_down_1step.append(a)\n",
    "pre_down_1step=np.array(pre_down_1step)\n",
    "\n",
    "pre_down_2step=[]\n",
    "for i in range(48):\n",
    "    a=[pre_flex_down[i][i],pre_flex_down[i][i+1]]\n",
    "    b=np.min(a)\n",
    "    pre_down_2step.append(b)\n",
    "    pre_down_2step.append(b)\n",
    "pre_down_2step=np.array(pre_down_2step)\n",
    "\n",
    "pre_down_4step=[]\n",
    "for i in range(24):\n",
    "    a=[pre_flex_down[i][i],pre_flex_down[i][i+1],pre_flex_down[i][i+2],pre_flex_down[i][i+3]]\n",
    "    b=np.min(a)\n",
    "    pre_down_4step.append(b)\n",
    "    pre_down_4step.append(b)\n",
    "    pre_down_4step.append(b)\n",
    "    pre_down_4step.append(b)\n",
    "pre_down_4step=np.array(pre_down_4step)\n",
    " \n",
    "\n"
   ]
  },
  {
   "cell_type": "code",
   "execution_count": 85,
   "metadata": {},
   "outputs": [
    {
     "data": {
      "text/plain": [
       "(96,)"
      ]
     },
     "execution_count": 85,
     "metadata": {},
     "output_type": "execute_result"
    }
   ],
   "source": [
    "pre_up_1step.shape"
   ]
  },
  {
   "cell_type": "code",
   "execution_count": 87,
   "metadata": {},
   "outputs": [
    {
     "data": {
      "image/png": "[encoded data removed]",
      "text/plain": [
       "<matplotlib.figure.Figure at 0x1e725cf7f60>"
      ]
     },
     "metadata": {},
     "output_type": "display_data"
    }
   ],
   "source": [
    "#画图\n",
    "plt.figure(figsize=(10,5))\n",
    "ax1 = plt.subplot(311)\n",
    "x1=np.linspace(0,96,96).astype(int)\n",
    "l1=plt.step(x1,real_up_1step,label='one step up backup')\n",
    "l2=plt.step(x1,pre_up_1step,label='one step predicted backup')\n",
    "plt.legend(loc = 'upper right')\n",
    "# plt.yticks(y)\n",
    "plt.grid()\n",
    "\n",
    "ax2 = plt.subplot(312)\n",
    "l1=plt.step(x1,real_up_2step,label='two step up backup')\n",
    "l2=plt.step(x1,pre_up_2step,label='two step predicted backup')\n",
    "plt.legend(loc = 'upper right')\n",
    "# plt.yticks(y)\n",
    "plt.grid()\n",
    "\n",
    "ax3 = plt.subplot(313)\n",
    "l1=plt.step(x1,real_up_4step,label='four step up backup')\n",
    "l2=plt.step(x1,pre_up_4step,label='four step predicted backup')\n",
    "plt.legend(loc = 'upper right')\n",
    "# plt.yticks(y)\n",
    "plt.grid()\n",
    "\n",
    "\n",
    "\n",
    "plt.show()\n",
    "\n"
   ]
  },
  {
   "cell_type": "code",
   "execution_count": null,
   "metadata": {
    "collapsed": true
   },
   "outputs": [],
   "source": []
  }
 ],
 "metadata": {
  "kernelspec": {
   "display_name": "Python 3",
   "language": "python",
   "name": "python3"
  },
  "language_info": {
   "codemirror_mode": {
    "name": "ipython",
    "version": 3
   },
   "file_extension": ".py",
   "mimetype": "text/x-python",
   "name": "python",
   "nbconvert_exporter": "python",
   "pygments_lexer": "ipython3",
   "version": "3.6.3"
  }
 },
 "nbformat": 4,
 "nbformat_minor": 2
}
