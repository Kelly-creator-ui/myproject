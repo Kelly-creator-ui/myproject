{
 "cells": [
  {
   "cell_type": "code",
   "execution_count": 1,
   "metadata": {},
   "outputs": [
    {
     "name": "stderr",
     "output_type": "stream",
     "text": [
      "F:\\anaconda3\\envs\\pytorch-cpu\\lib\\site-packages\\ipykernel\\parentpoller.py:116: UserWarning: Parent poll failed.  If the frontend dies,\n",
      "                the kernel may be left running.  Please let us know\n",
      "                about your system (bitness, Python, etc.) at\n",
      "                ipython-dev@scipy.org\n",
      "  ipython-dev@scipy.org\"\"\")\n"
     ]
    }
   ],
   "source": [
    "import pandas as pd\n",
    "from sklearn.preprocessing import MinMaxScaler\n",
    "\n",
    "import matplotlib.pyplot as plt\n",
    "import matplotlib.ticker as ticker\n",
    "\n",
    "\n",
    "import numpy as np\n",
    "\n",
    "import random\n",
    "import math\n",
    "import time\n",
    "import pandas as pd\n",
    "import scipy.io\n"
   ]
  },
  {
   "cell_type": "code",
   "execution_count": 2,
   "metadata": {
    "collapsed": true
   },
   "outputs": [],
   "source": [
    "import scipy.io\n",
    "data1 = scipy.io.loadmat('data/user1-100.mat')\n",
    "data2 = scipy.io.loadmat('data/user101-150.mat')\n",
    "data3 = scipy.io.loadmat('data/user151-200.mat')\n",
    "tariff = scipy.io.loadmat('data/Tariff2(1).mat')[\"Tariff\"][0].tolist()\n",
    "ZP = data1[\"ZP\"].sum(axis=1) + data2[\"ZP\"].sum(axis=1) + data3[\"ZP\"].sum(axis=1)\n",
    "ZP1 = np.concatenate((data1[\"ZP\"], data2[\"ZP\"][:, 100:], data3[\"ZP\"][:, 150:]), axis=1).T\n",
    "ZT = np.concatenate((data1[\"ZTtank\"], data2[\"ZTtank\"][:, 100:], data3[\"ZTtank\"][:, 150:]), axis=1).T\n",
    "pattern = pd.read_csv('data/0519 2000userpattern.csv')\n",
    "pattern200 = np.array(pattern)[:200, 1:]"
   ]
  },
  {
   "cell_type": "code",
   "execution_count": 3,
   "metadata": {
    "collapsed": true
   },
   "outputs": [],
   "source": [
    "df = pd.read_csv('data/0728 200user.csv')"
   ]
  },
  {
   "cell_type": "code",
   "execution_count": 4,
   "metadata": {},
   "outputs": [
    {
     "data": {
      "text/html": [
       "<div>\n",
       "<style scoped>\n",
       "    .dataframe tbody tr th:only-of-type {\n",
       "        vertical-align: middle;\n",
       "    }\n",
       "\n",
       "    .dataframe tbody tr th {\n",
       "        vertical-align: top;\n",
       "    }\n",
       "\n",
       "    .dataframe thead th {\n",
       "        text-align: right;\n",
       "    }\n",
       "</style>\n",
       "<table border=\"1\" class=\"dataframe\">\n",
       "  <thead>\n",
       "    <tr style=\"text-align: right;\">\n",
       "      <th></th>\n",
       "      <th>p_norm</th>\n",
       "      <th>p_flex</th>\n",
       "      <th>ls</th>\n",
       "      <th>tariff</th>\n",
       "      <th>ls_move</th>\n",
       "    </tr>\n",
       "  </thead>\n",
       "  <tbody>\n",
       "    <tr>\n",
       "      <th>0</th>\n",
       "      <td>296.10</td>\n",
       "      <td>303.90</td>\n",
       "      <td>1</td>\n",
       "      <td>0.288</td>\n",
       "      <td>0.0</td>\n",
       "    </tr>\n",
       "    <tr>\n",
       "      <th>1</th>\n",
       "      <td>274.66</td>\n",
       "      <td>325.34</td>\n",
       "      <td>1</td>\n",
       "      <td>0.288</td>\n",
       "      <td>1.0</td>\n",
       "    </tr>\n",
       "    <tr>\n",
       "      <th>2</th>\n",
       "      <td>311.65</td>\n",
       "      <td>288.35</td>\n",
       "      <td>1</td>\n",
       "      <td>0.288</td>\n",
       "      <td>1.0</td>\n",
       "    </tr>\n",
       "    <tr>\n",
       "      <th>3</th>\n",
       "      <td>314.81</td>\n",
       "      <td>285.19</td>\n",
       "      <td>1</td>\n",
       "      <td>0.288</td>\n",
       "      <td>1.0</td>\n",
       "    </tr>\n",
       "    <tr>\n",
       "      <th>4</th>\n",
       "      <td>304.68</td>\n",
       "      <td>0.00</td>\n",
       "      <td>1</td>\n",
       "      <td>0.288</td>\n",
       "      <td>1.0</td>\n",
       "    </tr>\n",
       "  </tbody>\n",
       "</table>\n",
       "</div>"
      ],
      "text/plain": [
       "   p_norm  p_flex  ls  tariff  ls_move\n",
       "0  296.10  303.90   1   0.288      0.0\n",
       "1  274.66  325.34   1   0.288      1.0\n",
       "2  311.65  288.35   1   0.288      1.0\n",
       "3  314.81  285.19   1   0.288      1.0\n",
       "4  304.68    0.00   1   0.288      1.0"
      ]
     },
     "execution_count": 4,
     "metadata": {},
     "output_type": "execute_result"
    }
   ],
   "source": [
    "df.head()"
   ]
  },
  {
   "cell_type": "code",
   "execution_count": 57,
   "metadata": {
    "collapsed": true
   },
   "outputs": [],
   "source": [
    "#生成测试数据\n",
    "test=df[['p_norm','tariff']]\n",
    "scaler = MinMaxScaler(feature_range=(0, 1))\n",
    "x_test=scaler.fit_transform(test[96*243-96*2:96*243-96*1])\n",
    "real_test=df[['p_norm']][96*243-96*1:]"
   ]
  },
  {
   "cell_type": "code",
   "execution_count": 58,
   "metadata": {
    "collapsed": true
   },
   "outputs": [],
   "source": [
    "#生成up和down不同的96组信号\n",
    "\n",
    "down = []\n",
    "for i in range(96):\n",
    "    row = []\n",
    "    for j in range(96):\n",
    "        if j < i:\n",
    "            row.append(0)\n",
    "        else:\n",
    "            row.append(-1)\n",
    "    down.append(row)\n",
    "down = np.array(down)\n",
    "\n",
    "up = []\n",
    "for i in range(96):\n",
    "    row = []\n",
    "    for j in range(96):\n",
    "        if j < i:\n",
    "            row.append(0)\n",
    "        else:\n",
    "            row.append(1)\n",
    "    up.append(row)\n",
    "up = np.array(up)"
   ]
  },
  {
   "cell_type": "code",
   "execution_count": 59,
   "metadata": {
    "collapsed": true
   },
   "outputs": [],
   "source": [
    "#修改成只生成最后一天的函数\n",
    "def flexoneday(p_base, t_base, dr_sig, userpattern):\n",
    "    p_flex = np.zeros(96 , dtype=int)\n",
    "    for i in range(200):\n",
    "        flex = np.zeros(96, dtype=int).tolist()\n",
    "        temp = t_base[i]\n",
    "        p = p_base[i]\n",
    "        pattern = userpattern[i]\n",
    "        for j in range(96 - 1):\n",
    "            if dr_sig[j] == 0:\n",
    "                flex[j] = 0\n",
    "            elif dr_sig[j] == -1:\n",
    "                flex[j] = p[j]\n",
    "                p[j] = 0\n",
    "                if pattern[j] == 1 or pattern[j] == 2 or pattern[j] == 5:\n",
    "                    temp[j + 1] = temp[j] - 1.142\n",
    "                elif pattern[j] == 3:\n",
    "                    temp[j + 1] = temp[j] - 8.14\n",
    "                else:\n",
    "                    temp[j + 1] = temp[j] - 15.143\n",
    "                if temp[j] <= 60:\n",
    "                    flex[j] = 0  # 温控信号与dr信号对冲，此后灵活度均降为零\n",
    "            else:  # 正1信号代表此刻功率变为最大功率\n",
    "                flex[j] = 3 - p[j]\n",
    "                p[j] = 3\n",
    "                if pattern[j] == 1 or pattern[j] == 2 or pattern[j] == 5:\n",
    "                    temp[j + 1] = temp[j] + 6.4\n",
    "                elif pattern[j] == 3:\n",
    "                    temp[j + 1] = temp[j] - 4.6\n",
    "                else:\n",
    "                    temp[j + 1] = temp[j] - 8.6\n",
    "                if temp[j] >= 100:\n",
    "                    flex[j] = 0  # 温控信号与dr信号对冲，灵活度降为零\n",
    "        p_flex = p_flex + np.array(flex)\n",
    "    return p_flex\n"
   ]
  },
  {
   "cell_type": "code",
   "execution_count": 60,
   "metadata": {},
   "outputs": [],
   "source": [
    "real_flex_up = []\n",
    "for i in range(96):\n",
    "    p=ZP1[:,243*96-96:].copy()# 这一步很关键，否则函数会直接对ZP1进行修改，无法循环\n",
    "    t=ZT[:,243*96-96:].copy()# 同上\n",
    "    a=up[i]\n",
    "    flex = flexoneday(p, t , a, pattern200[:,243*96-96:]).tolist()\n",
    "    real_flex_up.append(flex)"
   ]
  },
  {
   "cell_type": "code",
   "execution_count": 61,
   "metadata": {
    "collapsed": true
   },
   "outputs": [],
   "source": [
    "real_flex_down = []\n",
    "for i in range(96):\n",
    "    p=ZP1[:,243*96-96:].copy()\n",
    "    t=ZT[:,243*96-96:].copy()\n",
    "    a=down[i]\n",
    "    flex = flexoneday(p, t , a, pattern200[:,243*96-96:]).tolist()\n",
    "    real_flex_down.append(flex)"
   ]
  },
  {
   "cell_type": "code",
   "execution_count": 62,
   "metadata": {
    "collapsed": true
   },
   "outputs": [],
   "source": [
    "#根据倒数第二天数据进行序列预测\n",
    "#对信号归一化\n",
    "scaled_down = np.where(down==0,0.5,0)\n",
    "scaled_up = np.where(up==0,0.5,1)\n",
    "test_up =[]\n",
    "for i in range(96):\n",
    "    a=np.hstack((np.array(scaled_up[i]).reshape(96,1),x_test))\n",
    "    test_up.append(a)\n",
    "test_up = np.array(test_up)\n",
    "test_down =[]\n",
    "for i in range(96):\n",
    "    a=np.hstack((np.array(scaled_down[i]).reshape(96,1),x_test))\n",
    "    test_down.append(a)\n",
    "test_down = np.array(test_down)"
   ]
  },
  {
   "cell_type": "code",
   "execution_count": 63,
   "metadata": {
    "collapsed": true
   },
   "outputs": [],
   "source": [
    "import torch\n",
    "import torch.nn as nn\n",
    "import torch.optim as optim\n",
    "import torch.nn.functional as F\n",
    "from torch.nn.utils import weight_norm\n",
    "import pandas as pd\n",
    "from sklearn.preprocessing import MinMaxScaler\n",
    "\n",
    "import torchtext\n",
    "from torchtext.datasets import Multi30k\n",
    "from torchtext.data import Field, BucketIterator\n",
    "\n",
    "import matplotlib.pyplot as plt\n",
    "import matplotlib.ticker as ticker\n",
    "\n",
    "import spacy\n",
    "import numpy as np\n",
    "\n",
    "import random\n",
    "import math\n",
    "import time\n",
    "import pandas as pd\n",
    "from Dilated_TCN_Model import TemporalConvNet\n"
   ]
  },
  {
   "cell_type": "code",
   "execution_count": 64,
   "metadata": {},
   "outputs": [
    {
     "name": "stdout",
     "output_type": "stream",
     "text": [
      "Now your model can capture 120 step dependency\n"
     ]
    }
   ],
   "source": [
    "class TCN(nn.Module):\n",
    "    def __init__(self, input_dim, embed_dim, num_channels, device, output_dim, kernel_sz, dropout):\n",
    "        super(TCN, self).__init__()\n",
    "        self.embed = nn.Linear(input_dim, embed_dim)\n",
    "        self.TCNBlock = TemporalConvNet(embed_dim, num_channels, device, kernel_sz, dropout)\n",
    "        self.decoder = nn.Linear(num_channels[-1], output_dim)\n",
    "\n",
    "    def forward(self, x):\n",
    "        embeded = self.embed(x)\n",
    "        out = self.TCNBlock(embeded.permute(0, 2, 1)).permute(0, 2, 1)\n",
    "        out = self.decoder(out)\n",
    "\n",
    "        return out\n",
    "\n",
    "# 计算最远可以看到多远\n",
    "channels = [128, 128, 128, 128, 128, 128]\n",
    "KERNEL_SIZE = 3\n",
    "dependency = KERNEL_SIZE * len(channels) * (len(channels) + 1) - len(channels)\n",
    "print('Now your model can capture {} step dependency'.format(dependency))\n",
    "\n",
    "# 参数预设\n",
    "INPUT_DIM = 3\n",
    "EMBED_DIM = 64\n",
    "OUTPUTDIM = 1\n",
    "DROPOUT = 0.\n",
    "TRG_PAD_IDX = 0.\n",
    "\n",
    "\n",
    "# 模型实例化\n",
    "device = torch.device('cuda' if torch.cuda.is_available() else 'cpu')\n",
    "model = TCN(INPUT_DIM, EMBED_DIM, channels, device, OUTPUTDIM, KERNEL_SIZE, 0.).to(device)"
   ]
  },
  {
   "cell_type": "code",
   "execution_count": 72,
   "metadata": {},
   "outputs": [
    {
     "data": {
      "text/plain": [
       "TCN(\n",
       "  (embed): Linear(in_features=3, out_features=64, bias=True)\n",
       "  (TCNBlock): TemporalConvNet(\n",
       "    (network): Sequential(\n",
       "      (0): TemporalBlock(\n",
       "        (conv1): Conv1d(64, 128, kernel_size=(3,), stride=(1,), padding=(2,))\n",
       "        (chomp1): Chomp1d()\n",
       "        (relu1): ReLU()\n",
       "        (dropout1): Dropout(p=0.0, inplace=False)\n",
       "        (conv2): Conv1d(128, 128, kernel_size=(3,), stride=(1,), padding=(2,))\n",
       "        (chomp2): Chomp1d()\n",
       "        (relu2): ReLU()\n",
       "        (dropout2): Dropout(p=0.0, inplace=False)\n",
       "        (net): Sequential(\n",
       "          (0): Conv1d(64, 128, kernel_size=(3,), stride=(1,), padding=(2,))\n",
       "          (1): Chomp1d()\n",
       "          (2): ReLU()\n",
       "          (3): Dropout(p=0.0, inplace=False)\n",
       "          (4): Conv1d(128, 128, kernel_size=(3,), stride=(1,), padding=(2,))\n",
       "          (5): Chomp1d()\n",
       "          (6): ReLU()\n",
       "          (7): Dropout(p=0.0, inplace=False)\n",
       "        )\n",
       "        (downsample): Conv1d(64, 128, kernel_size=(1,), stride=(1,))\n",
       "        (relu): ReLU()\n",
       "      )\n",
       "      (1): TemporalBlock(\n",
       "        (conv1): Conv1d(128, 128, kernel_size=(3,), stride=(1,), padding=(4,), dilation=(2,))\n",
       "        (chomp1): Chomp1d()\n",
       "        (relu1): ReLU()\n",
       "        (dropout1): Dropout(p=0.0, inplace=False)\n",
       "        (conv2): Conv1d(128, 128, kernel_size=(3,), stride=(1,), padding=(4,), dilation=(2,))\n",
       "        (chomp2): Chomp1d()\n",
       "        (relu2): ReLU()\n",
       "        (dropout2): Dropout(p=0.0, inplace=False)\n",
       "        (net): Sequential(\n",
       "          (0): Conv1d(128, 128, kernel_size=(3,), stride=(1,), padding=(4,), dilation=(2,))\n",
       "          (1): Chomp1d()\n",
       "          (2): ReLU()\n",
       "          (3): Dropout(p=0.0, inplace=False)\n",
       "          (4): Conv1d(128, 128, kernel_size=(3,), stride=(1,), padding=(4,), dilation=(2,))\n",
       "          (5): Chomp1d()\n",
       "          (6): ReLU()\n",
       "          (7): Dropout(p=0.0, inplace=False)\n",
       "        )\n",
       "        (relu): ReLU()\n",
       "      )\n",
       "      (2): TemporalBlock(\n",
       "        (conv1): Conv1d(128, 128, kernel_size=(3,), stride=(1,), padding=(8,), dilation=(4,))\n",
       "        (chomp1): Chomp1d()\n",
       "        (relu1): ReLU()\n",
       "        (dropout1): Dropout(p=0.0, inplace=False)\n",
       "        (conv2): Conv1d(128, 128, kernel_size=(3,), stride=(1,), padding=(8,), dilation=(4,))\n",
       "        (chomp2): Chomp1d()\n",
       "        (relu2): ReLU()\n",
       "        (dropout2): Dropout(p=0.0, inplace=False)\n",
       "        (net): Sequential(\n",
       "          (0): Conv1d(128, 128, kernel_size=(3,), stride=(1,), padding=(8,), dilation=(4,))\n",
       "          (1): Chomp1d()\n",
       "          (2): ReLU()\n",
       "          (3): Dropout(p=0.0, inplace=False)\n",
       "          (4): Conv1d(128, 128, kernel_size=(3,), stride=(1,), padding=(8,), dilation=(4,))\n",
       "          (5): Chomp1d()\n",
       "          (6): ReLU()\n",
       "          (7): Dropout(p=0.0, inplace=False)\n",
       "        )\n",
       "        (relu): ReLU()\n",
       "      )\n",
       "      (3): TemporalBlock(\n",
       "        (conv1): Conv1d(128, 128, kernel_size=(3,), stride=(1,), padding=(16,), dilation=(8,))\n",
       "        (chomp1): Chomp1d()\n",
       "        (relu1): ReLU()\n",
       "        (dropout1): Dropout(p=0.0, inplace=False)\n",
       "        (conv2): Conv1d(128, 128, kernel_size=(3,), stride=(1,), padding=(16,), dilation=(8,))\n",
       "        (chomp2): Chomp1d()\n",
       "        (relu2): ReLU()\n",
       "        (dropout2): Dropout(p=0.0, inplace=False)\n",
       "        (net): Sequential(\n",
       "          (0): Conv1d(128, 128, kernel_size=(3,), stride=(1,), padding=(16,), dilation=(8,))\n",
       "          (1): Chomp1d()\n",
       "          (2): ReLU()\n",
       "          (3): Dropout(p=0.0, inplace=False)\n",
       "          (4): Conv1d(128, 128, kernel_size=(3,), stride=(1,), padding=(16,), dilation=(8,))\n",
       "          (5): Chomp1d()\n",
       "          (6): ReLU()\n",
       "          (7): Dropout(p=0.0, inplace=False)\n",
       "        )\n",
       "        (relu): ReLU()\n",
       "      )\n",
       "      (4): TemporalBlock(\n",
       "        (conv1): Conv1d(128, 128, kernel_size=(3,), stride=(1,), padding=(32,), dilation=(16,))\n",
       "        (chomp1): Chomp1d()\n",
       "        (relu1): ReLU()\n",
       "        (dropout1): Dropout(p=0.0, inplace=False)\n",
       "        (conv2): Conv1d(128, 128, kernel_size=(3,), stride=(1,), padding=(32,), dilation=(16,))\n",
       "        (chomp2): Chomp1d()\n",
       "        (relu2): ReLU()\n",
       "        (dropout2): Dropout(p=0.0, inplace=False)\n",
       "        (net): Sequential(\n",
       "          (0): Conv1d(128, 128, kernel_size=(3,), stride=(1,), padding=(32,), dilation=(16,))\n",
       "          (1): Chomp1d()\n",
       "          (2): ReLU()\n",
       "          (3): Dropout(p=0.0, inplace=False)\n",
       "          (4): Conv1d(128, 128, kernel_size=(3,), stride=(1,), padding=(32,), dilation=(16,))\n",
       "          (5): Chomp1d()\n",
       "          (6): ReLU()\n",
       "          (7): Dropout(p=0.0, inplace=False)\n",
       "        )\n",
       "        (relu): ReLU()\n",
       "      )\n",
       "      (5): TemporalBlock(\n",
       "        (conv1): Conv1d(128, 128, kernel_size=(3,), stride=(1,), padding=(64,), dilation=(32,))\n",
       "        (chomp1): Chomp1d()\n",
       "        (relu1): ReLU()\n",
       "        (dropout1): Dropout(p=0.0, inplace=False)\n",
       "        (conv2): Conv1d(128, 128, kernel_size=(3,), stride=(1,), padding=(64,), dilation=(32,))\n",
       "        (chomp2): Chomp1d()\n",
       "        (relu2): ReLU()\n",
       "        (dropout2): Dropout(p=0.0, inplace=False)\n",
       "        (net): Sequential(\n",
       "          (0): Conv1d(128, 128, kernel_size=(3,), stride=(1,), padding=(64,), dilation=(32,))\n",
       "          (1): Chomp1d()\n",
       "          (2): ReLU()\n",
       "          (3): Dropout(p=0.0, inplace=False)\n",
       "          (4): Conv1d(128, 128, kernel_size=(3,), stride=(1,), padding=(64,), dilation=(32,))\n",
       "          (5): Chomp1d()\n",
       "          (6): ReLU()\n",
       "          (7): Dropout(p=0.0, inplace=False)\n",
       "        )\n",
       "        (relu): ReLU()\n",
       "      )\n",
       "    )\n",
       "  )\n",
       "  (decoder): Linear(in_features=128, out_features=1, bias=True)\n",
       ")"
      ]
     },
     "execution_count": 72,
     "metadata": {},
     "output_type": "execute_result"
    }
   ],
   "source": [
    "\n",
    "model.load_state_dict(torch.load (r'G:\\科研\\代码\\July_coding\\code\\0730TCNmodel_2000epoch.pt', map_location='cpu'))\n",
    "model.eval()\n"
   ]
  },
  {
   "cell_type": "code",
   "execution_count": 73,
   "metadata": {
    "collapsed": true
   },
   "outputs": [],
   "source": [
    "real_up=pd.DataFrame(real_flex_up).T"
   ]
  },
  {
   "cell_type": "code",
   "execution_count": 74,
   "metadata": {},
   "outputs": [
    {
     "data": {
      "text/plain": [
       "(96,)"
      ]
     },
     "execution_count": 74,
     "metadata": {},
     "output_type": "execute_result"
    }
   ],
   "source": [
    "real_up[0].values.shape"
   ]
  },
  {
   "cell_type": "code",
   "execution_count": 75,
   "metadata": {},
   "outputs": [
    {
     "data": {
      "text/plain": [
       "array([[[0.5       , 0.95993333, 0.        ],\n",
       "        [0.5       , 0.96773333, 0.        ],\n",
       "        [0.5       , 0.883     , 0.        ],\n",
       "        [0.5       , 0.8644    , 0.        ],\n",
       "        [0.5       , 0.7738    , 0.        ],\n",
       "        [0.5       , 0.685     , 0.        ],\n",
       "        [0.5       , 0.35286667, 0.        ],\n",
       "        [0.5       , 0.35753333, 0.        ],\n",
       "        [0.5       , 0.39273333, 0.        ],\n",
       "        [0.5       , 0.375     , 0.        ],\n",
       "        [0.5       , 0.875     , 0.        ],\n",
       "        [0.5       , 0.87      , 0.        ],\n",
       "        [0.5       , 0.905     , 0.        ],\n",
       "        [0.5       , 0.905     , 0.        ],\n",
       "        [0.5       , 0.805     , 0.        ],\n",
       "        [0.5       , 0.865     , 0.        ],\n",
       "        [0.5       , 0.905     , 0.        ],\n",
       "        [0.5       , 0.95      , 0.        ],\n",
       "        [0.5       , 1.        , 0.        ],\n",
       "        [0.5       , 0.935     , 0.        ],\n",
       "        [0.5       , 0.945     , 0.        ],\n",
       "        [0.5       , 0.895     , 0.        ],\n",
       "        [0.5       , 0.97      , 0.        ],\n",
       "        [0.5       , 0.934     , 0.        ],\n",
       "        [0.5       , 0.47731667, 0.3908431 ],\n",
       "        [0.5       , 0.36593333, 0.3908431 ],\n",
       "        [0.5       , 0.33921667, 0.3908431 ],\n",
       "        [0.5       , 0.3899    , 0.3908431 ],\n",
       "        [0.5       , 0.585     , 0.3908431 ],\n",
       "        [0.5       , 0.595     , 0.3908431 ],\n",
       "        [0.5       , 0.525     , 0.3908431 ],\n",
       "        [0.5       , 0.49719667, 0.3908431 ],\n",
       "        [0.5       , 0.42827667, 0.3908431 ],\n",
       "        [0.5       , 0.3593    , 0.3908431 ],\n",
       "        [0.5       , 0.07534333, 0.3908431 ],\n",
       "        [0.5       , 0.08248   , 0.3908431 ],\n",
       "        [0.5       , 0.        , 0.3908431 ],\n",
       "        [0.5       , 0.1       , 0.3908431 ],\n",
       "        [0.5       , 0.055     , 0.3908431 ],\n",
       "        [0.5       , 0.065     , 0.3908431 ],\n",
       "        [0.5       , 0.        , 1.        ],\n",
       "        [0.5       , 0.        , 1.        ],\n",
       "        [0.5       , 0.        , 1.        ],\n",
       "        [0.5       , 0.        , 1.        ],\n",
       "        [0.5       , 0.        , 1.        ],\n",
       "        [0.5       , 0.        , 1.        ],\n",
       "        [0.5       , 0.        , 1.        ],\n",
       "        [0.5       , 0.        , 1.        ],\n",
       "        [0.5       , 0.        , 1.        ],\n",
       "        [0.5       , 0.        , 1.        ],\n",
       "        [0.5       , 0.        , 1.        ],\n",
       "        [0.5       , 0.        , 1.        ],\n",
       "        [0.5       , 0.        , 1.        ],\n",
       "        [0.5       , 0.        , 1.        ],\n",
       "        [0.5       , 0.        , 1.        ],\n",
       "        [0.5       , 0.        , 1.        ],\n",
       "        [0.5       , 0.00926667, 0.3908431 ],\n",
       "        [0.5       , 0.045     , 0.3908431 ],\n",
       "        [0.5       , 0.05041   , 0.3908431 ],\n",
       "        [0.5       , 0.0814    , 0.3908431 ],\n",
       "        [0.5       , 0.05213333, 0.3908431 ],\n",
       "        [0.5       , 0.07      , 0.3908431 ],\n",
       "        [0.5       , 0.04213333, 0.3908431 ],\n",
       "        [0.5       , 0.05713333, 0.3908431 ],\n",
       "        [0.5       , 0.19222667, 0.3908431 ],\n",
       "        [0.5       , 0.19      , 0.3908431 ],\n",
       "        [0.5       , 0.26426667, 0.3908431 ],\n",
       "        [0.5       , 0.16244   , 0.3908431 ],\n",
       "        [0.5       , 0.29531   , 0.3908431 ],\n",
       "        [0.5       , 0.17793667, 0.3908431 ],\n",
       "        [0.5       , 0.23208333, 0.3908431 ],\n",
       "        [0.5       , 0.16741667, 0.3908431 ],\n",
       "        [0.5       , 0.18517667, 0.3908431 ],\n",
       "        [0.5       , 0.34497667, 0.3908431 ],\n",
       "        [0.5       , 0.38455   , 0.3908431 ],\n",
       "        [0.5       , 0.44505667, 0.3908431 ],\n",
       "        [0.5       , 0.        , 1.        ],\n",
       "        [0.5       , 0.        , 1.        ],\n",
       "        [0.5       , 0.        , 1.        ],\n",
       "        [0.5       , 0.        , 1.        ],\n",
       "        [0.5       , 0.        , 1.        ],\n",
       "        [0.5       , 0.        , 1.        ],\n",
       "        [0.5       , 0.        , 1.        ],\n",
       "        [0.5       , 0.        , 1.        ],\n",
       "        [0.5       , 0.        , 1.        ],\n",
       "        [0.5       , 0.        , 1.        ],\n",
       "        [0.5       , 0.        , 1.        ],\n",
       "        [0.5       , 0.        , 1.        ],\n",
       "        [0.5       , 0.10675   , 0.        ],\n",
       "        [0.5       , 0.00141667, 0.        ],\n",
       "        [0.5       , 0.00141667, 0.        ],\n",
       "        [0.5       , 0.00141667, 0.        ],\n",
       "        [0.5       , 0.00775   , 0.        ],\n",
       "        [0.5       , 0.00141667, 0.        ],\n",
       "        [0.5       , 0.00283333, 0.        ],\n",
       "        [1.        , 0.        , 0.        ]]])"
      ]
     },
     "execution_count": 75,
     "metadata": {},
     "output_type": "execute_result"
    }
   ],
   "source": [
    "test_up[i].reshape(1,96,3)"
   ]
  },
  {
   "cell_type": "code",
   "execution_count": 78,
   "metadata": {
    "collapsed": true
   },
   "outputs": [],
   "source": [
    "pre_flex = model(torch.Tensor(test_up[48].reshape(1,96,3)))"
   ]
  },
  {
   "cell_type": "code",
   "execution_count": 79,
   "metadata": {},
   "outputs": [
    {
     "data": {
      "text/plain": [
       "array([[-4.46010381e-04, -1.10832602e-03, -8.59377906e-04,\n",
       "        -5.81506640e-04, -1.54060125e-03, -6.59724697e-04,\n",
       "        -1.02417171e-03, -9.00346786e-04, -2.52950937e-04,\n",
       "         1.60481781e-04,  5.21684065e-04, -1.10859238e-03,\n",
       "        -1.60153955e-04, -3.61286104e-04, -9.58288088e-04,\n",
       "        -1.41181797e-03, -2.27248110e-03, -1.55347213e-03,\n",
       "        -1.08926371e-03, -1.08979642e-04, -6.76926225e-04,\n",
       "        -5.54174185e-04, -1.27411634e-03, -7.97940418e-04,\n",
       "         6.66875392e-04,  3.75309959e-04, -7.16414303e-04,\n",
       "        -1.13962591e-03, -3.25622223e-03, -4.13037278e-03,\n",
       "        -1.82787888e-03, -1.18967146e-04, -8.80375504e-04,\n",
       "        -9.68914479e-04, -6.74098730e-04, -1.36364251e-05,\n",
       "        -6.14495948e-04, -1.79741718e-03, -2.08173878e-03,\n",
       "         1.44571625e-03, -8.65511596e-04, -9.65934247e-04,\n",
       "        -1.01709180e-03, -2.37543508e-03, -1.89108029e-03,\n",
       "        -1.21662393e-03, -1.15714222e-03, -1.47696771e-03,\n",
       "         9.77711439e-01,  8.54573131e-01,  4.99584436e-01,\n",
       "         3.57284009e-01,  1.60028473e-01, -7.47185946e-03,\n",
       "        -4.86664288e-03, -5.06040826e-03, -3.76919284e-03,\n",
       "        -1.85917877e-03, -3.21247429e-03,  1.13026798e-03,\n",
       "        -4.18865494e-03, -3.93669680e-03, -4.64829057e-03,\n",
       "        -1.60530023e-03, -5.03792427e-03, -4.95331362e-03,\n",
       "        -1.76229142e-03, -3.85655276e-03,  8.85549933e-04,\n",
       "        -6.01889566e-04, -2.72593275e-03, -1.00238621e-03,\n",
       "        -1.02527440e-04, -7.32287765e-03, -5.13771735e-03,\n",
       "        -3.77227180e-03, -4.92993370e-03, -3.13910656e-03,\n",
       "        -2.96794996e-03,  1.02221034e-03, -4.28121537e-04,\n",
       "        -2.28361040e-03, -1.48022175e-03, -3.30143422e-03,\n",
       "        -2.25165114e-03, -1.08291209e-03, -1.09666772e-03,\n",
       "        -1.24698877e-03, -3.69600020e-03, -4.69928980e-03,\n",
       "        -5.49098477e-04, -2.59010307e-03, -2.87616439e-03,\n",
       "        -3.30302306e-03, -2.79598497e-03, -2.46350281e-03]], dtype=float32)"
      ]
     },
     "execution_count": 79,
     "metadata": {},
     "output_type": "execute_result"
    }
   ],
   "source": [
    "pre_flex.view(1,96).detach().numpy()"
   ]
  },
  {
   "cell_type": "code",
   "execution_count": 80,
   "metadata": {},
   "outputs": [],
   "source": [
    "pre_flex_up=[]\n",
    "for i in range(96):\n",
    "    a = torch.Tensor(test_up[i].reshape(1,96,3))\n",
    "    pre_flex = model(a)\n",
    "    scaler.fit_transform(df['p_flex'].values.reshape(-1,1))\n",
    "    pre_flex = scaler.inverse_transform(pre_flex.view(1,96).detach().numpy())\n",
    "    pre_flex_up.append(pre_flex)\n",
    "pre_flex_up = np.array(pre_flex_up)\n"
   ]
  },
  {
   "cell_type": "code",
   "execution_count": 81,
   "metadata": {},
   "outputs": [
    {
     "data": {
      "text/plain": [
       "array([[ 1.32559185e+01,  2.87887535e+01,  6.07263031e+01,\n",
       "         5.87156830e+01,  9.05757904e+01,  1.54923080e+02,\n",
       "         3.22184143e+02,  3.67286944e+00,  6.28505290e-01,\n",
       "         1.91332698e+00, -9.19245541e-01,  1.81138062e+00,\n",
       "         2.25059247e+00, -2.49456614e-02, -1.77117217e+00,\n",
       "        -2.43768096e-02,  7.61340559e-01, -5.50478697e-01,\n",
       "        -1.43793786e+00, -1.77287531e+00, -1.35383940e+00,\n",
       "        -6.33553386e-01, -8.49434376e-01, -4.50188667e-01,\n",
       "        -6.05418146e-01, -1.60192144e+00, -1.69343054e+00,\n",
       "        -6.20276451e-01, -2.61069477e-01, -3.68666291e-01,\n",
       "        -1.31742501e+00, -8.41900706e-02, -2.18991089e+00,\n",
       "        -4.43096459e-01, -8.16457748e-01, -1.01567435e+00,\n",
       "        -4.22213227e-01, -1.41085529e+00, -9.47604299e-01,\n",
       "        -1.34333968e-02, -1.15214515e+00, -1.30929577e+00,\n",
       "        -2.38822985e+00, -9.84074533e-01, -9.64748085e-01,\n",
       "        -1.33773947e+00, -1.85425127e+00, -1.81054020e+00,\n",
       "        -2.81464309e-01, -6.54641151e-01, -3.61967444e-01,\n",
       "        -5.89735031e-01, -5.98208606e-01, -1.33158493e+00,\n",
       "        -1.76414919e+00, -8.58689070e-01,  7.86497474e-01,\n",
       "        -1.03097409e-01, -4.66618299e-01, -9.74347055e-01,\n",
       "        -1.65362096e+00, -1.28203106e+00, -1.27864814e+00,\n",
       "        -6.84512019e-01, -3.49975634e+00, -1.44190645e+00,\n",
       "        -5.47584176e-01, -9.19304788e-01,  6.25069797e-01,\n",
       "        -1.03832448e+00, -1.32957554e+00, -1.40175596e-01,\n",
       "         1.62434578e-01, -4.60564345e-01, -9.96483088e-01,\n",
       "        -3.03218818e+00, -2.37484026e+00, -2.19994569e+00,\n",
       "        -2.69404769e+00, -7.98260033e-01, -4.25596178e-01,\n",
       "        -1.29149365e+00, -1.40182185e+00, -1.97513843e+00,\n",
       "        -7.46643186e-01, -1.41684783e+00, -1.10857379e+00,\n",
       "        -1.17020535e+00, -3.13531685e+00, -3.45129228e+00,\n",
       "        -9.47523832e-01, -2.78388262e+00, -2.29137993e+00,\n",
       "        -2.59082270e+00, -1.64804983e+00, -1.50574517e+00]], dtype=float32)"
      ]
     },
     "execution_count": 81,
     "metadata": {},
     "output_type": "execute_result"
    }
   ],
   "source": [
    "pre_flex_up[0]"
   ]
  },
  {
   "cell_type": "code",
   "execution_count": 82,
   "metadata": {
    "collapsed": true
   },
   "outputs": [],
   "source": [
    "real_down=pd.DataFrame(real_flex_down).T\n",
    "pre_flex_down=[]\n",
    "for i in range(96):\n",
    "    a = torch.Tensor(test_down[i].reshape(1,96,3))\n",
    "    pre_flex = model(a)\n",
    "    scaler.fit_transform(df['p_flex'].values.reshape(-1,1))\n",
    "    pre_flex = scaler.inverse_transform(pre_flex.view(1,96).detach().numpy())\n",
    "    pre_flex_down.append(pre_flex)\n",
    "pre_flex_down = np.array(pre_flex_down)\n"
   ]
  },
  {
   "cell_type": "code",
   "execution_count": 83,
   "metadata": {
    "collapsed": true
   },
   "outputs": [],
   "source": [
    "#生成灵活度表征函数\n",
    "#上备用\n",
    "real_up_1step=[]\n",
    "for i in range(96):\n",
    "    a=real_flex_up[i][i]\n",
    "    real_up_1step.append(a)\n",
    "real_up_1step=np.array(real_up_1step)\n",
    "\n",
    "real_up_2step=[]\n",
    "for i in range(48):\n",
    "    a=[real_flex_up[i][i],real_flex_up[i][i+1]]\n",
    "    b=np.min(a)\n",
    "    real_up_2step.append(b)\n",
    "    real_up_2step.append(b)\n",
    "real_up_2step=np.array(real_up_2step)\n",
    "\n",
    "real_up_4step=[]\n",
    "for i in range(24):\n",
    "    a=[real_flex_up[i][i],real_flex_up[i][i+1],real_flex_up[i][i+2],real_flex_up[i][i+3]]\n",
    "    b=np.min(a)\n",
    "    real_up_4step.append(b)\n",
    "    real_up_4step.append(b)\n",
    "    real_up_4step.append(b)\n",
    "    real_up_4step.append(b)\n",
    "real_up_4step=np.array(real_up_4step)\n",
    " \n",
    "\n"
   ]
  },
  {
   "cell_type": "code",
   "execution_count": 84,
   "metadata": {
    "collapsed": true
   },
   "outputs": [],
   "source": [
    "pre_flex_up=pre_flex_up.reshape(96,96)\n",
    "pre_flex_down=pre_flex_down.reshape(96,96)"
   ]
  },
  {
   "cell_type": "code",
   "execution_count": 85,
   "metadata": {
    "collapsed": true
   },
   "outputs": [],
   "source": [
    "pre_up_1step=[]\n",
    "for i in range(96):\n",
    "    a=pre_flex_up[i][i]\n",
    "    pre_up_1step.append(a)\n",
    "pre_up_1step=np.array(pre_up_1step)\n",
    "\n",
    "pre_up_2step=[]\n",
    "for i in range(48):\n",
    "    a=[pre_flex_up[i][i],pre_flex_up[i][i+1]]\n",
    "    b=np.min(a)\n",
    "    pre_up_2step.append(b)\n",
    "    pre_up_2step.append(b)\n",
    "pre_up_2step=np.array(pre_up_2step)\n",
    "\n",
    "pre_up_4step=[]\n",
    "for i in range(24):\n",
    "    a=[pre_flex_up[i][i],pre_flex_up[i][i+1],pre_flex_up[i][i+2],pre_flex_up[i][i+3]]\n",
    "    b=np.min(a)\n",
    "    pre_up_4step.append(b)\n",
    "    pre_up_4step.append(b)\n",
    "    pre_up_4step.append(b)\n",
    "    pre_up_4step.append(b)\n",
    "pre_up_4step=np.array(pre_up_4step)\n",
    " \n",
    "\n"
   ]
  },
  {
   "cell_type": "code",
   "execution_count": 86,
   "metadata": {
    "collapsed": true
   },
   "outputs": [],
   "source": [
    "#下备用\n",
    "real_down_1step=[]\n",
    "for i in range(96):\n",
    "    a=real_flex_down[i][i]\n",
    "    real_down_1step.append(a)\n",
    "real_down_1step=np.array(real_down_1step)\n",
    "\n",
    "real_down_2step=[]\n",
    "for i in range(48):\n",
    "    a=[real_flex_down[i][i],real_flex_down[i][i+1]]\n",
    "    b=np.min(a)\n",
    "    real_down_2step.append(b)\n",
    "    real_down_2step.append(b)\n",
    "real_down_2step=np.array(real_down_2step)\n",
    "\n",
    "real_down_4step=[]\n",
    "for i in range(24):\n",
    "    a=[real_flex_down[i][i],real_flex_down[i][i+1],real_flex_down[i][i+2],real_flex_down[i][i+3]]\n",
    "    b=np.min(a)\n",
    "    real_down_4step.append(b)\n",
    "    real_down_4step.append(b)\n",
    "    real_down_4step.append(b)\n",
    "    real_down_4step.append(b)\n",
    "real_down_4step=np.array(real_down_4step)\n",
    " \n",
    "\n",
    "\n"
   ]
  },
  {
   "cell_type": "code",
   "execution_count": 87,
   "metadata": {
    "collapsed": true
   },
   "outputs": [],
   "source": [
    "pre_down_1step=[]\n",
    "for i in range(96):\n",
    "    a=pre_flex_down[i][i]\n",
    "    pre_down_1step.append(a)\n",
    "pre_down_1step=np.array(pre_down_1step)\n",
    "\n",
    "pre_down_2step=[]\n",
    "for i in range(48):\n",
    "    a=[pre_flex_down[i][i],pre_flex_down[i][i+1]]\n",
    "    b=np.min(a)\n",
    "    pre_down_2step.append(b)\n",
    "    pre_down_2step.append(b)\n",
    "pre_down_2step=np.array(pre_down_2step)\n",
    "\n",
    "pre_down_4step=[]\n",
    "for i in range(24):\n",
    "    a=[pre_flex_down[i][i],pre_flex_down[i][i+1],pre_flex_down[i][i+2],pre_flex_down[i][i+3]]\n",
    "    b=np.min(a)\n",
    "    pre_down_4step.append(b)\n",
    "    pre_down_4step.append(b)\n",
    "    pre_down_4step.append(b)\n",
    "    pre_down_4step.append(b)\n",
    "pre_down_4step=np.array(pre_down_4step)\n",
    " \n",
    "\n"
   ]
  },
  {
   "cell_type": "code",
   "execution_count": 88,
   "metadata": {},
   "outputs": [
    {
     "data": {
      "text/plain": [
       "(96,)"
      ]
     },
     "execution_count": 88,
     "metadata": {},
     "output_type": "execute_result"
    }
   ],
   "source": [
    "pre_up_1step.shape"
   ]
  },
  {
   "cell_type": "code",
   "execution_count": 89,
   "metadata": {},
   "outputs": [
    {
     "data": {
      "image/png": "[encoded data removed]",
      "text/plain": [
       "<Figure size 720x360 with 3 Axes>"
      ]
     },
     "metadata": {
      "needs_background": "light"
     },
     "output_type": "display_data"
    }
   ],
   "source": [
    "#画图\n",
    "plt.figure(figsize=(10,5))\n",
    "ax1 = plt.subplot(311)\n",
    "x1=np.linspace(0,96,96).astype(int)\n",
    "l1=plt.step(x1,real_up_1step,label='one step up backup')\n",
    "l2=plt.step(x1,pre_up_1step,label='one step predicted backup')\n",
    "plt.legend(loc = 'upper right')\n",
    "# plt.yticks(y)\n",
    "plt.grid()\n",
    "\n",
    "ax2 = plt.subplot(312)\n",
    "l1=plt.step(x1,real_up_2step,label='two step up backup')\n",
    "l2=plt.step(x1,pre_up_2step,label='two step predicted backup')\n",
    "plt.legend(loc = 'upper right')\n",
    "# plt.yticks(y)\n",
    "plt.grid()\n",
    "\n",
    "ax3 = plt.subplot(313)\n",
    "l1=plt.step(x1,real_up_4step,label='four step up backup')\n",
    "l2=plt.step(x1,pre_up_4step,label='four step predicted backup')\n",
    "plt.legend(loc = 'upper right')\n",
    "# plt.yticks(y)\n",
    "plt.grid()\n",
    "\n",
    "\n",
    "\n",
    "plt.show()\n",
    "\n"
   ]
  },
  {
   "cell_type": "code",
   "execution_count": 54,
   "metadata": {
    "collapsed": true
   },
   "outputs": [],
   "source": [
    "MAX_EPOCH = 2000\n",
    "train_loss_plot = np.load(r'G:\\科研\\代码\\July_coding\\code\\train_loss_plot.npy')\n",
    "val_loss_plot = np.load(r'G:\\科研\\代码\\July_coding\\code\\val_loss_plot.npy')\n",
    "train_loss_plot = np.reshape(train_loss_plot, [MAX_EPOCH, -1])\n",
    "val_loss_plot = np.reshape(val_loss_plot, [MAX_EPOCH, -1])"
   ]
  },
  {
   "cell_type": "code",
   "execution_count": null,
   "metadata": {
    "collapsed": true
   },
   "outputs": [],
   "source": [
    "train"
   ]
  },
  {
   "cell_type": "code",
   "execution_count": 56,
   "metadata": {},
   "outputs": [
    {
     "data": {
      "text/plain": [
       "<matplotlib.legend.Legend at 0x1fb888bc780>"
      ]
     },
     "execution_count": 56,
     "metadata": {},
     "output_type": "execute_result"
    },
    {
     "data": {
      "image/png": "[encoded data removed]",
      "text/plain": [
       "<Figure size 432x288 with 1 Axes>"
      ]
     },
     "metadata": {
      "needs_background": "light"
     },
     "output_type": "display_data"
    }
   ],
   "source": [
    "plt.figure()\n",
    "plt.plot(train_loss_plot)\n",
    "plt.plot(val_loss_plot)\n",
    "plt.legend(['train_loss_curve', 'val_loss_curve'])"
   ]
  },
  {
   "cell_type": "code",
   "execution_count": null,
   "metadata": {
    "collapsed": true
   },
   "outputs": [],
   "source": []
  }
 ],
 "metadata": {
  "kernelspec": {
   "display_name": "Python [conda env:pytorch-cpu]",
   "language": "python",
   "name": "conda-env-pytorch-cpu-py"
  },
  "language_info": {
   "codemirror_mode": {
    "name": "ipython",
    "version": 3
   },
   "file_extension": ".py",
   "mimetype": "text/x-python",
   "name": "python",
   "nbconvert_exporter": "python",
   "pygments_lexer": "ipython3",
   "version": "3.6.10"
  }
 },
 "nbformat": 4,
 "nbformat_minor": 2
}
