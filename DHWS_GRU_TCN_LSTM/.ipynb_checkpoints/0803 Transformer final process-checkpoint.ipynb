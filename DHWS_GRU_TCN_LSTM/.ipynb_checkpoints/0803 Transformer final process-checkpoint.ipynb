{
 "cells": [
  {
   "cell_type": "code",
   "execution_count": 1,
   "metadata": {
    "collapsed": true
   },
   "outputs": [],
   "source": [
    "import pandas as pd\n",
    "from sklearn.preprocessing import MinMaxScaler\n",
    "\n",
    "import matplotlib.pyplot as plt\n",
    "import matplotlib.ticker as ticker\n",
    "\n",
    "\n",
    "import numpy as np\n",
    "\n",
    "import random\n",
    "import math\n",
    "import time\n",
    "import pandas as pd\n",
    "import scipy.io\n"
   ]
  },
  {
   "cell_type": "code",
   "execution_count": 2,
   "metadata": {
    "collapsed": true
   },
   "outputs": [],
   "source": [
    "# import scipy.io\n",
    "# data1 = scipy.io.loadmat('data/user1-100.mat')\n",
    "# data2 = scipy.io.loadmat('data/user101-150.mat')\n",
    "# data3 = scipy.io.loadmat('data/user151-200.mat')\n",
    "# tariff = scipy.io.loadmat('data/Tariff2(1).mat')[\"Tariff\"][0].tolist()\n",
    "# ZP = data1[\"ZP\"].sum(axis=1) + data2[\"ZP\"].sum(axis=1) + data3[\"ZP\"].sum(axis=1)\n",
    "# ZP1 = np.concatenate((data1[\"ZP\"], data2[\"ZP\"][:, 100:], data3[\"ZP\"][:, 150:]), axis=1).T\n",
    "# ZT = np.concatenate((data1[\"ZTtank\"], data2[\"ZTtank\"][:, 100:], data3[\"ZTtank\"][:, 150:]), axis=1).T\n",
    "# pattern = pd.read_csv('data/0519 2000userpattern.csv')\n",
    "# pattern200 = np.array(pattern)[:200, 1:]"
   ]
  },
  {
   "cell_type": "code",
   "execution_count": 3,
   "metadata": {
    "collapsed": true
   },
   "outputs": [],
   "source": [
    "df=pd.read_csv('data/0728 200user.csv')"
   ]
  },
  {
   "cell_type": "code",
   "execution_count": 4,
   "metadata": {},
   "outputs": [
    {
     "data": {
      "text/html": [
       "<div>\n",
       "<style scoped>\n",
       "    .dataframe tbody tr th:only-of-type {\n",
       "        vertical-align: middle;\n",
       "    }\n",
       "\n",
       "    .dataframe tbody tr th {\n",
       "        vertical-align: top;\n",
       "    }\n",
       "\n",
       "    .dataframe thead th {\n",
       "        text-align: right;\n",
       "    }\n",
       "</style>\n",
       "<table border=\"1\" class=\"dataframe\">\n",
       "  <thead>\n",
       "    <tr style=\"text-align: right;\">\n",
       "      <th></th>\n",
       "      <th>p_norm</th>\n",
       "      <th>p_flex</th>\n",
       "      <th>ls</th>\n",
       "      <th>tariff</th>\n",
       "      <th>ls_move</th>\n",
       "    </tr>\n",
       "  </thead>\n",
       "  <tbody>\n",
       "    <tr>\n",
       "      <th>0</th>\n",
       "      <td>296.10</td>\n",
       "      <td>303.90</td>\n",
       "      <td>1</td>\n",
       "      <td>0.288</td>\n",
       "      <td>0.0</td>\n",
       "    </tr>\n",
       "    <tr>\n",
       "      <th>1</th>\n",
       "      <td>274.66</td>\n",
       "      <td>325.34</td>\n",
       "      <td>1</td>\n",
       "      <td>0.288</td>\n",
       "      <td>1.0</td>\n",
       "    </tr>\n",
       "    <tr>\n",
       "      <th>2</th>\n",
       "      <td>311.65</td>\n",
       "      <td>288.35</td>\n",
       "      <td>1</td>\n",
       "      <td>0.288</td>\n",
       "      <td>1.0</td>\n",
       "    </tr>\n",
       "    <tr>\n",
       "      <th>3</th>\n",
       "      <td>314.81</td>\n",
       "      <td>285.19</td>\n",
       "      <td>1</td>\n",
       "      <td>0.288</td>\n",
       "      <td>1.0</td>\n",
       "    </tr>\n",
       "    <tr>\n",
       "      <th>4</th>\n",
       "      <td>304.68</td>\n",
       "      <td>0.00</td>\n",
       "      <td>1</td>\n",
       "      <td>0.288</td>\n",
       "      <td>1.0</td>\n",
       "    </tr>\n",
       "  </tbody>\n",
       "</table>\n",
       "</div>"
      ],
      "text/plain": [
       "   p_norm  p_flex  ls  tariff  ls_move\n",
       "0  296.10  303.90   1   0.288      0.0\n",
       "1  274.66  325.34   1   0.288      1.0\n",
       "2  311.65  288.35   1   0.288      1.0\n",
       "3  314.81  285.19   1   0.288      1.0\n",
       "4  304.68    0.00   1   0.288      1.0"
      ]
     },
     "execution_count": 4,
     "metadata": {},
     "output_type": "execute_result"
    }
   ],
   "source": [
    "# df.head()"
   ]
  },
  {
   "cell_type": "code",
   "execution_count": 57,
   "metadata": {
    "collapsed": true
   },
   "outputs": [],
   "source": [
    "# #生成测试数据\n",
    "# test=df[['p_norm','tariff']]\n",
    "# scaler = MinMaxScaler(feature_range=(0, 1))\n",
    "# x_test=scaler.fit_transform(test[96*243-96*2:96*243-96*1])\n",
    "# real_test=df[['p_norm']][96*243-96*1:]"
   ]
  },
  {
   "cell_type": "code",
   "execution_count": 4,
   "metadata": {
    "collapsed": true
   },
   "outputs": [],
   "source": [
    "x_test = np.load('x_test.npy')\n",
    "y_test = np.load('y_test.npy')"
   ]
  },
  {
   "cell_type": "code",
   "execution_count": 5,
   "metadata": {
    "collapsed": true
   },
   "outputs": [],
   "source": [
    "#生成up和down不同的96组信号\n",
    "\n",
    "down = []\n",
    "for i in range(96):\n",
    "    row = []\n",
    "    for j in range(96):\n",
    "        if j < i:\n",
    "            row.append(0)\n",
    "        else:\n",
    "            row.append(-1)\n",
    "    down.append(row)\n",
    "down = np.array(down)\n",
    "\n",
    "up = []\n",
    "for i in range(96):\n",
    "    row = []\n",
    "    for j in range(96):\n",
    "        if j < i:\n",
    "            row.append(0)\n",
    "        else:\n",
    "            row.append(1)\n",
    "    up.append(row)\n",
    "up = np.array(up)"
   ]
  },
  {
   "cell_type": "code",
   "execution_count": 6,
   "metadata": {
    "collapsed": true
   },
   "outputs": [],
   "source": [
    "# 生成一天的灵活度\n",
    "def flexoneday(p_base, t_base, dr_sig, userpattern):\n",
    "    p_flex = np.zeros(96 , dtype=int)\n",
    "    for i in range(200):\n",
    "        flex = np.zeros(96, dtype=int).tolist()\n",
    "        temp = t_base[i]\n",
    "        p = p_base[i]\n",
    "        pattern = userpattern[i]\n",
    "        for j in range(96 - 1):\n",
    "            if dr_sig[j] == 0:\n",
    "                flex[j] = 0\n",
    "            elif dr_sig[j] == -1:\n",
    "                flex[j] = p[j]\n",
    "                p[j] = 0\n",
    "                if pattern[j] == 1 or pattern[j] == 2 or pattern[j] == 5:\n",
    "                    temp[j + 1] = temp[j] - 1.142\n",
    "                elif pattern[j] == 3:\n",
    "                    temp[j + 1] = temp[j] - 8.14\n",
    "                else:\n",
    "                    temp[j + 1] = temp[j] - 15.143\n",
    "                if temp[j] <= 60:\n",
    "                    flex[j] = 0  # 温控信号与dr信号对冲，此后灵活度均降为零\n",
    "            else:  # 正1信号代表此刻功率变为最大功率\n",
    "                flex[j] = 3 - p[j]\n",
    "                p[j] = 3\n",
    "                if pattern[j] == 1 or pattern[j] == 2 or pattern[j] == 5:\n",
    "                    temp[j + 1] = temp[j] + 6.4\n",
    "                elif pattern[j] == 3:\n",
    "                    temp[j + 1] = temp[j] - 4.6\n",
    "                else:\n",
    "                    temp[j + 1] = temp[j] - 8.6\n",
    "                if temp[j] >= 100:\n",
    "                    flex[j] = 0  # 温控信号与dr信号对冲，灵活度降为零\n",
    "        p_flex = p_flex + np.array(flex)\n",
    "    return p_flex\n"
   ]
  },
  {
   "cell_type": "code",
   "execution_count": 8,
   "metadata": {
    "collapsed": true
   },
   "outputs": [],
   "source": [
    "ZP1 = np.load('data/ZP1.npy')\n",
    "ZP = np.load('data/ZP.npy')\n",
    "ZT = np.load('data/ZT.npy')\n",
    "pattern200 = np.load('data/0519 2000userpattern.npy')[:200, 1:]\n",
    "# pattern = pd.read_csv('data/0519 2000userpattern.csv')\n",
    "# pattern200 = np.array(pattern)[:200, 1:]"
   ]
  },
  {
   "cell_type": "code",
   "execution_count": 9,
   "metadata": {
    "collapsed": true
   },
   "outputs": [],
   "source": [
    "real_flex_up = []\n",
    "for i in range(29):\n",
    "    flex1 = []\n",
    "    for j in range(96):\n",
    "        p = ZP1[:, 243*96-96*(29-i) : 243*96-96*(28-i)].copy()# 这一步很关键，否则函数会直接对ZP1进行修改，无法循环\n",
    "        t = ZT[:, 243*96-96*(29-i) : 243*96-96*(28-i)].copy()# 同上\n",
    "        a = up[j]\n",
    "        flex = flexoneday(p, t , a, pattern200[:,243*96-96*(29-i) : 243*96-96*(28-i)]).tolist()\n",
    "        flex1.append(flex)\n",
    "    real_flex_up.append(flex1)"
   ]
  },
  {
   "cell_type": "code",
   "execution_count": 13,
   "metadata": {
    "collapsed": true
   },
   "outputs": [],
   "source": [
    "real_flex_up = np.array(real_flex_up)\n",
    "np.save('data/real_flex_up.npy', real_flex_up)"
   ]
  },
  {
   "cell_type": "code",
   "execution_count": 103,
   "metadata": {
    "collapsed": true
   },
   "outputs": [],
   "source": [
    "real_flex_down = []\n",
    "for i in range(29):\n",
    "    flex1 = []\n",
    "    for j in range(96):\n",
    "        p = ZP1[:, 243*96-96*(29-i) : 243*96-96*(28-i)].copy()# 这一步很关键，否则函数会直接对ZP1进行修改，无法循环\n",
    "        t = ZT[:, 243*96-96*(29-i) : 243*96-96*(28-i)].copy()# 同上\n",
    "        a = down[j]\n",
    "        flex = flexoneday(p, t , a, pattern200[:,243*96-96*(29-i) : 243*96-96*(28-i)]).tolist()\n",
    "        flex1.append(flex)\n",
    "    real_flex_down.append(flex1)\n",
    "real_flex_down = np.array(real_flex_down)"
   ]
  },
  {
   "cell_type": "code",
   "execution_count": 102,
   "metadata": {},
   "outputs": [
    {
     "data": {
      "text/plain": [
       "(96, 96)"
      ]
     },
     "execution_count": 102,
     "metadata": {},
     "output_type": "execute_result"
    }
   ],
   "source": [
    "real_flex_up.shape"
   ]
  },
  {
   "cell_type": "code",
   "execution_count": 16,
   "metadata": {
    "collapsed": true
   },
   "outputs": [],
   "source": [
    "np.save('data/real_flex_down.npy', real_flex_down)"
   ]
  },
  {
   "cell_type": "code",
   "execution_count": 24,
   "metadata": {},
   "outputs": [
    {
     "data": {
      "text/plain": [
       "(30, 96, 3)"
      ]
     },
     "execution_count": 24,
     "metadata": {},
     "output_type": "execute_result"
    }
   ],
   "source": [
    "x_test.shape"
   ]
  },
  {
   "cell_type": "code",
   "execution_count": 23,
   "metadata": {},
   "outputs": [
    {
     "data": {
      "text/plain": [
       "(96, 96)"
      ]
     },
     "execution_count": 23,
     "metadata": {},
     "output_type": "execute_result"
    }
   ],
   "source": [
    "#根据倒数第二天数据进行序列预测\n",
    "#对信号归一化\n",
    "scaled_down = np.where(down==0,0.5,0)\n",
    "scaled_up = np.where(up==0,0.5,1)\n",
    "# test_up =[]\n",
    "# for i in range(96):\n",
    "#     a=np.hstack((np.array(scaled_up[i]).reshape(96,1),x_test))\n",
    "#     test_up.append(a)\n",
    "# test_up = np.array(test_up)\n",
    "# test_down =[]\n",
    "# for i in range(96):\n",
    "#     a=np.hstack((np.array(scaled_down[i]).reshape(96,1),x_test))\n",
    "#     test_down.append(a)\n",
    "# test_down = np.array(test_down)\n",
    "scaled_down.shape"
   ]
  },
  {
   "cell_type": "code",
   "execution_count": 29,
   "metadata": {
    "collapsed": true
   },
   "outputs": [],
   "source": [
    "test_up =[]\n",
    "for i in range(29):\n",
    "    test = []\n",
    "    for j in range(96):\n",
    "        a=np.hstack((np.array(scaled_up[j]).reshape(96,1),x_test[i,:,1:]))\n",
    "        test.append(a)\n",
    "    test_up.append(test)\n",
    "test_up = np.array(test_up)"
   ]
  },
  {
   "cell_type": "code",
   "execution_count": 31,
   "metadata": {
    "collapsed": true
   },
   "outputs": [],
   "source": [
    "np.save('data/test_up.npy',test_up)"
   ]
  },
  {
   "cell_type": "code",
   "execution_count": 32,
   "metadata": {
    "collapsed": true
   },
   "outputs": [],
   "source": [
    "test_down =[]\n",
    "for i in range(29):\n",
    "    test = []\n",
    "    for j in range(96):\n",
    "        a=np.hstack((np.array(scaled_down[j]).reshape(96,1),x_test[i,:,1:]))\n",
    "        test.append(a)\n",
    "    test_down.append(test)\n",
    "test_down = np.array(test_down)"
   ]
  },
  {
   "cell_type": "code",
   "execution_count": 34,
   "metadata": {
    "collapsed": true
   },
   "outputs": [],
   "source": [
    "np.save('data/test_down.npy',test_down)"
   ]
  },
  {
   "cell_type": "code",
   "execution_count": 35,
   "metadata": {
    "collapsed": true
   },
   "outputs": [],
   "source": [
    "import torch\n",
    "import torch.nn as nn\n",
    "import torch.optim as optim\n",
    "import torch.nn.functional as F\n",
    "from torch.nn.utils import weight_norm\n",
    "import pandas as pd\n",
    "from sklearn.preprocessing import MinMaxScaler\n",
    "\n",
    "import matplotlib.pyplot as plt\n",
    "import matplotlib.ticker as ticker\n",
    "\n",
    "import spacy\n",
    "import numpy as np\n",
    "\n",
    "import random\n",
    "import math\n",
    "import time\n",
    "import pandas as pd\n",
    "from Dilated_TCN_Model import TemporalConvNet\n"
   ]
  },
  {
   "cell_type": "code",
   "execution_count": 36,
   "metadata": {},
   "outputs": [
    {
     "name": "stdout",
     "output_type": "stream",
     "text": [
      "Now your model can capture 120 step dependency\n"
     ]
    }
   ],
   "source": [
    "class TCN(nn.Module):\n",
    "    def __init__(self, input_dim, embed_dim, num_channels, device, output_dim, kernel_sz, dropout):\n",
    "        super(TCN, self).__init__()\n",
    "        self.embed = nn.Linear(input_dim, embed_dim)\n",
    "        self.TCNBlock = TemporalConvNet(embed_dim, num_channels, device, kernel_sz, dropout)\n",
    "        self.decoder = nn.Linear(num_channels[-1], output_dim)\n",
    "\n",
    "    def forward(self, x):\n",
    "        embeded = self.embed(x)\n",
    "        out = self.TCNBlock(embeded.permute(0, 2, 1)).permute(0, 2, 1)\n",
    "        out = self.decoder(out)\n",
    "\n",
    "        return out\n",
    "\n",
    "# 计算最远可以看到多远\n",
    "channels = [128, 128, 128, 128, 128, 128]\n",
    "KERNEL_SIZE = 3\n",
    "dependency = KERNEL_SIZE * len(channels) * (len(channels) + 1) - len(channels)\n",
    "print('Now your model can capture {} step dependency'.format(dependency))\n",
    "\n",
    "# 参数预设\n",
    "INPUT_DIM = 3\n",
    "EMBED_DIM = 64\n",
    "OUTPUTDIM = 1\n",
    "DROPOUT = 0.\n",
    "TRG_PAD_IDX = 0.\n",
    "\n",
    "\n",
    "# 模型实例化\n",
    "device = torch.device('cuda' if torch.cuda.is_available() else 'cpu')\n",
    "model = TCN(INPUT_DIM, EMBED_DIM, channels, device, OUTPUTDIM, KERNEL_SIZE, 0.).to(device)"
   ]
  },
  {
   "cell_type": "code",
   "execution_count": 105,
   "metadata": {},
   "outputs": [
    {
     "data": {
      "text/plain": [
       "TCN(\n",
       "  (embed): Linear(in_features=3, out_features=64, bias=True)\n",
       "  (TCNBlock): TemporalConvNet(\n",
       "    (network): Sequential(\n",
       "      (0): TemporalBlock(\n",
       "        (conv1): Conv1d(64, 128, kernel_size=(3,), stride=(1,), padding=(2,))\n",
       "        (chomp1): Chomp1d()\n",
       "        (relu1): ReLU()\n",
       "        (dropout1): Dropout(p=0.0, inplace=False)\n",
       "        (conv2): Conv1d(128, 128, kernel_size=(3,), stride=(1,), padding=(2,))\n",
       "        (chomp2): Chomp1d()\n",
       "        (relu2): ReLU()\n",
       "        (dropout2): Dropout(p=0.0, inplace=False)\n",
       "        (net): Sequential(\n",
       "          (0): Conv1d(64, 128, kernel_size=(3,), stride=(1,), padding=(2,))\n",
       "          (1): Chomp1d()\n",
       "          (2): ReLU()\n",
       "          (3): Dropout(p=0.0, inplace=False)\n",
       "          (4): Conv1d(128, 128, kernel_size=(3,), stride=(1,), padding=(2,))\n",
       "          (5): Chomp1d()\n",
       "          (6): ReLU()\n",
       "          (7): Dropout(p=0.0, inplace=False)\n",
       "        )\n",
       "        (downsample): Conv1d(64, 128, kernel_size=(1,), stride=(1,))\n",
       "        (relu): ReLU()\n",
       "      )\n",
       "      (1): TemporalBlock(\n",
       "        (conv1): Conv1d(128, 128, kernel_size=(3,), stride=(1,), padding=(4,), dilation=(2,))\n",
       "        (chomp1): Chomp1d()\n",
       "        (relu1): ReLU()\n",
       "        (dropout1): Dropout(p=0.0, inplace=False)\n",
       "        (conv2): Conv1d(128, 128, kernel_size=(3,), stride=(1,), padding=(4,), dilation=(2,))\n",
       "        (chomp2): Chomp1d()\n",
       "        (relu2): ReLU()\n",
       "        (dropout2): Dropout(p=0.0, inplace=False)\n",
       "        (net): Sequential(\n",
       "          (0): Conv1d(128, 128, kernel_size=(3,), stride=(1,), padding=(4,), dilation=(2,))\n",
       "          (1): Chomp1d()\n",
       "          (2): ReLU()\n",
       "          (3): Dropout(p=0.0, inplace=False)\n",
       "          (4): Conv1d(128, 128, kernel_size=(3,), stride=(1,), padding=(4,), dilation=(2,))\n",
       "          (5): Chomp1d()\n",
       "          (6): ReLU()\n",
       "          (7): Dropout(p=0.0, inplace=False)\n",
       "        )\n",
       "        (relu): ReLU()\n",
       "      )\n",
       "      (2): TemporalBlock(\n",
       "        (conv1): Conv1d(128, 128, kernel_size=(3,), stride=(1,), padding=(8,), dilation=(4,))\n",
       "        (chomp1): Chomp1d()\n",
       "        (relu1): ReLU()\n",
       "        (dropout1): Dropout(p=0.0, inplace=False)\n",
       "        (conv2): Conv1d(128, 128, kernel_size=(3,), stride=(1,), padding=(8,), dilation=(4,))\n",
       "        (chomp2): Chomp1d()\n",
       "        (relu2): ReLU()\n",
       "        (dropout2): Dropout(p=0.0, inplace=False)\n",
       "        (net): Sequential(\n",
       "          (0): Conv1d(128, 128, kernel_size=(3,), stride=(1,), padding=(8,), dilation=(4,))\n",
       "          (1): Chomp1d()\n",
       "          (2): ReLU()\n",
       "          (3): Dropout(p=0.0, inplace=False)\n",
       "          (4): Conv1d(128, 128, kernel_size=(3,), stride=(1,), padding=(8,), dilation=(4,))\n",
       "          (5): Chomp1d()\n",
       "          (6): ReLU()\n",
       "          (7): Dropout(p=0.0, inplace=False)\n",
       "        )\n",
       "        (relu): ReLU()\n",
       "      )\n",
       "      (3): TemporalBlock(\n",
       "        (conv1): Conv1d(128, 128, kernel_size=(3,), stride=(1,), padding=(16,), dilation=(8,))\n",
       "        (chomp1): Chomp1d()\n",
       "        (relu1): ReLU()\n",
       "        (dropout1): Dropout(p=0.0, inplace=False)\n",
       "        (conv2): Conv1d(128, 128, kernel_size=(3,), stride=(1,), padding=(16,), dilation=(8,))\n",
       "        (chomp2): Chomp1d()\n",
       "        (relu2): ReLU()\n",
       "        (dropout2): Dropout(p=0.0, inplace=False)\n",
       "        (net): Sequential(\n",
       "          (0): Conv1d(128, 128, kernel_size=(3,), stride=(1,), padding=(16,), dilation=(8,))\n",
       "          (1): Chomp1d()\n",
       "          (2): ReLU()\n",
       "          (3): Dropout(p=0.0, inplace=False)\n",
       "          (4): Conv1d(128, 128, kernel_size=(3,), stride=(1,), padding=(16,), dilation=(8,))\n",
       "          (5): Chomp1d()\n",
       "          (6): ReLU()\n",
       "          (7): Dropout(p=0.0, inplace=False)\n",
       "        )\n",
       "        (relu): ReLU()\n",
       "      )\n",
       "      (4): TemporalBlock(\n",
       "        (conv1): Conv1d(128, 128, kernel_size=(3,), stride=(1,), padding=(32,), dilation=(16,))\n",
       "        (chomp1): Chomp1d()\n",
       "        (relu1): ReLU()\n",
       "        (dropout1): Dropout(p=0.0, inplace=False)\n",
       "        (conv2): Conv1d(128, 128, kernel_size=(3,), stride=(1,), padding=(32,), dilation=(16,))\n",
       "        (chomp2): Chomp1d()\n",
       "        (relu2): ReLU()\n",
       "        (dropout2): Dropout(p=0.0, inplace=False)\n",
       "        (net): Sequential(\n",
       "          (0): Conv1d(128, 128, kernel_size=(3,), stride=(1,), padding=(32,), dilation=(16,))\n",
       "          (1): Chomp1d()\n",
       "          (2): ReLU()\n",
       "          (3): Dropout(p=0.0, inplace=False)\n",
       "          (4): Conv1d(128, 128, kernel_size=(3,), stride=(1,), padding=(32,), dilation=(16,))\n",
       "          (5): Chomp1d()\n",
       "          (6): ReLU()\n",
       "          (7): Dropout(p=0.0, inplace=False)\n",
       "        )\n",
       "        (relu): ReLU()\n",
       "      )\n",
       "      (5): TemporalBlock(\n",
       "        (conv1): Conv1d(128, 128, kernel_size=(3,), stride=(1,), padding=(64,), dilation=(32,))\n",
       "        (chomp1): Chomp1d()\n",
       "        (relu1): ReLU()\n",
       "        (dropout1): Dropout(p=0.0, inplace=False)\n",
       "        (conv2): Conv1d(128, 128, kernel_size=(3,), stride=(1,), padding=(64,), dilation=(32,))\n",
       "        (chomp2): Chomp1d()\n",
       "        (relu2): ReLU()\n",
       "        (dropout2): Dropout(p=0.0, inplace=False)\n",
       "        (net): Sequential(\n",
       "          (0): Conv1d(128, 128, kernel_size=(3,), stride=(1,), padding=(64,), dilation=(32,))\n",
       "          (1): Chomp1d()\n",
       "          (2): ReLU()\n",
       "          (3): Dropout(p=0.0, inplace=False)\n",
       "          (4): Conv1d(128, 128, kernel_size=(3,), stride=(1,), padding=(64,), dilation=(32,))\n",
       "          (5): Chomp1d()\n",
       "          (6): ReLU()\n",
       "          (7): Dropout(p=0.0, inplace=False)\n",
       "        )\n",
       "        (relu): ReLU()\n",
       "      )\n",
       "    )\n",
       "  )\n",
       "  (decoder): Linear(in_features=128, out_features=1, bias=True)\n",
       ")"
      ]
     },
     "execution_count": 105,
     "metadata": {},
     "output_type": "execute_result"
    }
   ],
   "source": [
    "\n",
    "model.load_state_dict(torch.load ('models/0801 TCN model .pt', map_location='cpu'))\n",
    "model.eval()\n"
   ]
  },
  {
   "cell_type": "code",
   "execution_count": 39,
   "metadata": {
    "collapsed": true
   },
   "outputs": [],
   "source": [
    "# pre_flex.view(1,96).detach().numpy()"
   ]
  },
  {
   "cell_type": "code",
   "execution_count": 80,
   "metadata": {
    "collapsed": true
   },
   "outputs": [],
   "source": [
    "# pre_flex_up=[]\n",
    "# for i in range(96):\n",
    "#     a = torch.Tensor(test_up[i].reshape(1,96,3))\n",
    "#     pre_flex = model(a)\n",
    "#     scaler.fit_transform(df['p_flex'].values.reshape(-1,1))\n",
    "#     pre_flex = scaler.inverse_transform(pre_flex.view(1,96).detach().numpy())\n",
    "#     pre_flex_up.append(pre_flex)\n",
    "# pre_flex_up = np.array(pre_flex_up)\n"
   ]
  },
  {
   "cell_type": "code",
   "execution_count": 160,
   "metadata": {
    "collapsed": true
   },
   "outputs": [],
   "source": [
    "scaler = MinMaxScaler(feature_range=(0, 1))\n",
    "pre_flex_up=[]\n",
    "for i in range(29):\n",
    "    pre = []\n",
    "    for j in range(96):\n",
    "        a = torch.Tensor(test_up[i,j,:,:].reshape(1,96,3))\n",
    "        pre_flex = model(a)\n",
    "        scaler.fit_transform(df['p_flex'].values.reshape(-1,1))\n",
    "        pre_flex = scaler.inverse_transform(pre_flex.view(1,96).detach().numpy())\n",
    "        pre.append(pre_flex)\n",
    "    pre_flex_up.append(pre)\n",
    "pre_flex_up = np.array(pre_flex_up)\n"
   ]
  },
  {
   "cell_type": "code",
   "execution_count": 161,
   "metadata": {
    "collapsed": true
   },
   "outputs": [],
   "source": [
    "pre_flex_up = pre_flex_up.reshape(29,96,96)"
   ]
  },
  {
   "cell_type": "code",
   "execution_count": 162,
   "metadata": {
    "collapsed": true
   },
   "outputs": [],
   "source": [
    "scaler = MinMaxScaler(feature_range=(0, 1))\n",
    "pre_flex_down=[]\n",
    "for i in range(29):\n",
    "    pre = []\n",
    "    for j in range(96):\n",
    "        a = torch.Tensor(test_down[i,j,:,:].reshape(1,96,3))\n",
    "        pre_flex = model(a)\n",
    "        scaler.fit_transform(df['p_flex'].values.reshape(-1,1))\n",
    "        pre_flex = scaler.inverse_transform(pre_flex.view(1,96).detach().numpy())\n",
    "        pre.append(pre_flex)\n",
    "    pre_flex_down.append(pre)\n",
    "pre_flex_down = np.array(pre_flex_down)\n",
    "pre_flex_down = pre_flex_down.reshape(29,96,96)\n"
   ]
  },
  {
   "cell_type": "code",
   "execution_count": 60,
   "metadata": {
    "collapsed": true
   },
   "outputs": [],
   "source": [
    "# np.save('results/0801 TCN pre_flex_down.npy',pre_flex_down)\n",
    "# np.save('results/0801 TCN real_flex_down.npy',real_flex_down)"
   ]
  },
  {
   "cell_type": "code",
   "execution_count": 67,
   "metadata": {},
   "outputs": [
    {
     "data": {
      "text/plain": [
       "(29, 96, 96)"
      ]
     },
     "execution_count": 67,
     "metadata": {},
     "output_type": "execute_result"
    }
   ],
   "source": [
    "pre_flex_up.shape"
   ]
  },
  {
   "cell_type": "code",
   "execution_count": 69,
   "metadata": {},
   "outputs": [
    {
     "data": {
      "text/plain": [
       "106.78781195342538"
      ]
     },
     "execution_count": 69,
     "metadata": {},
     "output_type": "execute_result"
    }
   ],
   "source": [
    "a =np.sqrt(np.mean(np.power((real_flex_up[0] - pre_flex_up[0]),2)))\n",
    "a"
   ]
  },
  {
   "cell_type": "code",
   "execution_count": 163,
   "metadata": {
    "collapsed": true
   },
   "outputs": [],
   "source": [
    "real_flex_up = np.load('data/real_flex_up.npy')\n",
    "real_flex_down = np.load('data/real_flex_down.npy')"
   ]
  },
  {
   "cell_type": "code",
   "execution_count": 136,
   "metadata": {},
   "outputs": [
    {
     "data": {
      "text/plain": [
       "(29, 96, 96)"
      ]
     },
     "execution_count": 136,
     "metadata": {},
     "output_type": "execute_result"
    }
   ],
   "source": [
    "real_flex_down.shape"
   ]
  },
  {
   "cell_type": "code",
   "execution_count": 164,
   "metadata": {
    "collapsed": true
   },
   "outputs": [],
   "source": [
    "TCN_RMSE_UP = []\n",
    "TCN_MAE_UP = []\n",
    "for i in range(29):\n",
    "    rmse = np.sqrt(np.mean(np.power((real_flex_up[i] - pre_flex_up[i]),2)))\n",
    "    mae = np.mean(abs(real_flex_up[i] - pre_flex_up[i]))\n",
    "    TCN_RMSE_UP.append(rmse)\n",
    "    TCN_MAE_UP .append(mae)\n",
    "TCN_RMSE_UP = np.array(TCN_RMSE_UP)\n",
    "TCN_MAE_UP = np.array(TCN_MAE_UP)"
   ]
  },
  {
   "cell_type": "code",
   "execution_count": 165,
   "metadata": {
    "collapsed": true
   },
   "outputs": [],
   "source": [
    "TCN_RMSE_down = []\n",
    "TCN_MAE_down = []\n",
    "for i in range(29):\n",
    "    rmse = np.sqrt(np.mean(np.power((real_flex_down[i] - pre_flex_down[i]),2)))\n",
    "    mae = np.mean(abs(real_flex_down[i] - pre_flex_down[i]))\n",
    "    TCN_RMSE_down.append(rmse)\n",
    "    TCN_MAE_down .append(mae)\n",
    "TCN_RMSE_down = np.array(TCN_RMSE_down)\n",
    "TCN_MAE_down = np.array(TCN_MAE_down)"
   ]
  },
  {
   "cell_type": "code",
   "execution_count": 166,
   "metadata": {},
   "outputs": [
    {
     "data": {
      "text/plain": [
       "(29, 96, 96)"
      ]
     },
     "execution_count": 166,
     "metadata": {},
     "output_type": "execute_result"
    }
   ],
   "source": [
    "pre_flex_up.shape"
   ]
  },
  {
   "cell_type": "code",
   "execution_count": 167,
   "metadata": {},
   "outputs": [
    {
     "data": {
      "text/plain": [
       "(29,)"
      ]
     },
     "execution_count": 167,
     "metadata": {},
     "output_type": "execute_result"
    }
   ],
   "source": [
    "TCN_MAE_down.shape"
   ]
  },
  {
   "cell_type": "code",
   "execution_count": 168,
   "metadata": {},
   "outputs": [
    {
     "name": "stdout",
     "output_type": "stream",
     "text": [
      "TCN_RMSE_UP:Mean:18.965,Max:21.665,Min:18.109\n",
      "TCN_MAE_UP:Mean:2.991,Max:4.120,Min:2.600\n",
      "TCN_RMSE_down:Mean:9.617,Max:12.679,Min:7.894\n",
      "TCN_MAE_down:Mean:2.554,Max:3.127,Min:2.186\n"
     ]
    }
   ],
   "source": [
    "print(\"TCN_RMSE_UP:Mean:{:.3f},Max:{:.3f},Min:{:.3f}\".format(np.mean(TCN_RMSE_UP),np.max(TCN_RMSE_UP),np.min(TCN_RMSE_UP)))\n",
    "print(\"TCN_MAE_UP:Mean:{:.3f},Max:{:.3f},Min:{:.3f}\".format(np.mean(TCN_MAE_UP),np.max(TCN_MAE_UP),np.min(TCN_MAE_UP)))\n",
    "print(\"TCN_RMSE_down:Mean:{:.3f},Max:{:.3f},Min:{:.3f}\".format(np.mean(TCN_RMSE_down),np.max(TCN_RMSE_down),np.min(TCN_RMSE_down)))\n",
    "print(\"TCN_MAE_down:Mean:{:.3f},Max:{:.3f},Min:{:.3f}\".format(np.mean(TCN_MAE_down),np.max(TCN_MAE_down),np.min(TCN_MAE_down)))"
   ]
  },
  {
   "cell_type": "code",
   "execution_count": 148,
   "metadata": {
    "collapsed": true
   },
   "outputs": [],
   "source": [
    "data={'TCN_RMSE_UP':TCN_RMSE_UP,'TCN_MAE_UP':TCN_MAE_UP,'TCN_RMSE_down':TCN_RMSE_down,'TCN_MAE_down':TCN_MAE_down}"
   ]
  },
  {
   "cell_type": "code",
   "execution_count": 149,
   "metadata": {
    "collapsed": true
   },
   "outputs": [],
   "source": [
    "pd.DataFrame(data).to_csv('0801 TCN metrics.csv')"
   ]
  },
  {
   "cell_type": "code",
   "execution_count": 142,
   "metadata": {
    "collapsed": true
   },
   "outputs": [],
   "source": [
    "df1 = pd.read_csv('0801 LSTM metrics.csv')\n",
    "LSTM_RMSE_UP = df1['LSTM_RMSE_UP']\n",
    "LSTM_RMSE_down= df1['LSTM_RMSE_down']\n",
    "LSTM_MAE_UP= df1['LSTM_MAE_UP']\n",
    "LSTM_MAE_down= df1['LSTM_MAE_down']"
   ]
  },
  {
   "cell_type": "code",
   "execution_count": 143,
   "metadata": {
    "collapsed": true
   },
   "outputs": [],
   "source": [
    "df2 = pd.read_csv('0801 GRU metrics.csv')\n",
    "GRU_RMSE_UP = df2['GRU_RMSE_UP']\n",
    "GRU_RMSE_down= df2['GRU_RMSE_down']\n",
    "GRU_MAE_UP= df2['GRU_MAE_UP']\n",
    "GRU_MAE_down= df2['GRU_MAE_down']"
   ]
  },
  {
   "cell_type": "code",
   "execution_count": 144,
   "metadata": {},
   "outputs": [
    {
     "data": {
      "image/png": "[encoded data removed]",
      "text/plain": [
       "<Figure size 432x288 with 1 Axes>"
      ]
     },
     "metadata": {
      "needs_background": "light"
     },
     "output_type": "display_data"
    }
   ],
   "source": [
    "plt.figure()\n",
    "plt.plot(TCN_MAE_UP)\n",
    "plt.plot(LSTM_MAE_UP)\n",
    "plt.plot(GRU_MAE_UP)\n",
    "plt.legend(['TCN_MAE_UP', 'LSTM_MAE_UP','GRU_MAE_UP'])\n",
    "plt.show()"
   ]
  },
  {
   "cell_type": "code",
   "execution_count": 145,
   "metadata": {},
   "outputs": [
    {
     "data": {
      "image/png": "[encoded data removed]",
      "text/plain": [
       "<Figure size 432x288 with 1 Axes>"
      ]
     },
     "metadata": {
      "needs_background": "light"
     },
     "output_type": "display_data"
    }
   ],
   "source": [
    "plt.figure()\n",
    "plt.plot(TCN_RMSE_UP)\n",
    "plt.plot(LSTM_RMSE_UP)\n",
    "plt.plot(GRU_RMSE_UP)\n",
    "plt.legend(['TCN_RMSE_UP', 'LSTM_RMSE_UP','GRU_RMSE_UP'])\n",
    "plt.show()"
   ]
  },
  {
   "cell_type": "code",
   "execution_count": 146,
   "metadata": {},
   "outputs": [
    {
     "data": {
      "image/png": "[encoded data removed]",
      "text/plain": [
       "<Figure size 432x288 with 1 Axes>"
      ]
     },
     "metadata": {
      "needs_background": "light"
     },
     "output_type": "display_data"
    }
   ],
   "source": [
    "plt.figure()\n",
    "plt.plot(TCN_MAE_down)\n",
    "plt.plot(LSTM_MAE_down)\n",
    "plt.plot(GRU_MAE_down)\n",
    "plt.legend(['TCN_MAE_down', 'LSTM_MAE_down','GRU_MAE_down'])\n",
    "plt.show()"
   ]
  },
  {
   "cell_type": "code",
   "execution_count": 147,
   "metadata": {},
   "outputs": [
    {
     "data": {
      "image/png": "[encoded data removed]",
      "text/plain": [
       "<Figure size 432x288 with 1 Axes>"
      ]
     },
     "metadata": {
      "needs_background": "light"
     },
     "output_type": "display_data"
    }
   ],
   "source": [
    "plt.figure()\n",
    "plt.plot(TCN_RMSE_down)\n",
    "plt.plot(LSTM_RMSE_down)\n",
    "plt.plot(GRU_RMSE_down)\n",
    "plt.legend(['TCN_RMSE_down', 'LSTM_RMSE_down','GRU_RMSE_down'])\n",
    "plt.show()"
   ]
  },
  {
   "cell_type": "code",
   "execution_count": null,
   "metadata": {
    "collapsed": true
   },
   "outputs": [],
   "source": [
    "rmse_1step = np.sqrt(np.mean(np.power((real_up_1step - pre_up_1step),2)))\n",
    "mae_1step = np.mean(abs(real_up_1step - pre_up_1step))"
   ]
  },
  {
   "cell_type": "code",
   "execution_count": 186,
   "metadata": {
    "collapsed": true
   },
   "outputs": [],
   "source": [
    "real_flex_up1 = real_flex_up[7]\n",
    "real_flex_down1 = real_flex_down[7]\n",
    "pre_flex_up1 = pre_flex_up[7]\n",
    "pre_flex_down1 = pre_flex_down[7]"
   ]
  },
  {
   "cell_type": "code",
   "execution_count": 187,
   "metadata": {
    "collapsed": true
   },
   "outputs": [],
   "source": [
    "#生成灵活度表征函数\n",
    "#上备用\n",
    "\n",
    "real_up_1step=[]\n",
    "for i in range(96):\n",
    "    a=real_flex_up1[i][i]\n",
    "    real_up_1step.append(a)\n",
    "real_up_1step=np.array(real_up_1step)\n",
    "\n",
    "real_up_2step=[]\n",
    "for i in range(48):\n",
    "    a=[real_flex_up1[i][i],real_flex_up1[i][i+1]]\n",
    "    b=np.min(a)\n",
    "    real_up_2step.append(b)\n",
    "    real_up_2step.append(b)\n",
    "real_up_2step=np.array(real_up_2step)\n",
    "\n",
    "real_up_4step=[]\n",
    "for i in range(24):\n",
    "    a=[real_flex_up1[i][i],real_flex_up1[i][i+1],real_flex_up1[i][i+2],real_flex_up1[i][i+3]]\n",
    "    b=np.min(a)\n",
    "    real_up_4step.append(b)\n",
    "    real_up_4step.append(b)\n",
    "    real_up_4step.append(b)\n",
    "    real_up_4step.append(b)\n",
    "real_up_4step=np.array(real_up_4step)\n",
    " \n",
    " \n",
    "\n"
   ]
  },
  {
   "cell_type": "code",
   "execution_count": 188,
   "metadata": {
    "collapsed": true
   },
   "outputs": [],
   "source": [
    "pre_up_1step=[]\n",
    "for i in range(96):\n",
    "    a=pre_flex_up1[i][i]\n",
    "    pre_up_1step.append(a)\n",
    "pre_up_1step=np.array(pre_up_1step)\n",
    "\n",
    "pre_up_2step=[]\n",
    "for i in range(48):\n",
    "    a=[pre_flex_up1[i][i],pre_flex_up1[i][i+1]]\n",
    "    b=np.min(a)\n",
    "    pre_up_2step.append(b)\n",
    "    pre_up_2step.append(b)\n",
    "pre_up_2step=np.array(pre_up_2step)\n",
    "\n",
    "pre_up_4step=[]\n",
    "for i in range(24):\n",
    "    a=[pre_flex_up1[i][i],pre_flex_up1[i][i+1],pre_flex_up1[i][i+2],pre_flex_up1[i][i+3]]\n",
    "    b=np.min(a)\n",
    "    pre_up_4step.append(b)\n",
    "    pre_up_4step.append(b)\n",
    "    pre_up_4step.append(b)\n",
    "    pre_up_4step.append(b)\n",
    "pre_up_4step=np.array(pre_up_4step)\n",
    " \n",
    " \n",
    "\n"
   ]
  },
  {
   "cell_type": "code",
   "execution_count": 189,
   "metadata": {
    "collapsed": true
   },
   "outputs": [],
   "source": [
    "#下备用\n",
    "real_down_1step=[]\n",
    "for i in range(96):\n",
    "    a=real_flex_down1[i][i]\n",
    "    real_down_1step.append(a)\n",
    "real_down_1step=np.array(real_down_1step)\n",
    "\n",
    "real_down_2step=[]\n",
    "for i in range(48):\n",
    "    a=[real_flex_down1[i][i],real_flex_down1[i][i+1]]\n",
    "    b=np.min(a)\n",
    "    real_down_2step.append(b)\n",
    "    real_down_2step.append(b)\n",
    "real_down_2step=np.array(real_down_2step)\n",
    "\n",
    "real_down_4step=[]\n",
    "for i in range(24):\n",
    "    a=[real_flex_down1[i][i],real_flex_down1[i][i+1],real_flex_down1[i][i+2],real_flex_down1[i][i+3]]\n",
    "    b=np.min(a)\n",
    "    real_down_4step.append(b)\n",
    "    real_down_4step.append(b)\n",
    "    real_down_4step.append(b)\n",
    "    real_down_4step.append(b)\n",
    "real_down_4step=np.array(real_down_4step)\n",
    " "
   ]
  },
  {
   "cell_type": "code",
   "execution_count": 190,
   "metadata": {
    "collapsed": true
   },
   "outputs": [],
   "source": [
    "\n",
    "pre_down_1step=[]\n",
    "for i in range(96):\n",
    "    a=pre_flex_down1[i][i]\n",
    "    pre_down_1step.append(a)\n",
    "pre_down_1step=np.array(pre_down_1step)\n",
    "\n",
    "pre_down_2step=[]\n",
    "for i in range(48):\n",
    "    a=[pre_flex_down1[i][i],pre_flex_down1[i][i+1]]\n",
    "    b=np.min(a)\n",
    "    pre_down_2step.append(b)\n",
    "    pre_down_2step.append(b)\n",
    "pre_down_2step=np.array(pre_down_2step)\n",
    "\n",
    "pre_down_4step=[]\n",
    "for i in range(24):\n",
    "    a=[pre_flex_down1[i][i],pre_flex_down1[i][i+1],pre_flex_down1[i][i+2],pre_flex_down1[i][i+3]]\n",
    "    b=np.min(a)\n",
    "    pre_down_4step.append(b)\n",
    "    pre_down_4step.append(b)\n",
    "    pre_down_4step.append(b)\n",
    "    pre_down_4step.append(b)\n",
    "pre_down_4step=np.array(pre_down_4step)\n",
    " \n",
    "\n"
   ]
  },
  {
   "cell_type": "code",
   "execution_count": 191,
   "metadata": {},
   "outputs": [
    {
     "data": {
      "text/plain": [
       "(96,)"
      ]
     },
     "execution_count": 191,
     "metadata": {},
     "output_type": "execute_result"
    }
   ],
   "source": [
    "pre_up_1step.shape"
   ]
  },
  {
   "cell_type": "code",
   "execution_count": 192,
   "metadata": {},
   "outputs": [
    {
     "data": {
      "image/png": "[encoded data removed]",
      "text/plain": [
       "<Figure size 720x360 with 3 Axes>"
      ]
     },
     "metadata": {
      "needs_background": "light"
     },
     "output_type": "display_data"
    }
   ],
   "source": [
    "#画图\n",
    "plt.figure(figsize=(10,5))\n",
    "ax1 = plt.subplot(311)\n",
    "x1=np.linspace(0,96,96).astype(int)\n",
    "l1=plt.step(x1,real_up_1step,label='one step up backup')\n",
    "l2=plt.step(x1,pre_up_1step,label='one step predicted backup')\n",
    "plt.legend(loc = 'upper right')\n",
    "# plt.yticks(y)\n",
    "plt.grid()\n",
    "\n",
    "ax2 = plt.subplot(312)\n",
    "l1=plt.step(x1,real_up_2step,label='two step up backup')\n",
    "l2=plt.step(x1,pre_up_2step,label='two step predicted backup')\n",
    "plt.legend(loc = 'upper right')\n",
    "# plt.yticks(y)\n",
    "plt.grid()\n",
    "\n",
    "ax3 = plt.subplot(313)\n",
    "l1=plt.step(x1,real_up_4step,label='four step up backup')\n",
    "l2=plt.step(x1,pre_up_4step,label='four step predicted backup')\n",
    "plt.legend(loc = 'upper right')\n",
    "# plt.yticks(y)\n",
    "plt.grid()\n",
    "\n",
    "\n",
    "\n",
    "plt.show()\n",
    "\n"
   ]
  },
  {
   "cell_type": "code",
   "execution_count": 193,
   "metadata": {
    "scrolled": true
   },
   "outputs": [
    {
     "data": {
      "image/png": "[encoded data removed]",
      "text/plain": [
       "<Figure size 720x360 with 3 Axes>"
      ]
     },
     "metadata": {
      "needs_background": "light"
     },
     "output_type": "display_data"
    }
   ],
   "source": [
    "plt.figure(figsize=(10,5))\n",
    "ax1 = plt.subplot(311)\n",
    "x1=np.linspace(0,96,96).astype(int)\n",
    "l1=plt.step(x1,real_down_1step,label='one step down backup')\n",
    "l2=plt.step(x1,pre_down_1step,label='one step predicted backup')\n",
    "plt.legend(loc = 'upper right')\n",
    "# plt.yticks(y)\n",
    "plt.grid()\n",
    "\n",
    "ax2 = plt.subplot(312)\n",
    "l1=plt.step(x1,real_down_2step,label='two step down backup')\n",
    "l2=plt.step(x1,pre_down_2step,label='two step predicted backup')\n",
    "plt.legend(loc = 'upper right')\n",
    "# plt.yticks(y)\n",
    "plt.grid()\n",
    "\n",
    "ax3 = plt.subplot(313)\n",
    "l1=plt.step(x1,real_down_4step,label='four step down backup')\n",
    "l2=plt.step(x1,pre_down_4step,label='four step predicted backup')\n",
    "plt.legend(loc = 'upper right')\n",
    "# plt.yticks(y)\n",
    "plt.grid()\n",
    "\n",
    "\n",
    "\n",
    "plt.show()\n",
    "\n"
   ]
  },
  {
   "cell_type": "code",
   "execution_count": 196,
   "metadata": {
    "collapsed": true
   },
   "outputs": [],
   "source": [
    "data = {'TCN_real_up_1step':real_up_1step,'TCN_real_up_2step':real_up_2step,'TCN_real_up_4step':real_up_4step,'TCN_pre_up_1step':pre_up_1step,\n",
    "       'TCN_pre_up_2step':pre_up_2step,'TCN_pre_up_4step':pre_up_4step,'TCN_real_down_1step':real_down_1step,'TCN_real_down_2step':real_down_2step,\n",
    "        'TCN_real_down_4step':real_down_4step,'TCN_pre_down_1step':pre_down_1step,'TCN_pre_down_2step':pre_down_2step,'TCN_pre_down_4step':pre_down_4step}\n",
    "pd.DataFrame(data).to_csv('results/reatodraw_TCN flex 0802.csv')"
   ]
  },
  {
   "cell_type": "code",
   "execution_count": 194,
   "metadata": {},
   "outputs": [
    {
     "data": {
      "text/plain": [
       "(96, 96)"
      ]
     },
     "execution_count": 194,
     "metadata": {},
     "output_type": "execute_result"
    }
   ],
   "source": [
    "real_flex_up1.shape"
   ]
  },
  {
   "cell_type": "code",
   "execution_count": 3,
   "metadata": {
    "collapsed": true
   },
   "outputs": [],
   "source": [
    "MAX_EPOCH = 2000\n",
    "train_loss_plot = np.load('loss/0801 TCN train_loss_plot.npy')\n",
    "val_loss_plot = np.load('loss/0801 TCN val_loss_plot.npy')\n",
    "train_loss_plot = np.reshape(train_loss_plot, [MAX_EPOCH, -1])\n",
    "val_loss_plot = np.reshape(val_loss_plot, [MAX_EPOCH, -1])"
   ]
  },
  {
   "cell_type": "code",
   "execution_count": null,
   "metadata": {
    "collapsed": true
   },
   "outputs": [],
   "source": [
    "train"
   ]
  },
  {
   "cell_type": "code",
   "execution_count": 4,
   "metadata": {},
   "outputs": [
    {
     "data": {
      "text/plain": [
       "<matplotlib.legend.Legend at 0x20551eb3240>"
      ]
     },
     "execution_count": 4,
     "metadata": {},
     "output_type": "execute_result"
    },
    {
     "data": {
      "image/png": "[encoded data removed]",
      "text/plain": [
       "<Figure size 432x288 with 1 Axes>"
      ]
     },
     "metadata": {
      "needs_background": "light"
     },
     "output_type": "display_data"
    }
   ],
   "source": [
    "plt.figure()\n",
    "plt.plot(train_loss_plot)\n",
    "plt.plot(val_loss_plot)\n",
    "plt.legend(['train_loss_curve', 'val_loss_curve'])"
   ]
  },
  {
   "cell_type": "code",
   "execution_count": null,
   "metadata": {
    "collapsed": true
   },
   "outputs": [],
   "source": []
  }
 ],
 "metadata": {
  "kernelspec": {
   "display_name": "Python [conda env:pytorch-cpu]",
   "language": "python",
   "name": "conda-env-pytorch-cpu-py"
  },
  "language_info": {
   "codemirror_mode": {
    "name": "ipython",
    "version": 3
   },
   "file_extension": ".py",
   "mimetype": "text/x-python",
   "name": "python",
   "nbconvert_exporter": "python",
   "pygments_lexer": "ipython3",
   "version": "3.6.10"
  }
 },
 "nbformat": 4,
 "nbformat_minor": 2
}
