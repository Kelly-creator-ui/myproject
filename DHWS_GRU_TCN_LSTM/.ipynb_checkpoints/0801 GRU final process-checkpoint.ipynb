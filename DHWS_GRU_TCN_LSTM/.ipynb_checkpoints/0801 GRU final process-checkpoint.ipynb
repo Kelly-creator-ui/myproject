{
 "cells": [
  {
   "cell_type": "code",
   "execution_count": 3,
   "metadata": {
    "collapsed": true
   },
   "outputs": [],
   "source": [
    "import pandas as pd\n",
    "from sklearn.preprocessing import MinMaxScaler\n",
    "\n",
    "import matplotlib.pyplot as plt\n",
    "import matplotlib.ticker as ticker\n",
    "\n",
    "\n",
    "import numpy as np\n",
    "\n",
    "import random\n",
    "import math\n",
    "import time\n",
    "import pandas as pd\n",
    "import scipy.io\n"
   ]
  },
  {
   "cell_type": "code",
   "execution_count": 2,
   "metadata": {
    "collapsed": true
   },
   "outputs": [],
   "source": [
    "# import scipy.io\n",
    "# data1 = scipy.io.loadmat('data/user1-100.mat')\n",
    "# data2 = scipy.io.loadmat('data/user101-150.mat')\n",
    "# data3 = scipy.io.loadmat('data/user151-200.mat')\n",
    "# tariff = scipy.io.loadmat('data/Tariff2(1).mat')[\"Tariff\"][0].tolist()\n",
    "# ZP = data1[\"ZP\"].sum(axis=1) + data2[\"ZP\"].sum(axis=1) + data3[\"ZP\"].sum(axis=1)\n",
    "# ZP1 = np.concatenate((data1[\"ZP\"], data2[\"ZP\"][:, 100:], data3[\"ZP\"][:, 150:]), axis=1).T\n",
    "# ZT = np.concatenate((data1[\"ZTtank\"], data2[\"ZTtank\"][:, 100:], data3[\"ZTtank\"][:, 150:]), axis=1).T\n",
    "# pattern = pd.read_csv('data/0519 2000userpattern.csv')\n",
    "# pattern200 = np.array(pattern)[:200, 1:]"
   ]
  },
  {
   "cell_type": "code",
   "execution_count": 11,
   "metadata": {
    "collapsed": true
   },
   "outputs": [],
   "source": [
    "df=pd.read_csv('data/0728 200user.csv')"
   ]
  },
  {
   "cell_type": "code",
   "execution_count": 4,
   "metadata": {},
   "outputs": [
    {
     "data": {
      "text/html": [
       "<div>\n",
       "<style scoped>\n",
       "    .dataframe tbody tr th:only-of-type {\n",
       "        vertical-align: middle;\n",
       "    }\n",
       "\n",
       "    .dataframe tbody tr th {\n",
       "        vertical-align: top;\n",
       "    }\n",
       "\n",
       "    .dataframe thead th {\n",
       "        text-align: right;\n",
       "    }\n",
       "</style>\n",
       "<table border=\"1\" class=\"dataframe\">\n",
       "  <thead>\n",
       "    <tr style=\"text-align: right;\">\n",
       "      <th></th>\n",
       "      <th>p_norm</th>\n",
       "      <th>p_flex</th>\n",
       "      <th>ls</th>\n",
       "      <th>tariff</th>\n",
       "      <th>ls_move</th>\n",
       "    </tr>\n",
       "  </thead>\n",
       "  <tbody>\n",
       "    <tr>\n",
       "      <th>0</th>\n",
       "      <td>296.10</td>\n",
       "      <td>303.90</td>\n",
       "      <td>1</td>\n",
       "      <td>0.288</td>\n",
       "      <td>0.0</td>\n",
       "    </tr>\n",
       "    <tr>\n",
       "      <th>1</th>\n",
       "      <td>274.66</td>\n",
       "      <td>325.34</td>\n",
       "      <td>1</td>\n",
       "      <td>0.288</td>\n",
       "      <td>1.0</td>\n",
       "    </tr>\n",
       "    <tr>\n",
       "      <th>2</th>\n",
       "      <td>311.65</td>\n",
       "      <td>288.35</td>\n",
       "      <td>1</td>\n",
       "      <td>0.288</td>\n",
       "      <td>1.0</td>\n",
       "    </tr>\n",
       "    <tr>\n",
       "      <th>3</th>\n",
       "      <td>314.81</td>\n",
       "      <td>285.19</td>\n",
       "      <td>1</td>\n",
       "      <td>0.288</td>\n",
       "      <td>1.0</td>\n",
       "    </tr>\n",
       "    <tr>\n",
       "      <th>4</th>\n",
       "      <td>304.68</td>\n",
       "      <td>0.00</td>\n",
       "      <td>1</td>\n",
       "      <td>0.288</td>\n",
       "      <td>1.0</td>\n",
       "    </tr>\n",
       "  </tbody>\n",
       "</table>\n",
       "</div>"
      ],
      "text/plain": [
       "   p_norm  p_flex  ls  tariff  ls_move\n",
       "0  296.10  303.90   1   0.288      0.0\n",
       "1  274.66  325.34   1   0.288      1.0\n",
       "2  311.65  288.35   1   0.288      1.0\n",
       "3  314.81  285.19   1   0.288      1.0\n",
       "4  304.68    0.00   1   0.288      1.0"
      ]
     },
     "execution_count": 4,
     "metadata": {},
     "output_type": "execute_result"
    }
   ],
   "source": [
    "# df.head()"
   ]
  },
  {
   "cell_type": "code",
   "execution_count": 57,
   "metadata": {
    "collapsed": true
   },
   "outputs": [],
   "source": [
    "# #生成测试数据\n",
    "# test=df[['p_norm','tariff']]\n",
    "# scaler = MinMaxScaler(feature_range=(0, 1))\n",
    "# x_test=scaler.fit_transform(test[96*243-96*2:96*243-96*1])\n",
    "# real_test=df[['p_norm']][96*243-96*1:]"
   ]
  },
  {
   "cell_type": "code",
   "execution_count": 3,
   "metadata": {
    "collapsed": true
   },
   "outputs": [],
   "source": [
    "x_test = np.load('x_test.npy')\n",
    "y_test = np.load('y_test.npy')"
   ]
  },
  {
   "cell_type": "code",
   "execution_count": 5,
   "metadata": {
    "collapsed": true
   },
   "outputs": [],
   "source": [
    "#生成up和down不同的96组信号\n",
    "\n",
    "# down = []\n",
    "# for i in range(96):\n",
    "#     row = []\n",
    "#     for j in range(96):\n",
    "#         if j < i:\n",
    "#             row.append(0)\n",
    "#         else:\n",
    "#             row.append(-1)\n",
    "#     down.append(row)\n",
    "# down = np.array(down)\n",
    "\n",
    "# up = []\n",
    "# for i in range(96):\n",
    "#     row = []\n",
    "#     for j in range(96):\n",
    "#         if j < i:\n",
    "#             row.append(0)\n",
    "#         else:\n",
    "#             row.append(1)\n",
    "#     up.append(row)\n",
    "# up = np.array(up)"
   ]
  },
  {
   "cell_type": "code",
   "execution_count": 6,
   "metadata": {
    "collapsed": true
   },
   "outputs": [],
   "source": [
    "# 生成一天的灵活度\n",
    "# def flexoneday(p_base, t_base, dr_sig, userpattern):\n",
    "#     p_flex = np.zeros(96 , dtype=int)\n",
    "#     for i in range(200):\n",
    "#         flex = np.zeros(96, dtype=int).tolist()\n",
    "#         temp = t_base[i]\n",
    "#         p = p_base[i]\n",
    "#         pattern = userpattern[i]\n",
    "#         for j in range(96 - 1):\n",
    "#             if dr_sig[j] == 0:\n",
    "#                 flex[j] = 0\n",
    "#             elif dr_sig[j] == -1:\n",
    "#                 flex[j] = p[j]\n",
    "#                 p[j] = 0\n",
    "#                 if pattern[j] == 1 or pattern[j] == 2 or pattern[j] == 5:\n",
    "#                     temp[j + 1] = temp[j] - 1.142\n",
    "#                 elif pattern[j] == 3:\n",
    "#                     temp[j + 1] = temp[j] - 8.14\n",
    "#                 else:\n",
    "#                     temp[j + 1] = temp[j] - 15.143\n",
    "#                 if temp[j] <= 60:\n",
    "#                     flex[j] = 0  # 温控信号与dr信号对冲，此后灵活度均降为零\n",
    "#             else:  # 正1信号代表此刻功率变为最大功率\n",
    "#                 flex[j] = 3 - p[j]\n",
    "#                 p[j] = 3\n",
    "#                 if pattern[j] == 1 or pattern[j] == 2 or pattern[j] == 5:\n",
    "#                     temp[j + 1] = temp[j] + 6.4\n",
    "#                 elif pattern[j] == 3:\n",
    "#                     temp[j + 1] = temp[j] - 4.6\n",
    "#                 else:\n",
    "#                     temp[j + 1] = temp[j] - 8.6\n",
    "#                 if temp[j] >= 100:\n",
    "#                     flex[j] = 0  # 温控信号与dr信号对冲，灵活度降为零\n",
    "#         p_flex = p_flex + np.array(flex)\n",
    "#     return p_flex\n"
   ]
  },
  {
   "cell_type": "code",
   "execution_count": 8,
   "metadata": {
    "collapsed": true
   },
   "outputs": [],
   "source": [
    "# ZP1 = np.load('data/ZP1.npy')\n",
    "# ZP = np.load('data/ZP.npy')\n",
    "# ZT = np.load('data/ZT.npy')\n",
    "# pattern200 = np.load('data/0519 2000userpattern.npy')[:200, 1:]\n",
    "# pattern = pd.read_csv('data/0519 2000userpattern.csv')\n",
    "# pattern200 = np.array(pattern)[:200, 1:]"
   ]
  },
  {
   "cell_type": "code",
   "execution_count": 9,
   "metadata": {
    "collapsed": true
   },
   "outputs": [],
   "source": [
    "# real_flex_up = []\n",
    "# for i in range(29):\n",
    "#     flex1 = []\n",
    "#     for j in range(96):\n",
    "#         p = ZP1[:, 243*96-96*(29-i) : 243*96-96*(28-i)].copy()# 这一步很关键，否则函数会直接对ZP1进行修改，无法循环\n",
    "#         t = ZT[:, 243*96-96*(29-i) : 243*96-96*(28-i)].copy()# 同上\n",
    "#         a = up[j]\n",
    "#         flex = flexoneday(p, t , a, pattern200[:,243*96-96*(29-i) : 243*96-96*(28-i)]).tolist()\n",
    "#         flex1.append(flex)\n",
    "#     real_flex_up.append(flex1)"
   ]
  },
  {
   "cell_type": "code",
   "execution_count": 13,
   "metadata": {
    "collapsed": true
   },
   "outputs": [],
   "source": [
    "# real_flex_up = np.array(real_flex_up)\n",
    "# np.save('data/real_flex_up.npy', real_flex_up)"
   ]
  },
  {
   "cell_type": "code",
   "execution_count": 16,
   "metadata": {
    "collapsed": true
   },
   "outputs": [],
   "source": [
    "real_flex_up = np.load('data/real_flex_up.npy')\n",
    "real_flex_down = np.load('data/real_flex_down.npy')"
   ]
  },
  {
   "cell_type": "code",
   "execution_count": 6,
   "metadata": {},
   "outputs": [
    {
     "data": {
      "text/plain": [
       "(29, 96, 96)"
      ]
     },
     "execution_count": 6,
     "metadata": {},
     "output_type": "execute_result"
    }
   ],
   "source": [
    "# real_flex_up.shape"
   ]
  },
  {
   "cell_type": "code",
   "execution_count": 14,
   "metadata": {
    "collapsed": true
   },
   "outputs": [],
   "source": [
    "# real_flex_down = []\n",
    "# for i in range(29):\n",
    "#     flex1 = []\n",
    "#     for j in range(96):\n",
    "#         p = ZP1[:, 243*96-96*(29-i) : 243*96-96*(28-i)].copy()# 这一步很关键，否则函数会直接对ZP1进行修改，无法循环\n",
    "#         t = ZT[:, 243*96-96*(29-i) : 243*96-96*(28-i)].copy()# 同上\n",
    "#         a = down[j]\n",
    "#         flex = flexoneday(p, t , a, pattern200[:,243*96-96*(29-i) : 243*96-96*(28-i)]).tolist()\n",
    "#         flex1.append(flex)\n",
    "#     real_flex_down.append(flex1)\n",
    "# real_flex_down = np.array(real_flex_down)"
   ]
  },
  {
   "cell_type": "code",
   "execution_count": 16,
   "metadata": {
    "collapsed": true
   },
   "outputs": [],
   "source": [
    "# np.save('data/real_flex_down.npy', real_flex_down)"
   ]
  },
  {
   "cell_type": "code",
   "execution_count": 23,
   "metadata": {},
   "outputs": [
    {
     "data": {
      "text/plain": [
       "(96, 96)"
      ]
     },
     "execution_count": 23,
     "metadata": {},
     "output_type": "execute_result"
    }
   ],
   "source": [
    "# #根据倒数第二天数据进行序列预测\n",
    "# #对信号归一化\n",
    "# scaled_down = np.where(down==0,0.5,0)\n",
    "# scaled_up = np.where(up==0,0.5,1)\n",
    "# # test_up =[]\n",
    "# # for i in range(96):\n",
    "# #     a=np.hstack((np.array(scaled_up[i]).reshape(96,1),x_test))\n",
    "# #     test_up.append(a)\n",
    "# # test_up = np.array(test_up)\n",
    "# # test_down =[]\n",
    "# # for i in range(96):\n",
    "# #     a=np.hstack((np.array(scaled_down[i]).reshape(96,1),x_test))\n",
    "# #     test_down.append(a)\n",
    "# # test_down = np.array(test_down)\n",
    "# scaled_down.shape"
   ]
  },
  {
   "cell_type": "code",
   "execution_count": 29,
   "metadata": {
    "collapsed": true
   },
   "outputs": [],
   "source": [
    "# test_up =[]\n",
    "# for i in range(29):\n",
    "#     test = []\n",
    "#     for j in range(96):\n",
    "#         a=np.hstack((np.array(scaled_up[j]).reshape(96,1),x_test[i,:,1:]))\n",
    "#         test.append(a)\n",
    "#     test_up.append(test)\n",
    "# test_up = np.array(test_up)"
   ]
  },
  {
   "cell_type": "code",
   "execution_count": 31,
   "metadata": {
    "collapsed": true
   },
   "outputs": [],
   "source": [
    "# np.save('data/test_up.npy',test_up)"
   ]
  },
  {
   "cell_type": "code",
   "execution_count": 6,
   "metadata": {
    "collapsed": true
   },
   "outputs": [],
   "source": [
    "test_up = np.load('data/test_up.npy')\n",
    "test_down = np.load('data/test_down.npy')"
   ]
  },
  {
   "cell_type": "code",
   "execution_count": 32,
   "metadata": {
    "collapsed": true
   },
   "outputs": [],
   "source": [
    "# test_down =[]\n",
    "# for i in range(29):\n",
    "#     test = []\n",
    "#     for j in range(96):\n",
    "#         a=np.hstack((np.array(scaled_down[j]).reshape(96,1),x_test[i,:,1:]))\n",
    "#         test.append(a)\n",
    "#     test_down.append(test)\n",
    "# test_down = np.array(test_down)"
   ]
  },
  {
   "cell_type": "code",
   "execution_count": 34,
   "metadata": {
    "collapsed": true
   },
   "outputs": [],
   "source": [
    "# np.save('data/test_down.npy',test_down)"
   ]
  },
  {
   "cell_type": "code",
   "execution_count": 9,
   "metadata": {
    "collapsed": true
   },
   "outputs": [],
   "source": [
    "# import torch\n",
    "# import torch.nn as nn\n",
    "# import torch.optim as optim\n",
    "# import torch.nn.functional as F\n",
    "# from torch.nn.utils import weight_norm\n",
    "# import pandas as pd\n",
    "# from sklearn.preprocessing import MinMaxScaler\n",
    "\n",
    "# import matplotlib.pyplot as plt\n",
    "# import matplotlib.ticker as ticker\n",
    "\n",
    "# import spacy\n",
    "# import numpy as np\n",
    "\n",
    "# import random\n",
    "# import math\n",
    "# import time\n",
    "# import pandas as pd\n",
    "# from Dilated_TCN_Model import TemporalConvNet\n"
   ]
  },
  {
   "cell_type": "code",
   "execution_count": 8,
   "metadata": {},
   "outputs": [],
   "source": [
    "\n",
    "from keras.models import load_model\n",
    "model = load_model('models/0728 LSTM.h5')\n"
   ]
  },
  {
   "cell_type": "code",
   "execution_count": 39,
   "metadata": {
    "collapsed": true
   },
   "outputs": [],
   "source": [
    "# pre_flex.view(1,96).detach().numpy()"
   ]
  },
  {
   "cell_type": "code",
   "execution_count": 80,
   "metadata": {
    "collapsed": true
   },
   "outputs": [],
   "source": [
    "# pre_flex_up=[]\n",
    "# for i in range(96):\n",
    "#     a = torch.Tensor(test_up[i].reshape(1,96,3))\n",
    "#     pre_flex = model(a)\n",
    "#     scaler.fit_transform(df['p_flex'].values.reshape(-1,1))\n",
    "#     pre_flex = scaler.inverse_transform(pre_flex.view(1,96).detach().numpy())\n",
    "#     pre_flex_up.append(pre_flex)\n",
    "# pre_flex_up = np.array(pre_flex_up)\n"
   ]
  },
  {
   "cell_type": "code",
   "execution_count": 12,
   "metadata": {},
   "outputs": [],
   "source": [
    "scaler = MinMaxScaler(feature_range=(0, 1))\n",
    "pre_flex_up=[]\n",
    "for i in range(29):\n",
    "    pre = []\n",
    "    for j in range(96):\n",
    "        a = test_up[i,j,:,:].reshape(1,96,3)\n",
    "        pre_flex = model.predict(a)\n",
    "        scaler.fit_transform(df['p_flex'].values.reshape(-1,1))\n",
    "        pre_flex = scaler.inverse_transform(pre_flex.reshape(1,96))\n",
    "        pre.append(pre_flex)\n",
    "    pre_flex_up.append(pre)\n",
    "pre_flex_up = np.array(pre_flex_up)\n"
   ]
  },
  {
   "cell_type": "code",
   "execution_count": 13,
   "metadata": {
    "collapsed": true
   },
   "outputs": [],
   "source": [
    "pre_flex_up = pre_flex_up.reshape(29,96,96)"
   ]
  },
  {
   "cell_type": "code",
   "execution_count": 63,
   "metadata": {
    "collapsed": true
   },
   "outputs": [],
   "source": [
    "# pre_flex_up = np.load('results/0801 TCN pre_flex_up.npy')\n",
    "# real_flex_up = np.load('results/0801 TCN real_flex_up.npy')"
   ]
  },
  {
   "cell_type": "code",
   "execution_count": 14,
   "metadata": {
    "collapsed": true
   },
   "outputs": [],
   "source": [
    "scaler = MinMaxScaler(feature_range=(0, 1))\n",
    "pre_flex_down=[]\n",
    "for i in range(29):\n",
    "    pre = []\n",
    "    for j in range(96):\n",
    "        a = test_down[i,j,:,:].reshape(1,96,3)\n",
    "        pre_flex = model.predict(a)\n",
    "        scaler.fit_transform(df['p_flex'].values.reshape(-1,1))\n",
    "        pre_flex = scaler.inverse_transform(pre_flex.reshape(1,96))\n",
    "        pre.append(pre_flex)\n",
    "    pre_flex_down.append(pre)\n",
    "pre_flex_down = np.array(pre_flex_down)\n",
    "pre_flex_down = pre_flex_down.reshape(29,96,96)\n"
   ]
  },
  {
   "cell_type": "code",
   "execution_count": 17,
   "metadata": {},
   "outputs": [],
   "source": [
    "np.save('results/0801 LSTM pre_flex_down.npy',pre_flex_down)\n",
    "np.save('results/0801 LSTM real_flex_down.npy',real_flex_down)"
   ]
  },
  {
   "cell_type": "code",
   "execution_count": 33,
   "metadata": {
    "collapsed": true
   },
   "outputs": [],
   "source": [
    "pre_flex_down = np.load('results/0801 LSTM pre_flex_down.npy')\n",
    "real_flex_down = np.load('results/0801 LSTM real_flex_down.npy')"
   ]
  },
  {
   "cell_type": "code",
   "execution_count": 37,
   "metadata": {},
   "outputs": [
    {
     "data": {
      "text/plain": [
       "(29, 96, 96)"
      ]
     },
     "execution_count": 37,
     "metadata": {},
     "output_type": "execute_result"
    }
   ],
   "source": [
    "pre_flex_down.shape"
   ]
  },
  {
   "cell_type": "code",
   "execution_count": 41,
   "metadata": {},
   "outputs": [
    {
     "data": {
      "text/plain": [
       "11.506414424293343"
      ]
     },
     "execution_count": 41,
     "metadata": {},
     "output_type": "execute_result"
    }
   ],
   "source": [
    "a = np.sqrt(np.mean(np.power((pre_flex_down[4,40,:] - real_flex_down[4,40,:]),2)))\n",
    "a"
   ]
  },
  {
   "cell_type": "code",
   "execution_count": 18,
   "metadata": {
    "collapsed": true
   },
   "outputs": [],
   "source": [
    "RMSE_UP = []\n",
    "MAE_UP = []\n",
    "for i in range(29):\n",
    "    rmse = np.sqrt(np.mean(np.power((real_flex_up[i] - pre_flex_up[i]),2)))\n",
    "    mae = np.mean(abs(real_flex_up[i] - pre_flex_up[i]))\n",
    "    RMSE_UP.append(rmse)\n",
    "    MAE_UP .append(mae)\n",
    "RMSE_UP = np.array(RMSE_UP)\n",
    "MAE_UP = np.array(MAE_UP)"
   ]
  },
  {
   "cell_type": "code",
   "execution_count": 32,
   "metadata": {},
   "outputs": [
    {
     "data": {
      "text/plain": [
       "array([26.20630898, 25.1490357 , 25.30904773, 26.15238692, 24.54277936,\n",
       "       26.99350966, 28.94398988, 24.97663248, 25.89817974, 25.54118245,\n",
       "       25.45224964, 26.17602557, 27.35873991, 25.2778471 , 26.1209934 ,\n",
       "       24.74118201, 25.83076262, 25.23080449, 26.63220545, 24.82749203,\n",
       "       26.76495001, 25.45790717, 25.03201525, 24.69704397, 25.02129505,\n",
       "       26.33235522, 25.14324623, 25.3346294 , 25.4319189 ])"
      ]
     },
     "execution_count": 32,
     "metadata": {},
     "output_type": "execute_result"
    }
   ],
   "source": [
    "RMSE_UP"
   ]
  },
  {
   "cell_type": "code",
   "execution_count": 20,
   "metadata": {},
   "outputs": [],
   "source": [
    "RMSE_down = []\n",
    "MAE_down = []\n",
    "for i in range(29):\n",
    "    rmse = np.sqrt(np.mean(np.power((real_flex_down[i] - pre_flex_down[i]),2)))\n",
    "    mae = np.mean(abs(real_flex_down[i] - pre_flex_down[i]))\n",
    "    RMSE_down.append(rmse)\n",
    "    MAE_down .append(mae)\n",
    "RMSE_down = np.array(RMSE_down)\n",
    "MAE_down = np.array(MAE_down)"
   ]
  },
  {
   "cell_type": "code",
   "execution_count": 21,
   "metadata": {},
   "outputs": [
    {
     "name": "stdout",
     "output_type": "stream",
     "text": [
      "LSTM_RMSE_UP:Mean:25.744,Max:28.944,Min:24.543\n",
      "LSTM_MAE_UP:Mean:8.771,Max:9.837,Min:8.112\n",
      "LSTM_RMSE_down:Mean:23.670,Max:26.969,Min:21.640\n",
      "LSTM_MAE_down:Mean:8.687,Max:9.754,Min:7.674\n"
     ]
    }
   ],
   "source": [
    "print(\"LSTM_RMSE_UP:Mean:{:.3f},Max:{:.3f},Min:{:.3f}\".format(np.mean(RMSE_UP),np.max(RMSE_UP),np.min(RMSE_UP)))\n",
    "print(\"LSTM_MAE_UP:Mean:{:.3f},Max:{:.3f},Min:{:.3f}\".format(np.mean(MAE_UP),np.max(MAE_UP),np.min(MAE_UP)))\n",
    "print(\"LSTM_RMSE_down:Mean:{:.3f},Max:{:.3f},Min:{:.3f}\".format(np.mean(RMSE_down),np.max(RMSE_down),np.min(RMSE_down)))\n",
    "print(\"LSTM_MAE_down:Mean:{:.3f},Max:{:.3f},Min:{:.3f}\".format(np.mean(MAE_down),np.max(MAE_down),np.min(MAE_down)))"
   ]
  },
  {
   "cell_type": "code",
   "execution_count": 22,
   "metadata": {
    "collapsed": true
   },
   "outputs": [],
   "source": [
    "data={'LSTM_RMSE_UP':RMSE_UP,'LSTM_MAE_UP':MAE_UP,'LSTM_RMSE_down':RMSE_down,'LSTM_MAE_down':MAE_down}"
   ]
  },
  {
   "cell_type": "code",
   "execution_count": 23,
   "metadata": {
    "collapsed": true
   },
   "outputs": [],
   "source": [
    "pd.DataFrame(data).to_csv('0801 LSTM metrics.csv')"
   ]
  },
  {
   "cell_type": "code",
   "execution_count": null,
   "metadata": {
    "collapsed": true
   },
   "outputs": [],
   "source": [
    "rmse_1step = np.sqrt(np.mean(np.power((real_up_1step - pre_up_1step),2)))\n",
    "mae_1step = np.mean(abs(real_up_1step - pre_up_1step))"
   ]
  },
  {
   "cell_type": "code",
   "execution_count": 24,
   "metadata": {
    "collapsed": true
   },
   "outputs": [],
   "source": [
    "#生成灵活度表征函数\n",
    "#上备用\n",
    "real_flex_up = real_flex_up[1]\n",
    "real_up_1step=[]\n",
    "for i in range(96):\n",
    "    a=real_flex_up[i][i]\n",
    "    real_up_1step.append(a)\n",
    "real_up_1step=np.array(real_up_1step)\n",
    "\n",
    "real_up_2step=[]\n",
    "for i in range(48):\n",
    "    a=[real_flex_up[i][i],real_flex_up[i][i+1]]\n",
    "    b=np.min(a)\n",
    "    real_up_2step.append(b)\n",
    "    real_up_2step.append(b)\n",
    "real_up_2step=np.array(real_up_2step)\n",
    "\n",
    "real_up_4step=[]\n",
    "for i in range(24):\n",
    "    a=[real_flex_up[i][i],real_flex_up[i][i+1],real_flex_up[i][i+2],real_flex_up[i][i+3]]\n",
    "    b=np.min(a)\n",
    "    real_up_4step.append(b)\n",
    "    real_up_4step.append(b)\n",
    "    real_up_4step.append(b)\n",
    "    real_up_4step.append(b)\n",
    "real_up_4step=np.array(real_up_4step)\n",
    " \n",
    "\n"
   ]
  },
  {
   "cell_type": "code",
   "execution_count": 25,
   "metadata": {},
   "outputs": [
    {
     "ename": "ValueError",
     "evalue": "cannot reshape array of size 267264 into shape (96,96)",
     "output_type": "error",
     "traceback": [
      "\u001b[1;31m---------------------------------------------------------------------------\u001b[0m",
      "\u001b[1;31mValueError\u001b[0m                                Traceback (most recent call last)",
      "\u001b[1;32m<ipython-input-25-f3c81e0e7205>\u001b[0m in \u001b[0;36m<module>\u001b[1;34m()\u001b[0m\n\u001b[1;32m----> 1\u001b[1;33m \u001b[0mpre_flex_up\u001b[0m\u001b[1;33m=\u001b[0m\u001b[0mpre_flex_up\u001b[0m\u001b[1;33m.\u001b[0m\u001b[0mreshape\u001b[0m\u001b[1;33m(\u001b[0m\u001b[1;36m96\u001b[0m\u001b[1;33m,\u001b[0m\u001b[1;36m96\u001b[0m\u001b[1;33m)\u001b[0m\u001b[1;33m\u001b[0m\u001b[0m\n\u001b[0m\u001b[0;32m      2\u001b[0m \u001b[0mpre_flex_down\u001b[0m\u001b[1;33m=\u001b[0m\u001b[0mpre_flex_down\u001b[0m\u001b[1;33m.\u001b[0m\u001b[0mreshape\u001b[0m\u001b[1;33m(\u001b[0m\u001b[1;36m96\u001b[0m\u001b[1;33m,\u001b[0m\u001b[1;36m96\u001b[0m\u001b[1;33m)\u001b[0m\u001b[1;33m\u001b[0m\u001b[0m\n",
      "\u001b[1;31mValueError\u001b[0m: cannot reshape array of size 267264 into shape (96,96)"
     ]
    }
   ],
   "source": [
    "pre_flex_up=pre_flex_up.reshape(96,96)\n",
    "pre_flex_down=pre_flex_down.reshape(96,96)"
   ]
  },
  {
   "cell_type": "code",
   "execution_count": 26,
   "metadata": {
    "collapsed": true
   },
   "outputs": [],
   "source": [
    "pre_flex_up = pre_flex_up[1]\n",
    "pre_up_1step=[]\n",
    "for i in range(96):\n",
    "    a=pre_flex_up[i][i]\n",
    "    pre_up_1step.append(a)\n",
    "pre_up_1step=np.array(pre_up_1step)\n",
    "\n",
    "pre_up_2step=[]\n",
    "for i in range(48):\n",
    "    a=[pre_flex_up[i][i],pre_flex_up[i][i+1]]\n",
    "    b=np.min(a)\n",
    "    pre_up_2step.append(b)\n",
    "    pre_up_2step.append(b)\n",
    "pre_up_2step=np.array(pre_up_2step)\n",
    "\n",
    "pre_up_4step=[]\n",
    "for i in range(24):\n",
    "    a=[pre_flex_up[i][i],pre_flex_up[i][i+1],pre_flex_up[i][i+2],pre_flex_up[i][i+3]]\n",
    "    b=np.min(a)\n",
    "    pre_up_4step.append(b)\n",
    "    pre_up_4step.append(b)\n",
    "    pre_up_4step.append(b)\n",
    "    pre_up_4step.append(b)\n",
    "pre_up_4step=np.array(pre_up_4step)\n",
    " \n",
    "\n"
   ]
  },
  {
   "cell_type": "code",
   "execution_count": 27,
   "metadata": {
    "collapsed": true
   },
   "outputs": [],
   "source": [
    "#下备用\n",
    "real_flex_down = real_flex_down[2]\n",
    "real_down_1step=[]\n",
    "for i in range(96):\n",
    "    a=real_flex_down[i][i]\n",
    "    real_down_1step.append(a)\n",
    "real_down_1step=np.array(real_down_1step)\n",
    "\n",
    "real_down_2step=[]\n",
    "for i in range(48):\n",
    "    a=[real_flex_down[i][i],real_flex_down[i][i+1]]\n",
    "    b=np.min(a)\n",
    "    real_down_2step.append(b)\n",
    "    real_down_2step.append(b)\n",
    "real_down_2step=np.array(real_down_2step)\n",
    "\n",
    "real_down_4step=[]\n",
    "for i in range(24):\n",
    "    a=[real_flex_down[i][i],real_flex_down[i][i+1],real_flex_down[i][i+2],real_flex_down[i][i+3]]\n",
    "    b=np.min(a)\n",
    "    real_down_4step.append(b)\n",
    "    real_down_4step.append(b)\n",
    "    real_down_4step.append(b)\n",
    "    real_down_4step.append(b)\n",
    "real_down_4step=np.array(real_down_4step)\n",
    " \n",
    "\n",
    "\n"
   ]
  },
  {
   "cell_type": "code",
   "execution_count": 28,
   "metadata": {
    "collapsed": true
   },
   "outputs": [],
   "source": [
    "pre_flex_down = pre_flex_down[2]\n",
    "pre_down_1step=[]\n",
    "for i in range(96):\n",
    "    a=pre_flex_down[i][i]\n",
    "    pre_down_1step.append(a)\n",
    "pre_down_1step=np.array(pre_down_1step)\n",
    "\n",
    "pre_down_2step=[]\n",
    "for i in range(48):\n",
    "    a=[pre_flex_down[i][i],pre_flex_down[i][i+1]]\n",
    "    b=np.min(a)\n",
    "    pre_down_2step.append(b)\n",
    "    pre_down_2step.append(b)\n",
    "pre_down_2step=np.array(pre_down_2step)\n",
    "\n",
    "pre_down_4step=[]\n",
    "for i in range(24):\n",
    "    a=[pre_flex_down[i][i],pre_flex_down[i][i+1],pre_flex_down[i][i+2],pre_flex_down[i][i+3]]\n",
    "    b=np.min(a)\n",
    "    pre_down_4step.append(b)\n",
    "    pre_down_4step.append(b)\n",
    "    pre_down_4step.append(b)\n",
    "    pre_down_4step.append(b)\n",
    "pre_down_4step=np.array(pre_down_4step)\n",
    " \n",
    "\n"
   ]
  },
  {
   "cell_type": "code",
   "execution_count": 88,
   "metadata": {},
   "outputs": [
    {
     "data": {
      "text/plain": [
       "(96,)"
      ]
     },
     "execution_count": 88,
     "metadata": {},
     "output_type": "execute_result"
    }
   ],
   "source": [
    "pre_up_1step.shape"
   ]
  },
  {
   "cell_type": "code",
   "execution_count": 29,
   "metadata": {},
   "outputs": [
    {
     "data": {
      "image/png": "[encoded data removed]",
      "text/plain": [
       "<matplotlib.figure.Figure at 0x2e022aea438>"
      ]
     },
     "metadata": {},
     "output_type": "display_data"
    }
   ],
   "source": [
    "#画图\n",
    "plt.figure(figsize=(10,5))\n",
    "ax1 = plt.subplot(311)\n",
    "x1=np.linspace(0,96,96).astype(int)\n",
    "l1=plt.step(x1,real_up_1step,label='one step up backup')\n",
    "l2=plt.step(x1,pre_up_1step,label='one step predicted backup')\n",
    "plt.legend(loc = 'upper right')\n",
    "# plt.yticks(y)\n",
    "plt.grid()\n",
    "\n",
    "ax2 = plt.subplot(312)\n",
    "l1=plt.step(x1,real_up_2step,label='two step up backup')\n",
    "l2=plt.step(x1,pre_up_2step,label='two step predicted backup')\n",
    "plt.legend(loc = 'upper right')\n",
    "# plt.yticks(y)\n",
    "plt.grid()\n",
    "\n",
    "ax3 = plt.subplot(313)\n",
    "l1=plt.step(x1,real_up_4step,label='four step up backup')\n",
    "l2=plt.step(x1,pre_up_4step,label='four step predicted backup')\n",
    "plt.legend(loc = 'upper right')\n",
    "# plt.yticks(y)\n",
    "plt.grid()\n",
    "\n",
    "\n",
    "\n",
    "plt.show()\n",
    "\n"
   ]
  },
  {
   "cell_type": "code",
   "execution_count": 30,
   "metadata": {},
   "outputs": [
    {
     "data": {
      "image/png": "[encoded data removed]",
      "text/plain": [
       "<matplotlib.figure.Figure at 0x2e023222518>"
      ]
     },
     "metadata": {},
     "output_type": "display_data"
    }
   ],
   "source": [
    "plt.figure(figsize=(10,5))\n",
    "ax1 = plt.subplot(311)\n",
    "x1=np.linspace(0,96,96).astype(int)\n",
    "l1=plt.step(x1,real_down_1step,label='one step down backup')\n",
    "l2=plt.step(x1,pre_down_1step,label='one step predicted backup')\n",
    "plt.legend(loc = 'upper right')\n",
    "# plt.yticks(y)\n",
    "plt.grid()\n",
    "\n",
    "ax2 = plt.subplot(312)\n",
    "l1=plt.step(x1,real_down_2step,label='two step down backup')\n",
    "l2=plt.step(x1,pre_down_2step,label='two step predicted backup')\n",
    "plt.legend(loc = 'upper right')\n",
    "# plt.yticks(y)\n",
    "plt.grid()\n",
    "\n",
    "ax3 = plt.subplot(313)\n",
    "l1=plt.step(x1,real_down_4step,label='four step down backup')\n",
    "l2=plt.step(x1,pre_down_4step,label='four step predicted backup')\n",
    "plt.legend(loc = 'upper right')\n",
    "# plt.yticks(y)\n",
    "plt.grid()\n",
    "\n",
    "\n",
    "\n",
    "plt.show()\n",
    "\n"
   ]
  },
  {
   "cell_type": "code",
   "execution_count": 3,
   "metadata": {
    "collapsed": true
   },
   "outputs": [],
   "source": [
    "MAX_EPOCH = 2000\n",
    "train_loss_plot = np.load('loss/0801 TCN train_loss_plot.npy')\n",
    "val_loss_plot = np.load('loss/0801 TCN val_loss_plot.npy')\n",
    "train_loss_plot = np.reshape(train_loss_plot, [MAX_EPOCH, -1])\n",
    "val_loss_plot = np.reshape(val_loss_plot, [MAX_EPOCH, -1])"
   ]
  },
  {
   "cell_type": "code",
   "execution_count": null,
   "metadata": {
    "collapsed": true
   },
   "outputs": [],
   "source": [
    "train"
   ]
  },
  {
   "cell_type": "code",
   "execution_count": 4,
   "metadata": {},
   "outputs": [
    {
     "data": {
      "text/plain": [
       "<matplotlib.legend.Legend at 0x20551eb3240>"
      ]
     },
     "execution_count": 4,
     "metadata": {},
     "output_type": "execute_result"
    },
    {
     "data": {
      "image/png": "[encoded data removed]",
      "text/plain": [
       "<Figure size 432x288 with 1 Axes>"
      ]
     },
     "metadata": {
      "needs_background": "light"
     },
     "output_type": "display_data"
    }
   ],
   "source": [
    "plt.figure()\n",
    "plt.plot(train_loss_plot)\n",
    "plt.plot(val_loss_plot)\n",
    "plt.legend(['train_loss_curve', 'val_loss_curve'])"
   ]
  },
  {
   "cell_type": "code",
   "execution_count": null,
   "metadata": {
    "collapsed": true
   },
   "outputs": [],
   "source": []
  }
 ],
 "metadata": {
  "kernelspec": {
   "display_name": "Python 3",
   "language": "python",
   "name": "python3"
  },
  "language_info": {
   "codemirror_mode": {
    "name": "ipython",
    "version": 3
   },
   "file_extension": ".py",
   "mimetype": "text/x-python",
   "name": "python",
   "nbconvert_exporter": "python",
   "pygments_lexer": "ipython3",
   "version": "3.6.3"
  }
 },
 "nbformat": 4,
 "nbformat_minor": 2
}
