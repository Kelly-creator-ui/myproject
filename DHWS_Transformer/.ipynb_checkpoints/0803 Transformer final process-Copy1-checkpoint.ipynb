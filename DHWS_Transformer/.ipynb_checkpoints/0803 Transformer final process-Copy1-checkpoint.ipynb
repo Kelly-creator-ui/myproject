{
 "cells": [
  {
   "cell_type": "code",
   "execution_count": 1,
   "metadata": {},
   "outputs": [],
   "source": [
    "import torch\n",
    "import torch.nn as nn\n",
    "import torch.optim as optim\n",
    "import torch.nn.functional as F\n",
    "from torch.nn.utils import weight_norm\n",
    "import pandas as pd\n",
    "\n",
    "import matplotlib.pyplot as plt\n",
    "import matplotlib.ticker as ticker\n",
    "\n",
    "import spacy\n",
    "import numpy as np\n",
    "\n",
    "import random\n",
    "import math\n",
    "import time\n",
    "import pandas as pd\n",
    "\n",
    "import sys\n",
    "\n"
   ]
  },
  {
   "cell_type": "code",
   "execution_count": 2,
   "metadata": {},
   "outputs": [
    {
     "name": "stdout",
     "output_type": "stream",
     "text": [
      "the max value of dim0 is:1.0, the min value is:0.0\n",
      "the max value of dim1 is:1.0, the min value is:0.0\n",
      "the max value of dim2 is:1.0, the min value is:0.0\n",
      "torch.Size([49028, 192, 2])\n",
      "train_input.shape: torch.Size([29416, 192, 2]), train_output.shape: torch.Size([29416, 96, 1]), \n",
      "val_input.shape: torch.Size([4903, 192, 2]), val_output.shape: torch.Size([4903, 96, 1])\n"
     ]
    }
   ],
   "source": [
    "from Model import TemporalConvNet, Encoder, Decoder, Transformer\n",
    "\n",
    "SEED = 1234\n",
    "\n",
    "random.seed(SEED)\n",
    "np.random.seed(SEED)\n",
    "torch.manual_seed(SEED)\n",
    "torch.cuda.manual_seed(SEED)\n",
    "torch.backends.cudnn.benchmark = True\n",
    "# torch.backends.cudnn.deterministic = True\n",
    "\n",
    "from DHW_create_dataset3 import get_DataLoader\n",
    "device = torch.device('cuda') if torch.cuda.is_available() else torch.device('cpu')\n",
    "## data.npy是只维持4个步长的，optSOCdata.npy是全发1的\n",
    "data = np.array(pd.read_csv('0803 extended data 3.csv')[[\"ls\", \"tariff\", \"p_flex\"]])[206*96*2:,]\n",
    "power = np.array(pd.read_csv('data/0728 200user.csv')[[\"p_norm\", \"tariff\"]])[:-96*3, ] \n",
    "batch_sz = 192 * 1\n",
    "# load data\n",
    "train_loader, val_loader, test_input, test_output, test_LS = get_DataLoader(data, power, batch_sz)"
   ]
  },
  {
   "cell_type": "code",
   "execution_count": 3,
   "metadata": {},
   "outputs": [
    {
     "name": "stdout",
     "output_type": "stream",
     "text": [
      "torch.Size([14709, 192, 2]) torch.Size([15121, 96, 1]) torch.Size([15121, 96, 2])\n"
     ]
    }
   ],
   "source": [
    "print(test_input.shape, test_output.shape, test_LS.shape)"
   ]
  },
  {
   "cell_type": "code",
   "execution_count": 17,
   "metadata": {},
   "outputs": [
    {
     "name": "stdout",
     "output_type": "stream",
     "text": [
      "(6180, 96, 1)\n"
     ]
    }
   ],
   "source": [
    "test_input = test_input[-60*206:-30*206, :, :]\n",
    "test_output = test_output[-60*206:-30*206, :, :]\n",
    "test_LS = test_LS[-60*206:-30*206, :, :]\n",
    "print(test_output.shape)"
   ]
  },
  {
   "cell_type": "code",
   "execution_count": 70,
   "metadata": {},
   "outputs": [
    {
     "data": {
      "text/plain": [
       "<All keys matched successfully>"
      ]
     },
     "execution_count": 70,
     "metadata": {},
     "output_type": "execute_result"
    }
   ],
   "source": [
    "model.load_state_dict(torch.load ('models/0804 Transformer_model e-05.pt', map_location='cpu'))"
   ]
  },
  {
   "cell_type": "code",
   "execution_count": 7,
   "metadata": {
    "collapsed": true
   },
   "outputs": [],
   "source": [
    "def translate_sentence(src, LS, model, max_len=96):\n",
    "    model.eval()\n",
    "    LS = LS.to(device)\n",
    "    src_tensor = src.to(device)\n",
    "    src_tensor = model.downsample_cnn(src_tensor.permute(0,2,1)).permute(0,2,1)\n",
    "    src_tensor = src_tensor[:,-96:,:]\n",
    "    src_mask = model.make_src_mask(src_tensor)\n",
    "\n",
    "    with torch.no_grad():\n",
    "        enc_src = model.encoder(src_tensor, src_mask)\n",
    "\n",
    "    trg_indexes = torch.zeros(src.shape[0], 1, 1).to(device)\n",
    "\n",
    "    for i in range(max_len):\n",
    "\n",
    "        trg_tensor = torch.cat((trg_indexes, LS[:, :i+1, :]), dim=2)\n",
    "\n",
    "        trg_mask = model.make_trg_mask(trg_tensor)\n",
    "\n",
    "        with torch.no_grad():\n",
    "            output, attention = model.decoder(trg_tensor, enc_src, trg_mask, src_mask)\n",
    "\n",
    "        trg_indexes = torch.cat((trg_indexes, output[:, -1:, :]), dim=1)\n",
    "\n",
    "    return trg_indexes[:, 1:, :], attention\n",
    "\n"
   ]
  },
  {
   "cell_type": "code",
   "execution_count": null,
   "metadata": {
    "collapsed": true
   },
   "outputs": [],
   "source": [
    "# cur_times = 10  #拆开数据后的计算次数，直接计算会显存不足\n",
    "# batch = test_input.shape[0]/cur_times #注意一定要能被整除\n",
    "# batch = int(batch)\n",
    "\n",
    "# predicted_output = torch.Tensor([])\n",
    "# for i in range(cur_times):\n",
    "\n",
    "#     temp, _ = translate_sentence(torch.Tensor(test_input[batch * i:batch * (i+1)]),torch.Tensor(test_LS[batch * i:batch * (i+1)]),\\\n",
    "#                               model)\n",
    "#     predicted_output = torch.cat((predicted_output, temp.cpu().detach()), dim=0)\n",
    "\n",
    "# predicted_output = predicted_output.numpy()\n"
   ]
  },
  {
   "cell_type": "code",
   "execution_count": 4,
   "metadata": {
    "collapsed": true
   },
   "outputs": [],
   "source": [
    "predicted_output = np.load('data/0804 predicted_output final .npy')\n",
    "test_output = test_output.numpy()"
   ]
  },
  {
   "cell_type": "code",
   "execution_count": 18,
   "metadata": {
    "collapsed": true
   },
   "outputs": [],
   "source": [
    "# 存30天的metrics\n",
    "#反归一化\n",
    "data = np.array(pd.read_csv('0803 extended data 3.csv')[[\"ls\", \"tariff\", \"p_flex\"]])[206*96*2:,]\n",
    "min_p = data[:,2].min()\n",
    "max_p = data[:,2].max()\n",
    "pre_output = (max_p - min_p)*predicted_output + min_p\n",
    "real_output = (max_p - min_p)*test_output + min_p\n"
   ]
  },
  {
   "cell_type": "code",
   "execution_count": 19,
   "metadata": {},
   "outputs": [
    {
     "data": {
      "text/plain": [
       "array([[[22.76],\n",
       "        [19.28],\n",
       "        [78.48],\n",
       "        ...,\n",
       "        [ 0.  ],\n",
       "        [ 0.  ],\n",
       "        [ 0.  ]],\n",
       "\n",
       "       [[ 0.  ],\n",
       "        [19.28],\n",
       "        [78.48],\n",
       "        ...,\n",
       "        [ 0.  ],\n",
       "        [ 0.  ],\n",
       "        [ 0.  ]],\n",
       "\n",
       "       [[ 0.  ],\n",
       "        [ 0.  ],\n",
       "        [78.48],\n",
       "        ...,\n",
       "        [ 0.  ],\n",
       "        [ 0.  ],\n",
       "        [ 0.  ]],\n",
       "\n",
       "       ...,\n",
       "\n",
       "       [[ 0.  ],\n",
       "        [ 0.  ],\n",
       "        [ 0.  ],\n",
       "        ...,\n",
       "        [ 0.  ],\n",
       "        [ 0.  ],\n",
       "        [ 0.  ]],\n",
       "\n",
       "       [[ 0.  ],\n",
       "        [ 0.  ],\n",
       "        [ 0.  ],\n",
       "        ...,\n",
       "        [ 0.  ],\n",
       "        [ 0.  ],\n",
       "        [ 0.  ]],\n",
       "\n",
       "       [[ 0.  ],\n",
       "        [ 0.  ],\n",
       "        [ 0.  ],\n",
       "        ...,\n",
       "        [ 0.  ],\n",
       "        [ 0.  ],\n",
       "        [ 0.  ]]], dtype=float32)"
      ]
     },
     "execution_count": 19,
     "metadata": {},
     "output_type": "execute_result"
    }
   ],
   "source": [
    "real_output"
   ]
  },
  {
   "cell_type": "code",
   "execution_count": 75,
   "metadata": {},
   "outputs": [
    {
     "ename": "NameError",
     "evalue": "name 'real_flex_up' is not defined",
     "output_type": "error",
     "traceback": [
      "\u001b[1;31m---------------------------------------------------------------------------\u001b[0m",
      "\u001b[1;31mNameError\u001b[0m                                 Traceback (most recent call last)",
      "\u001b[1;32m<ipython-input-75-59a4667b19c1>\u001b[0m in \u001b[0;36masync-def-wrapper\u001b[1;34m()\u001b[0m\n\u001b[0;32m      6\u001b[0m     \u001b[0mmae\u001b[0m \u001b[1;33m=\u001b[0m \u001b[0mnp\u001b[0m\u001b[1;33m.\u001b[0m\u001b[0mmean\u001b[0m\u001b[1;33m(\u001b[0m\u001b[0mabs\u001b[0m\u001b[1;33m(\u001b[0m\u001b[0mreal_flex_up\u001b[0m\u001b[1;33m[\u001b[0m\u001b[0mi\u001b[0m\u001b[1;33m]\u001b[0m \u001b[1;33m-\u001b[0m \u001b[0mpre_flex_up\u001b[0m\u001b[1;33m[\u001b[0m\u001b[0mi\u001b[0m\u001b[1;33m]\u001b[0m\u001b[1;33m)\u001b[0m\u001b[1;33m)\u001b[0m\u001b[1;33m\u001b[0m\u001b[1;33m\u001b[0m\u001b[0m\n\u001b[0;32m      7\u001b[0m \u001b[1;31m#     TCN_RMSE_UP.append(rmse)\u001b[0m\u001b[1;33m\u001b[0m\u001b[1;33m\u001b[0m\u001b[1;33m\u001b[0m\u001b[0m\n\u001b[1;32m----> 8\u001b[1;33m \u001b[1;31m#     TCN_MAE_UP .append(mae)\u001b[0m\u001b[1;33m\u001b[0m\u001b[1;33m\u001b[0m\u001b[1;33m\u001b[0m\u001b[0m\n\u001b[0m\u001b[0;32m      9\u001b[0m \u001b[1;31m# TCN_RMSE_UP = np.array(TCN_RMSE_UP)\u001b[0m\u001b[1;33m\u001b[0m\u001b[1;33m\u001b[0m\u001b[1;33m\u001b[0m\u001b[0m\n\u001b[0;32m     10\u001b[0m \u001b[1;31m# TCN_MAE_UP = np.array(TCN_MAE_UP)\u001b[0m\u001b[1;33m\u001b[0m\u001b[1;33m\u001b[0m\u001b[1;33m\u001b[0m\u001b[0m\n",
      "\u001b[1;31mNameError\u001b[0m: name 'real_flex_up' is not defined"
     ]
    }
   ],
   "source": [
    "# 求30天的metrics\n",
    "# TCN_RMSE_UP = []\n",
    "# TCN_MAE_UP = []\n",
    "# for i in range(29):\n",
    "    rmse = np.sqrt(np.mean(np.power((real_flex_up[i] - pre_flex_up[i]),2)))\n",
    "    mae = np.mean(abs(real_flex_up[i] - pre_flex_up[i]))\n",
    "#     TCN_RMSE_UP.append(rmse)\n",
    "#     TCN_MAE_UP .append(mae)\n",
    "# TCN_RMSE_UP = np.array(TCN_RMSE_UP)\n",
    "# TCN_MAE_UP = np.array(TCN_MAE_UP)"
   ]
  },
  {
   "cell_type": "code",
   "execution_count": 76,
   "metadata": {},
   "outputs": [
    {
     "data": {
      "text/plain": [
       "6180"
      ]
     },
     "execution_count": 76,
     "metadata": {},
     "output_type": "execute_result"
    }
   ],
   "source": [
    "206*30"
   ]
  },
  {
   "cell_type": "code",
   "execution_count": 20,
   "metadata": {
    "collapsed": true
   },
   "outputs": [],
   "source": [
    "oneday = 206\n",
    "def metrics (pre,real,oneday):\n",
    "    pre_up = []\n",
    "    pre_down = []\n",
    "    real_up = []\n",
    "    real_down = []\n",
    "    for i in range(30):\n",
    "        pre_up.append(pre[i*oneday : i*oneday + 96:,:,])\n",
    "        real_up.append(real[i*oneday : i*oneday + 96:,:,])\n",
    "        pre_down.append(pre[i*oneday + 96 : i*oneday + 96*2:,:,])\n",
    "        real_down.append(real[i*oneday + 96 : i*oneday + 96*2:,:,])\n",
    "    pre_up = np.array(pre_up)\n",
    "    real_up = np.array(real_up)\n",
    "    pre_down = np.array(pre_down)\n",
    "    real_down = np.array(real_down)\n",
    "    \n",
    "    Tans_RMSE_UP = []\n",
    "    Tans_RMSE_DOWN = []\n",
    "    Tans_MAE_UP = []\n",
    "    Tans_MAE_DOWN = []\n",
    "    for i in range(30):\n",
    "        rmse_up = np.sqrt(np.mean(np.power((real_up[i] - pre_up[i]),2)))\n",
    "        mae_up = np.mean(abs(real_up[i] - pre_up[i]))\n",
    "        rmse_down= np.sqrt(np.mean(np.power((real_down[i] - pre_down[i]),2)))\n",
    "        mae_down = np.mean(abs(real_down[i] - pre_down[i]))\n",
    "        Tans_RMSE_UP.append(rmse_up)\n",
    "        Tans_RMSE_DOWN .append(rmse_down)\n",
    "        Tans_MAE_UP.append(mae_up)\n",
    "        Tans_MAE_DOWN .append(mae_down)\n",
    "    Tans_RMSE_UP = np.array(Tans_RMSE_UP)\n",
    "    Tans_RMSE_DOWN = np.array(Tans_RMSE_DOWN)\n",
    "    Tans_MAE_UP = np.array(Tans_MAE_UP)\n",
    "    Tans_MAE_DOWN = np.array(Tans_MAE_DOWN)\n",
    "    return Tans_RMSE_UP,Tans_RMSE_DOWN,Tans_MAE_UP,Tans_MAE_DOWN\n",
    "    \n",
    "    \n",
    "    \n",
    "        \n",
    "        \n",
    "    "
   ]
  },
  {
   "cell_type": "code",
   "execution_count": 21,
   "metadata": {
    "collapsed": true
   },
   "outputs": [],
   "source": [
    "Tans_RMSE_UP,Tans_RMSE_DOWN,Tans_MAE_UP,Tans_MAE_DOWN = metrics(pre_output, real_output,206)"
   ]
  },
  {
   "cell_type": "code",
   "execution_count": 22,
   "metadata": {
    "collapsed": true
   },
   "outputs": [],
   "source": [
    "np.save('metrics/Tans_RMSE_UP',Tans_RMSE_UP)\n",
    "np.save('metrics/Tans_RMSE_DOWN',Tans_RMSE_DOWN)\n",
    "np.save('metrics/Tans_MAE_UP',Tans_MAE_UP)\n",
    "np.save('metrics/Tans_MAE_DOWN',Tans_MAE_DOWN)"
   ]
  },
  {
   "cell_type": "code",
   "execution_count": 23,
   "metadata": {},
   "outputs": [
    {
     "name": "stdout",
     "output_type": "stream",
     "text": [
      "Tans_RMSE_UP:Mean:6.282,Max:8.868,Min:4.163\n",
      "Tans_MAE_UP:Mean:2.464,Max:3.092,Min:1.945\n",
      "Tans_RMSE_down:Mean:7.091,Max:9.231,Min:5.270\n",
      "Tans_MAE_down:Mean:2.767,Max:3.419,Min:2.350\n"
     ]
    }
   ],
   "source": [
    "print(\"Tans_RMSE_UP:Mean:{:.3f},Max:{:.3f},Min:{:.3f}\".format(np.mean(Tans_RMSE_UP),np.max(Tans_RMSE_UP),np.min(Tans_RMSE_UP)))\n",
    "print(\"Tans_MAE_UP:Mean:{:.3f},Max:{:.3f},Min:{:.3f}\".format(np.mean(Tans_MAE_UP),np.max(Tans_MAE_UP),np.min(Tans_MAE_UP)))\n",
    "print(\"Tans_RMSE_down:Mean:{:.3f},Max:{:.3f},Min:{:.3f}\".format(np.mean(Tans_RMSE_DOWN),np.max(Tans_RMSE_DOWN),np.min(Tans_RMSE_DOWN)))\n",
    "print(\"Tans_MAE_down:Mean:{:.3f},Max:{:.3f},Min:{:.3f}\".format(np.mean(Tans_MAE_DOWN),np.max(Tans_MAE_DOWN),np.min(Tans_MAE_DOWN)))"
   ]
  },
  {
   "cell_type": "code",
   "execution_count": 24,
   "metadata": {},
   "outputs": [],
   "source": [
    "pre_up = []\n",
    "pre_down = []\n",
    "real_up = []\n",
    "real_down = []\n",
    "for i in range(30):\n",
    "    pre_up.append(pre_output[i*oneday : i*oneday + 96:,:,])\n",
    "    real_up.append(real_output[i*oneday : i*oneday + 96:,:,])\n",
    "    pre_down.append(pre_output[i*oneday + 96 : i*oneday + 96*2:,:,])\n",
    "    real_down.append(real_output[i*oneday + 96 : i*oneday + 96*2:,:,])\n",
    "pre_up = np.array(pre_up)\n",
    "real_up = np.array(real_up)\n",
    "pre_down = np.array(pre_down)\n",
    "real_down = np.array(real_down)"
   ]
  },
  {
   "cell_type": "code",
   "execution_count": 25,
   "metadata": {
    "collapsed": true
   },
   "outputs": [],
   "source": [
    "# 画效果图\n",
    "real_flex_up1 = real_up[1].reshape(96,96,1)\n",
    "real_flex_down1 = real_down[2].reshape(96,96,1)\n",
    "pre_flex_up1 = pre_up[1].reshape(96,96,1)\n",
    "pre_flex_down1 = pre_down[2].reshape(96,96,1)"
   ]
  },
  {
   "cell_type": "code",
   "execution_count": 26,
   "metadata": {
    "collapsed": true
   },
   "outputs": [],
   "source": [
    "#生成灵活度表征函数\n",
    "#上备用\n",
    "\n",
    "real_up_1step=[]\n",
    "for i in range(96):\n",
    "    a=real_flex_up1[i][i]\n",
    "    real_up_1step.append(a)\n",
    "real_up_1step=np.array(real_up_1step)\n",
    "\n",
    "real_up_2step=[]\n",
    "for i in range(48):\n",
    "    a=[real_flex_up1[i*2][i*2],real_flex_up1[i*2][i*2+1]]\n",
    "    b=np.min(a)\n",
    "    real_up_2step.append(b)\n",
    "    real_up_2step.append(b)\n",
    "real_up_2step=np.array(real_up_2step)\n",
    "\n",
    "real_up_4step=[]\n",
    "for i in range(24):\n",
    "    a=[real_flex_up1[i*4][i*4],real_flex_up1[i*4][i*4+1],real_flex_up1[i*4][i*4+2],real_flex_up1[i*4][i*4+3]]\n",
    "    b=np.min(a)\n",
    "    real_up_4step.append(b)\n",
    "    real_up_4step.append(b)\n",
    "    real_up_4step.append(b)\n",
    "    real_up_4step.append(b)\n",
    "real_up_4step=np.array(real_up_4step)\n",
    " \n",
    " \n",
    "\n"
   ]
  },
  {
   "cell_type": "code",
   "execution_count": 27,
   "metadata": {
    "collapsed": true
   },
   "outputs": [],
   "source": [
    "pre_up_1step=[]\n",
    "for i in range(96):\n",
    "    a=pre_flex_up1[i][i]\n",
    "    pre_up_1step.append(a)\n",
    "pre_up_1step=np.array(pre_up_1step)\n",
    "\n",
    "pre_up_2step=[]\n",
    "for i in range(48):\n",
    "    a=[pre_flex_up1[i*2][i*2],pre_flex_up1[i*2][i*2+1]]\n",
    "    b=np.min(a)\n",
    "    pre_up_2step.append(b)\n",
    "    pre_up_2step.append(b)\n",
    "pre_up_2step=np.array(pre_up_2step)\n",
    "\n",
    "pre_up_4step=[]\n",
    "for i in range(24):\n",
    "    a=[pre_flex_up1[i*4][i*4],pre_flex_up1[i*4][i*4+1],pre_flex_up1[i*4][i*4+2],pre_flex_up1[i*4][i*4+3]]\n",
    "    b=np.min(a)\n",
    "    pre_up_4step.append(b)\n",
    "    pre_up_4step.append(b)\n",
    "    pre_up_4step.append(b)\n",
    "    pre_up_4step.append(b)\n",
    "pre_up_4step=np.array(pre_up_4step)"
   ]
  },
  {
   "cell_type": "code",
   "execution_count": 30,
   "metadata": {
    "collapsed": true
   },
   "outputs": [],
   "source": [
    "#下备用\n",
    "real_down_1step=[]\n",
    "for i in range(96):\n",
    "    a=real_flex_down1[i][i]\n",
    "    real_down_1step.append(a)\n",
    "real_down_1step=np.array(real_down_1step)\n",
    "\n",
    "real_down_2step=[]\n",
    "for i in range(48):\n",
    "    a=[real_flex_down1[i*2][i*2],real_flex_down1[i*2][i*2+1]]\n",
    "    b=np.min(a)\n",
    "    real_down_2step.append(b)\n",
    "    real_down_2step.append(b)\n",
    "real_down_2step=np.array(real_down_2step)\n",
    "\n",
    "real_down_4step=[]\n",
    "for i in range(24):\n",
    "    a=[real_flex_down1[i*4][i*4],real_flex_down1[i*4][i*4+1],real_flex_down1[i*4][i*4+2],real_flex_down1[i*4][i*4+3]]\n",
    "    b=np.min(a)\n",
    "    real_down_4step.append(b)\n",
    "    real_down_4step.append(b)\n",
    "    real_down_4step.append(b)\n",
    "    real_down_4step.append(b)\n",
    "real_down_4step=np.array(real_down_4step)"
   ]
  },
  {
   "cell_type": "code",
   "execution_count": 29,
   "metadata": {
    "collapsed": true
   },
   "outputs": [],
   "source": [
    "pre_down_1step=[]\n",
    "for i in range(96):\n",
    "    a=pre_flex_down1[i][i]\n",
    "    pre_down_1step.append(a)\n",
    "pre_down_1step=np.array(pre_down_1step)\n",
    "\n",
    "pre_down_2step=[]\n",
    "for i in range(48):\n",
    "    a=[pre_flex_down1[i*2][i*2],pre_flex_down1[i*2][i*2+1]]\n",
    "    b=np.min(a)\n",
    "    pre_down_2step.append(b)\n",
    "    pre_down_2step.append(b)\n",
    "pre_down_2step=np.array(pre_down_2step)\n",
    "\n",
    "pre_down_4step=[]\n",
    "for i in range(24):\n",
    "    a=[pre_flex_down1[i*4][i*4],pre_flex_down1[i*4][i*4+1],pre_flex_down1[i*4][i*4+2],pre_flex_down1[i*4][i*4+3]]\n",
    "    b=np.min(a)\n",
    "    pre_down_4step.append(b)\n",
    "    pre_down_4step.append(b)\n",
    "    pre_down_4step.append(b)\n",
    "    pre_down_4step.append(b)\n",
    "pre_down_4step=np.array(pre_down_4step)"
   ]
  },
  {
   "cell_type": "code",
   "execution_count": 28,
   "metadata": {},
   "outputs": [
    {
     "data": {
      "image/png": "[encoded data removed]",
      "text/plain": [
       "<Figure size 720x360 with 3 Axes>"
      ]
     },
     "metadata": {
      "needs_background": "light"
     },
     "output_type": "display_data"
    }
   ],
   "source": [
    "#画图\n",
    "plt.figure(figsize=(10,5))\n",
    "ax1 = plt.subplot(311)\n",
    "x1=np.linspace(0,96,96).astype(int)\n",
    "l1=plt.step(x1,real_up_1step,label='one step up backup')\n",
    "l2=plt.step(x1,pre_up_1step,label='one step predicted backup')\n",
    "plt.legend(loc = 'upper right')\n",
    "# plt.yticks(y)\n",
    "plt.grid()\n",
    "\n",
    "ax2 = plt.subplot(312)\n",
    "l1=plt.step(x1,real_up_2step,label='two step up backup')\n",
    "l2=plt.step(x1,pre_up_2step,label='two step predicted backup')\n",
    "plt.legend(loc = 'upper right')\n",
    "# plt.yticks(y)\n",
    "plt.grid()\n",
    "\n",
    "ax3 = plt.subplot(313)\n",
    "l1=plt.step(x1,real_up_4step,label='four step up backup')\n",
    "l2=plt.step(x1,pre_up_4step,label='four step predicted backup')\n",
    "plt.legend(loc = 'upper right')\n",
    "# plt.yticks(y)\n",
    "plt.grid()"
   ]
  },
  {
   "cell_type": "code",
   "execution_count": 31,
   "metadata": {},
   "outputs": [
    {
     "data": {
      "image/png": "[encoded data removed]",
      "text/plain": [
       "<Figure size 720x360 with 3 Axes>"
      ]
     },
     "metadata": {
      "needs_background": "light"
     },
     "output_type": "display_data"
    }
   ],
   "source": [
    "plt.figure(figsize=(10,5))\n",
    "ax1 = plt.subplot(311)\n",
    "x1=np.linspace(0,96,96).astype(int)\n",
    "l1=plt.step(x1,real_down_1step,label='one step down backup')\n",
    "l2=plt.step(x1,pre_down_1step,label='one step predicted backup')\n",
    "plt.legend(loc = 'upper right')\n",
    "# plt.yticks(y)\n",
    "plt.grid()\n",
    "\n",
    "ax2 = plt.subplot(312)\n",
    "l1=plt.step(x1,real_down_2step,label='two step down backup')\n",
    "l2=plt.step(x1,pre_down_2step,label='two step predicted backup')\n",
    "plt.legend(loc = 'upper right')\n",
    "# plt.yticks(y)\n",
    "plt.grid()\n",
    "\n",
    "ax3 = plt.subplot(313)\n",
    "l1=plt.step(x1,real_down_4step,label='four step down backup')\n",
    "l2=plt.step(x1,pre_down_4step,label='four step predicted backup')\n",
    "plt.legend(loc = 'upper right')\n",
    "# plt.yticks(y)\n",
    "plt.grid()\n",
    "\n",
    "\n",
    "\n",
    "plt.show()"
   ]
  },
  {
   "cell_type": "code",
   "execution_count": 97,
   "metadata": {},
   "outputs": [
    {
     "data": {
      "text/plain": [
       "array([ 14.92   ,  18.08   ,  58.32   ,  74.04   ,  88.91999, 186.     ,\n",
       "       291.4    , 335.68   , 328.4    , 348.     ,  96.     ,  90.     ,\n",
       "        66.     ,  78.     ,  57.     , 116.99999,  45.     ,  42.     ,\n",
       "         0.     ,  39.     ,  45.     ,  48.     ,  39.     ,  94.92   ,\n",
       "       152.704  , 336.94   , 386.05   , 324.136  , 285.     , 276.     ,\n",
       "       285.352  , 300.144  , 399.     , 395.9    , 424.97003, 450.     ,\n",
       "       483.     , 534.     , 600.     , 567.     , 600.     , 600.     ,\n",
       "       600.     , 600.     , 600.     , 600.     , 600.     , 600.     ,\n",
       "       600.     , 600.     , 600.     , 600.     , 600.     , 600.     ,\n",
       "       600.     , 600.     , 567.     , 567.     , 508.424  , 600.     ,\n",
       "       574.134  , 548.704  , 577.72   , 561.     , 478.44   , 495.     ,\n",
       "       466.208  , 504.402  , 403.936  , 505.49997, 481.066  , 457.44998,\n",
       "       494.322  , 367.65802, 340.45   , 346.066  , 600.     , 600.     ,\n",
       "       600.     , 600.     , 600.     , 600.     , 600.     , 600.     ,\n",
       "       600.     , 600.     , 600.     , 600.     , 537.8    , 599.     ,\n",
       "       599.     , 599.     , 596.     , 599.     , 598.     ,   0.     ],\n",
       "      dtype=float32)"
      ]
     },
     "execution_count": 97,
     "metadata": {},
     "output_type": "execute_result"
    }
   ],
   "source": [
    "real_up_1step.reshape(-1)"
   ]
  },
  {
   "cell_type": "code",
   "execution_count": 32,
   "metadata": {
    "collapsed": true
   },
   "outputs": [],
   "source": [
    "data = {'TRAN_real_up_1step':real_up_1step.reshape(-1),'TRAN_real_up_2step':real_up_2step.reshape(-1),'TRAN_real_up_4step':real_up_4step.reshape(-1),'TRAN_pre_up_1step':pre_up_1step.reshape(-1),\n",
    "       'TRAN_pre_up_2step':pre_up_2step.reshape(-1),'TRAN_pre_up_4step':pre_up_4step.reshape(-1),'TRAN_real_down_1step':real_down_1step.reshape(-1),'TRAN_real_down_2step':real_down_2step.reshape(-1),\n",
    "        'TRAN_real_down_4step':real_down_4step.reshape(-1),'TRAN_pre_down_1step':pre_down_1step.reshape(-1),'TRAN_pre_down_2step':pre_down_2step.reshape(-1),'TRAN_pre_down_4step':pre_down_4step.reshape(-1)}\n",
    "df = pd.DataFrame(data)\n",
    "df.to_csv('flex2draw/tansformer_flex2draw.csv')"
   ]
  },
  {
   "cell_type": "code",
   "execution_count": 33,
   "metadata": {
    "collapsed": true
   },
   "outputs": [],
   "source": [
    "df = pd.DataFrame(data)\n",
    "df.to_csv('flex2draw/tansformer_flex2draw.csv')"
   ]
  },
  {
   "cell_type": "code",
   "execution_count": null,
   "metadata": {
    "collapsed": true
   },
   "outputs": [],
   "source": []
  }
 ],
 "metadata": {
  "kernelspec": {
   "display_name": "Python [conda env:pytorch-cpu]",
   "language": "python",
   "name": "conda-env-pytorch-cpu-py"
  },
  "language_info": {
   "codemirror_mode": {
    "name": "ipython",
    "version": 3
   },
   "file_extension": ".py",
   "mimetype": "text/x-python",
   "name": "python",
   "nbconvert_exporter": "python",
   "pygments_lexer": "ipython3",
   "version": "3.6.10"
  }
 },
 "nbformat": 4,
 "nbformat_minor": 2
}
