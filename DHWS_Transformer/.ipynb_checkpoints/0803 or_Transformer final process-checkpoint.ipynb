{
 "cells": [
  {
   "cell_type": "code",
   "execution_count": 1,
   "metadata": {},
   "outputs": [],
   "source": [
    "import torch\n",
    "import torch.nn as nn\n",
    "import torch.optim as optim\n",
    "import torch.nn.functional as F\n",
    "from torch.nn.utils import weight_norm\n",
    "import pandas as pd\n",
    "\n",
    "import matplotlib.pyplot as plt\n",
    "import matplotlib.ticker as ticker\n",
    "\n",
    "import spacy\n",
    "import numpy as np\n",
    "\n",
    "import random\n",
    "import math\n",
    "import time\n",
    "import pandas as pd\n",
    "\n",
    "import sys\n",
    "\n"
   ]
  },
  {
   "cell_type": "code",
   "execution_count": 6,
   "metadata": {},
   "outputs": [
    {
     "name": "stdout",
     "output_type": "stream",
     "text": [
      "the max value of dim0 is:1.0, the min value is:0.0\n",
      "the max value of dim1 is:1.0, the min value is:0.0\n",
      "train_input.shape: torch.Size([39222, 192, 1]), train_output.shape: torch.Size([39222, 96, 1]), \n",
      "val_input.shape: torch.Size([0, 192, 1]), val_output.shape: torch.Size([0, 96, 1])\n"
     ]
    }
   ],
   "source": [
    "from Model import TemporalConvNet, Encoder, Decoder, Transformer\n",
    "\n",
    "SEED = 1234\n",
    "\n",
    "random.seed(SEED)\n",
    "np.random.seed(SEED)\n",
    "torch.manual_seed(SEED)\n",
    "torch.cuda.manual_seed(SEED)\n",
    "torch.backends.cudnn.benchmark = True\n",
    "# torch.backends.cudnn.deterministic = True\n",
    "\n",
    "from or_DHW_create_dataset import get_DataLoader\n",
    "device = torch.device('cuda') if torch.cuda.is_available() else torch.device('cpu')\n",
    "## data.npy是只维持4个步长的，optSOCdata.npy是全发1的\n",
    "data = np.array(pd.read_csv('0803 extended data 3.csv')[[\"ls\", \"p_flex\"]])[206*96*2:,]\n",
    "power = np.array(pd.read_csv('data/0728 200user.csv')[[\"p_norm\"]])[:-96*3, ] \n",
    "batch_sz = 192 * 1\n",
    "# load data\n",
    "train_loader, val_loader, test_input, test_output, test_LS = get_DataLoader(data, power, batch_sz)"
   ]
  },
  {
   "cell_type": "code",
   "execution_count": 7,
   "metadata": {},
   "outputs": [
    {
     "name": "stdout",
     "output_type": "stream",
     "text": [
      "torch.Size([14709, 192, 1]) torch.Size([15121, 96, 1]) torch.Size([15121, 96])\n"
     ]
    }
   ],
   "source": [
    "print(test_input.shape, test_output.shape, test_LS.shape)"
   ]
  },
  {
   "cell_type": "code",
   "execution_count": 8,
   "metadata": {},
   "outputs": [
    {
     "name": "stdout",
     "output_type": "stream",
     "text": [
      "torch.Size([6180, 96, 1])\n"
     ]
    }
   ],
   "source": [
    "test_input = test_input[-60*206:-30*206, :, :]\n",
    "test_output = test_output[-60*206:-30*206, :, :]\n",
    "test_LS = test_LS[-60*206:-30*206, :]\n",
    "print(test_output.shape)"
   ]
  },
  {
   "cell_type": "code",
   "execution_count": 6,
   "metadata": {},
   "outputs": [
    {
     "data": {
      "text/plain": [
       "<All keys matched successfully>"
      ]
     },
     "execution_count": 6,
     "metadata": {},
     "output_type": "execute_result"
    }
   ],
   "source": [
    "model.load_state_dict(torch.load ('models/0804 Transformer_model e-05.pt', map_location='cpu'))"
   ]
  },
  {
   "cell_type": "code",
   "execution_count": 7,
   "metadata": {
    "collapsed": true
   },
   "outputs": [],
   "source": [
    "def translate_sentence(src, LS, model, max_len=96):\n",
    "    model.eval()\n",
    "    LS = LS.to(device)\n",
    "    src_tensor = src.to(device)\n",
    "    src_tensor = model.downsample_cnn(src_tensor.permute(0,2,1)).permute(0,2,1)\n",
    "    src_tensor = src_tensor[:,-96:,:]\n",
    "    src_mask = model.make_src_mask(src_tensor)\n",
    "\n",
    "    with torch.no_grad():\n",
    "        enc_src = model.encoder(src_tensor, src_mask)\n",
    "\n",
    "    trg_indexes = torch.zeros(src.shape[0], 1, 1).to(device)\n",
    "\n",
    "    for i in range(max_len):\n",
    "\n",
    "        trg_tensor = torch.cat((trg_indexes, LS[:, :i+1, :]), dim=2)\n",
    "\n",
    "        trg_mask = model.make_trg_mask(trg_tensor)\n",
    "\n",
    "        with torch.no_grad():\n",
    "            output, attention = model.decoder(trg_tensor, enc_src, trg_mask, src_mask)\n",
    "\n",
    "        trg_indexes = torch.cat((trg_indexes, output[:, -1:, :]), dim=1)\n",
    "\n",
    "    return trg_indexes[:, 1:, :], attention\n",
    "\n"
   ]
  },
  {
   "cell_type": "code",
   "execution_count": null,
   "metadata": {
    "collapsed": true
   },
   "outputs": [],
   "source": [
    "# cur_times = 10  #拆开数据后的计算次数，直接计算会显存不足\n",
    "# batch = test_input.shape[0]/cur_times #注意一定要能被整除\n",
    "# batch = int(batch)\n",
    "\n",
    "# predicted_output = torch.Tensor([])\n",
    "# for i in range(cur_times):\n",
    "\n",
    "#     temp, _ = translate_sentence(torch.Tensor(test_input[batch * i:batch * (i+1)]),torch.Tensor(test_LS[batch * i:batch * (i+1)]),\\\n",
    "#                               model)\n",
    "#     predicted_output = torch.cat((predicted_output, temp.cpu().detach()), dim=0)\n",
    "\n",
    "# predicted_output = predicted_output.numpy()\n"
   ]
  },
  {
   "cell_type": "code",
   "execution_count": 50,
   "metadata": {
    "collapsed": true
   },
   "outputs": [],
   "source": [
    "predicted_output = np.load('0804 predicted_output.npy')\n",
    "test_output = test_output.numpy()"
   ]
  },
  {
   "cell_type": "code",
   "execution_count": 51,
   "metadata": {},
   "outputs": [
    {
     "data": {
      "text/plain": [
       "array([[0.03793333],\n",
       "       [0.03213333],\n",
       "       [0.13080001],\n",
       "       [0.16406667],\n",
       "       [0.1748    ],\n",
       "       [0.42546666],\n",
       "       [0.665     ],\n",
       "       [0.        ],\n",
       "       [0.        ],\n",
       "       [0.        ],\n",
       "       [0.        ],\n",
       "       [0.        ],\n",
       "       [0.        ],\n",
       "       [0.        ],\n",
       "       [0.        ],\n",
       "       [0.        ],\n",
       "       [0.        ],\n",
       "       [0.        ],\n",
       "       [0.        ],\n",
       "       [0.        ],\n",
       "       [0.        ],\n",
       "       [0.        ],\n",
       "       [0.        ],\n",
       "       [0.        ],\n",
       "       [0.        ],\n",
       "       [0.        ],\n",
       "       [0.        ],\n",
       "       [0.        ],\n",
       "       [0.        ],\n",
       "       [0.        ],\n",
       "       [0.        ],\n",
       "       [0.        ],\n",
       "       [0.        ],\n",
       "       [0.        ],\n",
       "       [0.        ],\n",
       "       [0.        ],\n",
       "       [0.        ],\n",
       "       [0.        ],\n",
       "       [0.        ],\n",
       "       [0.        ],\n",
       "       [0.        ],\n",
       "       [0.        ],\n",
       "       [0.        ],\n",
       "       [0.        ],\n",
       "       [0.        ],\n",
       "       [0.        ],\n",
       "       [0.        ],\n",
       "       [0.        ],\n",
       "       [0.        ],\n",
       "       [0.        ],\n",
       "       [0.        ],\n",
       "       [0.        ],\n",
       "       [0.        ],\n",
       "       [0.        ],\n",
       "       [0.        ],\n",
       "       [0.        ],\n",
       "       [0.        ],\n",
       "       [0.        ],\n",
       "       [0.        ],\n",
       "       [0.        ],\n",
       "       [0.        ],\n",
       "       [0.        ],\n",
       "       [0.        ],\n",
       "       [0.        ],\n",
       "       [0.        ],\n",
       "       [0.        ],\n",
       "       [0.        ],\n",
       "       [0.        ],\n",
       "       [0.        ],\n",
       "       [0.        ],\n",
       "       [0.        ],\n",
       "       [0.        ],\n",
       "       [0.        ],\n",
       "       [0.        ],\n",
       "       [0.        ],\n",
       "       [0.        ],\n",
       "       [0.        ],\n",
       "       [0.        ],\n",
       "       [0.        ],\n",
       "       [0.        ],\n",
       "       [0.        ],\n",
       "       [0.        ],\n",
       "       [0.        ],\n",
       "       [0.        ],\n",
       "       [0.        ],\n",
       "       [0.        ],\n",
       "       [0.        ],\n",
       "       [0.        ],\n",
       "       [0.        ],\n",
       "       [0.        ],\n",
       "       [0.        ],\n",
       "       [0.        ],\n",
       "       [0.        ],\n",
       "       [0.        ],\n",
       "       [0.        ],\n",
       "       [0.        ]], dtype=float32)"
      ]
     },
     "execution_count": 51,
     "metadata": {},
     "output_type": "execute_result"
    }
   ],
   "source": [
    "test_output[0]"
   ]
  },
  {
   "cell_type": "code",
   "execution_count": 52,
   "metadata": {
    "collapsed": true
   },
   "outputs": [],
   "source": [
    "# 存30天的metrics\n",
    "#反归一化\n",
    "data = np.array(pd.read_csv('0803 extended data 3.csv')[[\"ls\", \"tariff\", \"p_flex\"]])[206*96*2:,]\n",
    "min_p = data[:,2].min()\n",
    "max_p = data[:,2].max()\n",
    "pre_output = (max_p - min_p)*predicted_output + min_p\n",
    "real_output = (max_p - min_p)*test_output + min_p\n"
   ]
  },
  {
   "cell_type": "code",
   "execution_count": 53,
   "metadata": {},
   "outputs": [
    {
     "data": {
      "text/plain": [
       "array([[[26.00689   ],\n",
       "        [24.340593  ],\n",
       "        [84.63742   ],\n",
       "        ...,\n",
       "        [ 1.7872028 ],\n",
       "        [ 2.422654  ],\n",
       "        [ 2.2747993 ]],\n",
       "\n",
       "       [[ 0.91417503],\n",
       "        [27.112055  ],\n",
       "        [83.148346  ],\n",
       "        ...,\n",
       "        [ 1.4218793 ],\n",
       "        [ 2.7213268 ],\n",
       "        [ 2.9405327 ]],\n",
       "\n",
       "       [[ 0.91417503],\n",
       "        [ 0.6092973 ],\n",
       "        [80.67898   ],\n",
       "        ...,\n",
       "        [ 1.7407782 ],\n",
       "        [ 2.8168335 ],\n",
       "        [ 3.107898  ]],\n",
       "\n",
       "       ...,\n",
       "\n",
       "       [[ 0.91418624],\n",
       "        [ 0.6093018 ],\n",
       "        [ 0.7794723 ],\n",
       "        ...,\n",
       "        [ 1.1343598 ],\n",
       "        [ 0.9280041 ],\n",
       "        [ 0.9306706 ]],\n",
       "\n",
       "       [[ 0.91418624],\n",
       "        [ 0.6093018 ],\n",
       "        [ 0.7794723 ],\n",
       "        ...,\n",
       "        [ 1.1343598 ],\n",
       "        [ 0.9280041 ],\n",
       "        [ 0.9306706 ]],\n",
       "\n",
       "       [[ 0.91418624],\n",
       "        [ 0.6093018 ],\n",
       "        [ 0.7794723 ],\n",
       "        ...,\n",
       "        [ 1.1343598 ],\n",
       "        [ 0.9280041 ],\n",
       "        [ 0.9306706 ]]], dtype=float32)"
      ]
     },
     "execution_count": 53,
     "metadata": {},
     "output_type": "execute_result"
    }
   ],
   "source": [
    "pre_output"
   ]
  },
  {
   "cell_type": "code",
   "execution_count": 27,
   "metadata": {
    "collapsed": true
   },
   "outputs": [],
   "source": [
    "# 求30天的metrics\n",
    "# TCN_RMSE_UP = []\n",
    "# TCN_MAE_UP = []\n",
    "# for i in range(29):\n",
    "    rmse = np.sqrt(np.mean(np.power((real_flex_up[i] - pre_flex_up[i]),2)))\n",
    "    mae = np.mean(abs(real_flex_up[i] - pre_flex_up[i]))\n",
    "#     TCN_RMSE_UP.append(rmse)\n",
    "#     TCN_MAE_UP .append(mae)\n",
    "# TCN_RMSE_UP = np.array(TCN_RMSE_UP)\n",
    "# TCN_MAE_UP = np.array(TCN_MAE_UP)"
   ]
  },
  {
   "cell_type": "code",
   "execution_count": 31,
   "metadata": {},
   "outputs": [
    {
     "data": {
      "text/plain": [
       "6180"
      ]
     },
     "execution_count": 31,
     "metadata": {},
     "output_type": "execute_result"
    }
   ],
   "source": [
    "206*30"
   ]
  },
  {
   "cell_type": "code",
   "execution_count": 54,
   "metadata": {
    "collapsed": true
   },
   "outputs": [],
   "source": [
    "oneday = 206\n",
    "def metrics (pre,real,oneday):\n",
    "    pre_up = []\n",
    "    pre_down = []\n",
    "    real_up = []\n",
    "    real_down = []\n",
    "    for i in range(30):\n",
    "        pre_up.append(pre[i*oneday : i*oneday + 96:,:,])\n",
    "        real_up.append(real[i*oneday : i*oneday + 96:,:,])\n",
    "        pre_down.append(pre[i*oneday + 96 : i*oneday + 96*2:,:,])\n",
    "        real_down.append(real[i*oneday + 96 : i*oneday + 96*2:,:,])\n",
    "    pre_up = np.array(pre_up)\n",
    "    real_up = np.array(real_up)\n",
    "    pre_down = np.array(pre_down)\n",
    "    real_down = np.array(real_down)\n",
    "    \n",
    "    Tans_RMSE_UP = []\n",
    "    Tans_RMSE_DOWN = []\n",
    "    Tans_MAE_UP = []\n",
    "    Tans_MAE_DOWN = []\n",
    "    for i in range(30):\n",
    "        rmse_up = np.sqrt(np.mean(np.power((real_up[i] - pre_up[i]),2)))\n",
    "        mae_up = np.mean(abs(real_up[i] - pre_up[i]))\n",
    "        rmse_down= np.sqrt(np.mean(np.power((real_down[i] - pre_down[i]),2)))\n",
    "        mae_down = np.mean(abs(real_down[i] - pre_down[i]))\n",
    "        Tans_RMSE_UP.append(rmse_up)\n",
    "        Tans_RMSE_DOWN .append(rmse_down)\n",
    "        Tans_MAE_UP.append(mae_up)\n",
    "        Tans_MAE_DOWN .append(mae_down)\n",
    "    Tans_RMSE_UP = np.array(Tans_RMSE_UP)\n",
    "    Tans_RMSE_DOWN = np.array(Tans_RMSE_DOWN)\n",
    "    Tans_MAE_UP = np.array(Tans_MAE_UP)\n",
    "    Tans_MAE_DOWN = np.array(Tans_MAE_DOWN)\n",
    "    return Tans_RMSE_UP,Tans_RMSE_DOWN,Tans_MAE_UP,Tans_MAE_DOWN\n",
    "    \n",
    "    \n",
    "    \n",
    "        \n",
    "        \n",
    "    "
   ]
  },
  {
   "cell_type": "code",
   "execution_count": 55,
   "metadata": {
    "collapsed": true
   },
   "outputs": [],
   "source": [
    "Tans_RMSE_UP,Tans_RMSE_DOWN,Tans_MAE_UP,Tans_MAE_DOWN = metrics(pre_output, real_output,206)"
   ]
  },
  {
   "cell_type": "code",
   "execution_count": null,
   "metadata": {
    "collapsed": true
   },
   "outputs": [],
   "source": [
    "# np.save('metrics/Tans_RMSE_UP',Tans_RMSE_UP)\n",
    "# np.save('metrics/Tans_RMSE_DOWN',Tans_RMSE_DOWN)\n",
    "# np.save('metrics/Tans_MAE_UP',Tans_MAE_UP)\n",
    "# np.save('metrics/Tans_MAE_DOWN',Tans_MAE_DOWN)"
   ]
  },
  {
   "cell_type": "code",
   "execution_count": 56,
   "metadata": {},
   "outputs": [
    {
     "name": "stdout",
     "output_type": "stream",
     "text": [
      "Tans_RMSE_UP:Mean:6.413,Max:8.885,Min:4.328\n",
      "Tans_MAE_UP:Mean:2.405,Max:3.057,Min:1.912\n",
      "Tans_RMSE_down:Mean:7.095,Max:9.376,Min:5.334\n",
      "Tans_MAE_down:Mean:2.545,Max:3.233,Min:2.138\n"
     ]
    }
   ],
   "source": [
    "print(\"Tans_RMSE_UP:Mean:{:.3f},Max:{:.3f},Min:{:.3f}\".format(np.mean(Tans_RMSE_UP),np.max(Tans_RMSE_UP),np.min(Tans_RMSE_UP)))\n",
    "print(\"Tans_MAE_UP:Mean:{:.3f},Max:{:.3f},Min:{:.3f}\".format(np.mean(Tans_MAE_UP),np.max(Tans_MAE_UP),np.min(Tans_MAE_UP)))\n",
    "print(\"Tans_RMSE_down:Mean:{:.3f},Max:{:.3f},Min:{:.3f}\".format(np.mean(Tans_RMSE_DOWN),np.max(Tans_RMSE_DOWN),np.min(Tans_RMSE_DOWN)))\n",
    "print(\"Tans_MAE_down:Mean:{:.3f},Max:{:.3f},Min:{:.3f}\".format(np.mean(Tans_MAE_DOWN),np.max(Tans_MAE_DOWN),np.min(Tans_MAE_DOWN)))"
   ]
  },
  {
   "cell_type": "code",
   "execution_count": 57,
   "metadata": {
    "collapsed": true
   },
   "outputs": [],
   "source": [
    "pre_up = []\n",
    "pre_down = []\n",
    "real_up = []\n",
    "real_down = []\n",
    "for i in range(30):\n",
    "    pre_up.append(pre_output[i*oneday : i*oneday + 96:,:,])\n",
    "    real_up.append(real_output[i*oneday : i*oneday + 96:,:,])\n",
    "    pre_down.append(pre_output[i*oneday + 96 : i*oneday + 96*2:,:,])\n",
    "    real_down.append(real_output[i*oneday + 96 : i*oneday + 96*2:,:,])\n",
    "pre_up = np.array(pre_up)\n",
    "real_up = np.array(real_up)\n",
    "pre_down = np.array(pre_down)\n",
    "real_down = np.array(real_down)"
   ]
  },
  {
   "cell_type": "code",
   "execution_count": 58,
   "metadata": {
    "collapsed": true
   },
   "outputs": [],
   "source": [
    "# 画效果图\n",
    "real_flex_up1 = real_up[1].reshape(96,96,1)\n",
    "real_flex_down1 = real_down[2].reshape(96,96,1)\n",
    "pre_flex_up1 = pre_up[1].reshape(96,96,1)\n",
    "pre_flex_down1 = pre_down[2].reshape(96,96,1)"
   ]
  },
  {
   "cell_type": "code",
   "execution_count": 59,
   "metadata": {
    "collapsed": true
   },
   "outputs": [],
   "source": [
    "#生成灵活度表征函数\n",
    "#上备用\n",
    "\n",
    "real_up_1step=[]\n",
    "for i in range(96):\n",
    "    a=real_flex_up1[i][i]\n",
    "    real_up_1step.append(a)\n",
    "real_up_1step=np.array(real_up_1step)\n",
    "\n",
    "real_up_2step=[]\n",
    "for i in range(48):\n",
    "    a=[real_flex_up1[i][i],real_flex_up1[i][i+1]]\n",
    "    b=np.min(a)\n",
    "    real_up_2step.append(b)\n",
    "    real_up_2step.append(b)\n",
    "real_up_2step=np.array(real_up_2step)\n",
    "\n",
    "real_up_4step=[]\n",
    "for i in range(24):\n",
    "    a=[real_flex_up1[i][i],real_flex_up1[i][i+1],real_flex_up1[i][i+2],real_flex_up1[i][i+3]]\n",
    "    b=np.min(a)\n",
    "    real_up_4step.append(b)\n",
    "    real_up_4step.append(b)\n",
    "    real_up_4step.append(b)\n",
    "    real_up_4step.append(b)\n",
    "real_up_4step=np.array(real_up_4step)\n",
    " \n",
    " \n",
    "\n"
   ]
  },
  {
   "cell_type": "code",
   "execution_count": 60,
   "metadata": {
    "collapsed": true
   },
   "outputs": [],
   "source": [
    "pre_up_1step=[]\n",
    "for i in range(96):\n",
    "    a=pre_flex_up1[i][i]\n",
    "    pre_up_1step.append(a)\n",
    "pre_up_1step=np.array(pre_up_1step)\n",
    "\n",
    "pre_up_2step=[]\n",
    "for i in range(48):\n",
    "    a=[pre_flex_up1[i][i],pre_flex_up1[i][i+1]]\n",
    "    b=np.min(a)\n",
    "    pre_up_2step.append(b)\n",
    "    pre_up_2step.append(b)\n",
    "pre_up_2step=np.array(pre_up_2step)\n",
    "\n",
    "pre_up_4step=[]\n",
    "for i in range(24):\n",
    "    a=[pre_flex_up1[i][i],pre_flex_up1[i][i+1],pre_flex_up1[i][i+2],pre_flex_up1[i][i+3]]\n",
    "    b=np.min(a)\n",
    "    pre_up_4step.append(b)\n",
    "    pre_up_4step.append(b)\n",
    "    pre_up_4step.append(b)\n",
    "    pre_up_4step.append(b)\n",
    "pre_up_4step=np.array(pre_up_4step)"
   ]
  },
  {
   "cell_type": "code",
   "execution_count": 61,
   "metadata": {
    "collapsed": true
   },
   "outputs": [],
   "source": [
    "#下备用\n",
    "real_down_1step=[]\n",
    "for i in range(96):\n",
    "    a=real_flex_down1[i][i]\n",
    "    real_down_1step.append(a)\n",
    "real_down_1step=np.array(real_down_1step)\n",
    "\n",
    "real_down_2step=[]\n",
    "for i in range(48):\n",
    "    a=[real_flex_down1[i][i],real_flex_down1[i][i+1]]\n",
    "    b=np.min(a)\n",
    "    real_down_2step.append(b)\n",
    "    real_down_2step.append(b)\n",
    "real_down_2step=np.array(real_down_2step)\n",
    "\n",
    "real_down_4step=[]\n",
    "for i in range(24):\n",
    "    a=[real_flex_down1[i][i],real_flex_down1[i][i+1],real_flex_down1[i][i+2],real_flex_down1[i][i+3]]\n",
    "    b=np.min(a)\n",
    "    real_down_4step.append(b)\n",
    "    real_down_4step.append(b)\n",
    "    real_down_4step.append(b)\n",
    "    real_down_4step.append(b)\n",
    "real_down_4step=np.array(real_down_4step)"
   ]
  },
  {
   "cell_type": "code",
   "execution_count": 62,
   "metadata": {
    "collapsed": true
   },
   "outputs": [],
   "source": [
    "pre_down_1step=[]\n",
    "for i in range(96):\n",
    "    a=pre_flex_down1[i][i]\n",
    "    pre_down_1step.append(a)\n",
    "pre_down_1step=np.array(pre_down_1step)\n",
    "\n",
    "pre_down_2step=[]\n",
    "for i in range(48):\n",
    "    a=[pre_flex_down1[i][i],pre_flex_down1[i][i+1]]\n",
    "    b=np.min(a)\n",
    "    pre_down_2step.append(b)\n",
    "    pre_down_2step.append(b)\n",
    "pre_down_2step=np.array(pre_down_2step)\n",
    "\n",
    "pre_down_4step=[]\n",
    "for i in range(24):\n",
    "    a=[pre_flex_down1[i][i],pre_flex_down1[i][i+1],pre_flex_down1[i][i+2],pre_flex_down1[i][i+3]]\n",
    "    b=np.min(a)\n",
    "    pre_down_4step.append(b)\n",
    "    pre_down_4step.append(b)\n",
    "    pre_down_4step.append(b)\n",
    "    pre_down_4step.append(b)\n",
    "pre_down_4step=np.array(pre_down_4step)"
   ]
  },
  {
   "cell_type": "code",
   "execution_count": 63,
   "metadata": {},
   "outputs": [
    {
     "data": {
      "image/png": "[encoded data removed]",
      "text/plain": [
       "<Figure size 720x360 with 3 Axes>"
      ]
     },
     "metadata": {
      "needs_background": "light"
     },
     "output_type": "display_data"
    }
   ],
   "source": [
    "#画图\n",
    "plt.figure(figsize=(10,5))\n",
    "ax1 = plt.subplot(311)\n",
    "x1=np.linspace(0,96,96).astype(int)\n",
    "l1=plt.step(x1,real_up_1step,label='one step up backup')\n",
    "l2=plt.step(x1,pre_up_1step,label='one step predicted backup')\n",
    "plt.legend(loc = 'upper right')\n",
    "# plt.yticks(y)\n",
    "plt.grid()\n",
    "\n",
    "ax2 = plt.subplot(312)\n",
    "l1=plt.step(x1,real_up_2step,label='two step up backup')\n",
    "l2=plt.step(x1,pre_up_2step,label='two step predicted backup')\n",
    "plt.legend(loc = 'upper right')\n",
    "# plt.yticks(y)\n",
    "plt.grid()\n",
    "\n",
    "ax3 = plt.subplot(313)\n",
    "l1=plt.step(x1,real_up_4step,label='four step up backup')\n",
    "l2=plt.step(x1,pre_up_4step,label='four step predicted backup')\n",
    "plt.legend(loc = 'upper right')\n",
    "# plt.yticks(y)\n",
    "plt.grid()"
   ]
  },
  {
   "cell_type": "code",
   "execution_count": 64,
   "metadata": {},
   "outputs": [
    {
     "data": {
      "image/png": "[encoded data removed]",
      "text/plain": [
       "<Figure size 720x360 with 3 Axes>"
      ]
     },
     "metadata": {
      "needs_background": "light"
     },
     "output_type": "display_data"
    }
   ],
   "source": [
    "plt.figure(figsize=(10,5))\n",
    "ax1 = plt.subplot(311)\n",
    "x1=np.linspace(0,96,96).astype(int)\n",
    "l1=plt.step(x1,real_down_1step,label='one step down backup')\n",
    "l2=plt.step(x1,pre_down_1step,label='one step predicted backup')\n",
    "plt.legend(loc = 'upper right')\n",
    "# plt.yticks(y)\n",
    "plt.grid()\n",
    "\n",
    "ax2 = plt.subplot(312)\n",
    "l1=plt.step(x1,real_down_2step,label='two step down backup')\n",
    "l2=plt.step(x1,pre_down_2step,label='two step predicted backup')\n",
    "plt.legend(loc = 'upper right')\n",
    "# plt.yticks(y)\n",
    "plt.grid()\n",
    "\n",
    "ax3 = plt.subplot(313)\n",
    "l1=plt.step(x1,real_down_4step,label='four step down backup')\n",
    "l2=plt.step(x1,pre_down_4step,label='four step predicted backup')\n",
    "plt.legend(loc = 'upper right')\n",
    "# plt.yticks(y)\n",
    "plt.grid()\n",
    "\n",
    "\n",
    "\n",
    "plt.show()"
   ]
  },
  {
   "cell_type": "code",
   "execution_count": null,
   "metadata": {
    "collapsed": true
   },
   "outputs": [],
   "source": [
    "# data = {'TRAN_real_up_1step':real_up_1step,'TRAN_real_up_2step':real_up_2step,'TRAN_real_up_4step':real_up_4step,'TRAN_pre_up_1step':pre_up_1step,\n",
    "#        'TRAN_pre_up_2step':pre_up_2step,'TRAN_pre_up_4step':pre_up_4step,'TRAN_real_down_1step':real_down_1step,'TRAN_real_down_2step':real_down_2step,\n",
    "#         'TRAN_real_down_4step':real_down_4step,'TRAN_pre_down_1step':pre_down_1step,'TRAN_pre_down_2step':pre_down_2step,'TRAN_pre_down_4step':pre_down_4step}\n",
    "# pd.DataFrame(data).to_csv('flew2draw/transformer flex2draw.csv')"
   ]
  }
 ],
 "metadata": {
  "kernelspec": {
   "display_name": "Python [conda env:pytorch-cpu]",
   "language": "python",
   "name": "conda-env-pytorch-cpu-py"
  },
  "language_info": {
   "codemirror_mode": {
    "name": "ipython",
    "version": 3
   },
   "file_extension": ".py",
   "mimetype": "text/x-python",
   "name": "python",
   "nbconvert_exporter": "python",
   "pygments_lexer": "ipython3",
   "version": "3.6.10"
  }
 },
 "nbformat": 4,
 "nbformat_minor": 2
}
