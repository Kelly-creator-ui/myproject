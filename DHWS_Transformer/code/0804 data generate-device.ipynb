{
 "cells": [
  {
   "cell_type": "code",
   "execution_count": 1,
   "metadata": {
    "collapsed": true
   },
   "outputs": [],
   "source": [
    "import pandas as pd\n",
    "import numpy as np \n",
    "from datetime import date\n",
    "import matplotlib.pyplot as plot\n",
    "import numpy as np\n",
    "import random\n",
    "import operator\n",
    "from functools import reduce\n",
    "from sklearn.preprocessing import MinMaxScaler\n",
    "import torch"
   ]
  },
  {
   "cell_type": "code",
   "execution_count": 4,
   "metadata": {},
   "outputs": [],
   "source": [
    "import matplotlib.pyplot as plt\n",
    "\n",
    "import pandas as pd\n",
    "\n",
    "import numpy as np\n",
    "from datetime import date\n",
    "import math"
   ]
  },
  {
   "cell_type": "code",
   "execution_count": 86,
   "metadata": {
    "collapsed": true
   },
   "outputs": [],
   "source": [
    "#生成居民用水行为，1：away;2:sleep;3:bath;4:showering;5:others\n",
    "user1=[2,2,2,2,2,2,2,2,2,2,2,2,2,2,2,2,2,2,2,2,1,1,1,1,1,1,1,1,4,4,4,4,1,1,1,1,5,5,5,5,5,5,5,5,1,1,1,1,1,1,1,1,1,1,1,1,1,1,1,1,5,5,5,5,3,3,3,3,5,5,5,5,3,3,3,3,3,3,3,3,2,2,2,2,2,2,2,2,2,2,2,2,2,2,2,2]\n",
    "user2=[2,2,2,2,5,5,5,5,1,1,1,1,1,1,1,1,1,1,1,1,1,1,1,1,1,1,1,1,1,1,1,1,1,1,1,1,1,1,1,1,1,1,1,1,1,1,1,1,1,1,1,1,1,1,1,1,1,1,1,1,1,1,1,1,5,5,5,5,5,5,5,5,4,4,4,4,2,2,2,2,2,2,2,2,2,2,2,2,2,2,2,2,2,2,2,2]\n",
    "user3=[5,5,5,5,5,5,5,5,2,2,2,2,2,2,2,2,2,2,2,2,2,2,2,2,4,4,4,4,1,1,1,1,1,1,1,1,1,1,1,1,1,1,1,1,1,1,1,1,1,1,1,1,1,1,1,1,1,1,1,1,1,1,1,1,1,1,1,1,5,5,5,5,5,5,5,5,4,4,4,4,2,2,2,2,2,2,2,2,2,2,2,2,2,2,2,2]\n",
    "user4=[2,2,2,2,2,2,2,2,2,2,2,2,5,4,4,4,4,5,5,5,5,5,5,5,5,5,5,5,5,5,5,5,5,5,5,5,5,5,5,5,1,1,1,1,1,1,1,1,1,1,1,1,1,1,1,1,1,1,1,1,1,1,1,1,1,1,1,1,3,3,3,3,5,5,5,5,5,5,5,5,4,4,4,4,5,5,5,5,2,2,2,2,2,2,2,2]\n",
    "user5=[2,2,2,2,2,2,2,2,2,2,2,2,2,2,2,2,2,2,2,2,2,2,2,2,4,4,4,4,5,5,5,5,5,5,5,5,5,5,5,5,5,5,5,5,5,5,5,5,5,5,5,5,5,5,5,5,5,5,5,5,2,2,2,2,2,3,3,3,3,2,2,2,2,2,2,2,2,2,2,2,2,2,2,2,2,2,2,2,2,2,2,2,2,2,2,2]"
   ]
  },
  {
   "cell_type": "code",
   "execution_count": 87,
   "metadata": {
    "collapsed": true
   },
   "outputs": [],
   "source": [
    "userpattern0521200=[]\n",
    "for j in range(200):\n",
    "    pattern=[]\n",
    "    for i in range(365):\n",
    "        x=random.randint(1,5)\n",
    "        if x==1:\n",
    "            pattern.append(user1)\n",
    "        if x==2:\n",
    "            pattern.append(user2)\n",
    "        if x==3:\n",
    "            pattern.append(user3)\n",
    "        if x==4:\n",
    "            pattern.append(user4)\n",
    "        if x==5:\n",
    "            pattern.append(user5)\n",
    "    pattern=np.array(pattern).reshape(1,365*96)\n",
    "    userpattern0521200.append(pattern)\n",
    "userpattern0521200=np.array(userpattern0521200)\n"
   ]
  },
  {
   "cell_type": "code",
   "execution_count": 88,
   "metadata": {
    "collapsed": true
   },
   "outputs": [],
   "source": [
    "userpattern0521200=userpattern0521200.reshape(200,-1)"
   ]
  },
  {
   "cell_type": "code",
   "execution_count": 5,
   "metadata": {
    "collapsed": true
   },
   "outputs": [],
   "source": [
    "pattern = np.load('G:/科研/代码/July_coding/code/data/0519 2000userpattern.npy')"
   ]
  },
  {
   "cell_type": "code",
   "execution_count": 6,
   "metadata": {},
   "outputs": [
    {
     "data": {
      "text/plain": [
       "(200, 23328)"
      ]
     },
     "execution_count": 6,
     "metadata": {},
     "output_type": "execute_result"
    }
   ],
   "source": [
    "pattern200 = pattern[:200,1:]\n",
    "pattern200.shape"
   ]
  },
  {
   "cell_type": "code",
   "execution_count": 7,
   "metadata": {
    "collapsed": true
   },
   "outputs": [],
   "source": [
    "def datagenerate(next_list,userpattern):\n",
    "    Temp=[]\n",
    "    Pbase=[]\n",
    "    Power=np.zeros(len(next_list),dtype=int)\n",
    "    for j in range(200):\n",
    "        state_norm=np.zeros(len(next_list),dtype=int)\n",
    "        T_list_1=np.zeros(len(next_list),dtype=int)\n",
    "        T_list_1[0]=80\n",
    "        state_norm[0]=0\n",
    "        pattern=userpattern[j]\n",
    "        for i in range(len(next_list)-1):\n",
    "            if state_norm[i] == 1 and (pattern[i] == 1 or pattern[i] == 2 or pattern[i] == 5):\n",
    "                T_list_1[i + 1] = T_list_1[i] + 6.4\n",
    "                if T_list_1[i + 1] >= 100 or next_list[i + 1] == -1:\n",
    "                    state_norm[i + 1] = 0\n",
    "                else:\n",
    "                    state_norm[i + 1] = 1\n",
    "            elif state_norm[i] == 1 and pattern[i] == 4:\n",
    "                T_list_1[i + 1] = T_list_1[i] - 8.6\n",
    "                if next_list[i + 1] == -1:\n",
    "                    state_norm[i + 1] = 0\n",
    "                else:\n",
    "                    state_norm[i + 1] = 1\n",
    "            elif state_norm[i] == 1 and pattern[i] == 3:\n",
    "                T_list_1[i + 1] = T_list_1[i] - 4.6\n",
    "                if next_list[i + 1] == -1:\n",
    "                    state_norm[i + 1] = 0\n",
    "                else:\n",
    "                    state_norm[i + 1] = 1\n",
    "            elif state_norm[i] == 0 and (pattern[i] == 1 or pattern[i] == 2 or pattern[i] == 5):\n",
    "                T_list_1[i + 1] = T_list_1[i] - 1.142\n",
    "                if T_list_1[i + 1] <= 60 or next_list[i + 1] == 1:\n",
    "                    state_norm[i + 1] = 1\n",
    "                else:\n",
    "                    state_norm[i + 1] = 0\n",
    "            elif state_norm[i] == 0 and pattern[i] == 4:\n",
    "                T_list_1[i + 1] = T_list_1[i] - 15.143\n",
    "                if T_list_1[i + 1] <= 60 or next_list[i + 1] == 1:\n",
    "                    state_norm[i + 1] = 1\n",
    "                else:\n",
    "                    state_norm[i + 1] = 0\n",
    "            else:\n",
    "                T_list_1[i + 1] = T_list_1[i] - 8.14\n",
    "                if T_list_1[i + 1] <= 60 or next_list[i + 1] == 1:\n",
    "                    state_norm[i + 1] = 1\n",
    "                else:\n",
    "                    state_norm[i + 1] = 0\n",
    "        p_norm = state_norm.copy()\n",
    "        p_norm = np.where(state_norm == 1, 3, 0)\n",
    "        Power=Power+p_norm\n",
    "        Pbase.append(p_norm)\n",
    "        Temp.append(T_list_1)\n",
    "    Temp=np.array(Temp)\n",
    "    Pbase = np.array(Pbase)\n",
    "    return Power,Temp,Pbase"
   ]
  },
  {
   "cell_type": "code",
   "execution_count": 8,
   "metadata": {
    "collapsed": true
   },
   "outputs": [],
   "source": [
    "ds = np.zeros(96,dtype=int).repeat(243)\n",
    "ZP,ZT,ZP1 = datagenerate(ds, pattern200)"
   ]
  },
  {
   "cell_type": "code",
   "execution_count": 9,
   "metadata": {},
   "outputs": [
    {
     "data": {
      "text/plain": [
       "array([3, 3, 3, 3, 3, 3, 0, 0, 0, 0, 0, 0, 0, 0, 0, 0, 0, 0, 0, 0, 0, 0,\n",
       "       0, 0, 0, 0, 0, 3, 3, 3, 3, 3, 3, 3, 3, 3, 3, 3, 3, 3, 3, 3, 3, 3,\n",
       "       0, 0, 0, 0, 0, 0, 0, 0, 0, 0, 0, 0, 0, 0, 0, 0, 0, 0, 0, 0, 0, 3,\n",
       "       3, 3, 3, 3, 3, 3, 3, 3, 3, 3, 3, 3, 3, 3, 3, 3, 3, 3, 3, 3, 3, 3,\n",
       "       3, 3, 3, 3, 3, 0, 0, 0])"
      ]
     },
     "execution_count": 9,
     "metadata": {},
     "output_type": "execute_result"
    }
   ],
   "source": [
    "ZP1[125,96*1:96*2]"
   ]
  },
  {
   "cell_type": "code",
   "execution_count": 10,
   "metadata": {
    "collapsed": true
   },
   "outputs": [],
   "source": [
    "#生成up和down不同的96组信号\n",
    "down = []\n",
    "for i in range(96):\n",
    "    row = []\n",
    "    for j in range(96):\n",
    "        if j < i:\n",
    "            row.append(0)\n",
    "        else:\n",
    "            row.append(-1)\n",
    "    down.append(row)\n",
    "down = np.array(down)\n",
    "\n",
    "up = []\n",
    "for i in range(96):\n",
    "    row = []\n",
    "    for j in range(96):\n",
    "        if j < i:\n",
    "            row.append(0)\n",
    "        else:\n",
    "            row.append(1)\n",
    "    up.append(row)\n",
    "up = np.array(up)\n",
    "\n",
    "# 生成一天的灵活度\n",
    "def flexoneday(p_base, t_base, dr_sig, userpattern):\n",
    "    p_flex = np.zeros(96 , dtype=int)\n",
    "    for i in range(200):\n",
    "        flex = np.zeros(96, dtype=int).tolist()\n",
    "        temp = t_base[i]\n",
    "        p = p_base[i]\n",
    "        pattern = userpattern[i]\n",
    "        for j in range(96 - 1):\n",
    "            if dr_sig[j] == 0:\n",
    "                flex[j] = 0\n",
    "            elif dr_sig[j] == -1:\n",
    "                flex[j] = p[j]\n",
    "                p[j] = 0\n",
    "                if pattern[j] == 1 or pattern[j] == 2 or pattern[j] == 5:\n",
    "                    temp[j + 1] = temp[j] - 1.142\n",
    "                elif pattern[j] == 3:\n",
    "                    temp[j + 1] = temp[j] - 8.14\n",
    "                else:\n",
    "                    temp[j + 1] = temp[j] - 15.143\n",
    "                if temp[j] <= 60:\n",
    "                    flex[j] = 0  # 温控信号与dr信号对冲，此后灵活度均降为零\n",
    "            else:  # 正1信号代表此刻功率变为最大功率\n",
    "                flex[j] = 3 - p[j]\n",
    "                p[j] = 3\n",
    "                if pattern[j] == 1 or pattern[j] == 2 or pattern[j] == 5:\n",
    "                    temp[j + 1] = temp[j] + 6.4\n",
    "                elif pattern[j] == 3:\n",
    "                    temp[j + 1] = temp[j] - 4.6\n",
    "                else:\n",
    "                    temp[j + 1] = temp[j] - 8.6\n",
    "                if temp[j] >= 100:\n",
    "                    flex[j] = 0  # 温控信号与dr信号对冲，灵活度降为零\n",
    "        p_flex = p_flex + np.array(flex)\n",
    "    return p_flex\n"
   ]
  },
  {
   "cell_type": "code",
   "execution_count": 17,
   "metadata": {},
   "outputs": [],
   "source": [
    "device = 'cpu'\n"
   ]
  },
  {
   "cell_type": "code",
   "execution_count": 19,
   "metadata": {},
   "outputs": [],
   "source": [
    "ZP2 = torch.Tensor(ZP1).to(device)\n",
    "ZP_ = torch.Tensor(ZP).to(device)\n",
    "ZT_ = torch.Tensor(ZT).to(device)\n",
    "pattern_ = torch.Tensor(pattern200).to(device)\n",
    "\n",
    "ext_pbase = []\n",
    "ext_ds = []\n",
    "ext_pflex = []\n",
    "p = ZP2[:, 96: 2* 96].clone()\n",
    "t = ZT_[:, 96: 2* 96].clone()\n",
    "pattern = pattern_[:, 96: 2* 96]\n",
    "a = up[3].tolist()\n",
    "flex = flexoneday(p, t, a, pattern).tolist()\n",
    "ext_pflex += flex\n",
    "ext_pbase +=ZP_[96: 2* 96].tolist()\n",
    "ext_ds += a\n",
    "\n",
    "\n",
    "\n",
    "\n"
   ]
  },
  {
   "cell_type": "code",
   "execution_count": 106,
   "metadata": {
    "collapsed": true
   },
   "outputs": [],
   "source": [
    "ext_pbase = []\n",
    "ext_ds = []\n",
    "ext_pflex = []\n",
    "\n",
    "p = ZP2[:, 96: 2* 96].copy()\n",
    "t = ZT_[:, 96: 2* 96].copy()\n",
    "pattern = pattern200[:, 96: 2* 96]\n",
    "a = up[3].tolist()\n",
    "flex = flexoneday(p, t, a, pattern).tolist()\n",
    "ext_pflex += flex\n",
    "ext_pbase +=ZP[96: 2* 96].tolist()\n",
    "ext_ds += a\n",
    "\n",
    "p = ZP1[:, 96: 2* 96].copy()\n",
    "t = ZT[:, 96: 2* 96].copy()\n",
    "a = down[50].tolist()\n",
    "pattern = pattern200[:, 96: 2* 96]\n",
    "flex = flexoneday(p, t, a, pattern).tolist()\n",
    "ext_pflex += flex\n",
    "ext_pbase += ZP[96: 2* 96].tolist()\n",
    "\n"
   ]
  },
  {
   "cell_type": "code",
   "execution_count": 85,
   "metadata": {},
   "outputs": [
    {
     "data": {
      "text/plain": [
       "(23328,)"
      ]
     },
     "execution_count": 85,
     "metadata": {},
     "output_type": "execute_result"
    }
   ],
   "source": [
    "ZP.shape"
   ]
  },
  {
   "cell_type": "code",
   "execution_count": null,
   "metadata": {
    "collapsed": true
   },
   "outputs": [],
   "source": [
    "ds_0 = np.zeros(96, dtype=int).tolist()\n",
    "ext_pbase = []\n",
    "ext_ds = []\n",
    "ext_pflex = []\n",
    "ext_tariff = []\n",
    "for i in range(242):\n",
    "    for j in range(96):\n",
    "        p = ZP1[:, i*96:(i + 1)*96].copy()\n",
    "        t = ZT[:, i*96:(i + 1)*96].copy()\n",
    "        pattern = pattern200[:, i*96:(i + 1)*96]\n",
    "        a = up[j].tolist()\n",
    "        flex = flexoneday(p, t, a, pattern).tolist()\n",
    "        ext_pflex += flex\n",
    "        ext_pbase += ZP[i*96:(i + 1)*96].tolist()\n",
    "        ext_ds += a\n",
    "    for j in range(96):\n",
    "        p = ZP1[:, i*96:(i + 1)*96].copy()\n",
    "        t = ZT[:, i*96:(i + 1)*96].copy()\n",
    "        a = down[j].tolist()\n",
    "        pattern = pattern200[:, i*96:(i + 1)*96]\n",
    "        flex = flexoneday(p, t, a, pattern).tolist()\n",
    "        ext_pflex += flex\n",
    "        ext_pbase += ZP[i*96:(i + 1)*96].tolist()\n",
    "        ext_ds += a\n",
    "    for j in range(14):\n",
    "        p = ZP1[:, i*96:(i + 1)*96].copy()\n",
    "        t = ZT[:, i*96:(i + 1)*96].copy()\n",
    "        pattern = pattern200[:, i*96:(i + 1)*96]\n",
    "        flex = flexoneday(p, t, ds_0, pattern).tolist()\n",
    "        ext_pflex += flex\n",
    "        ext_pbase += ZP[i*96:(i + 1)*96].tolist()\n",
    "        ext_ds += ds_0\n",
    "ext_pbase = np.array(ext_pbase)\n",
    "ext_ds = np.array(ext_ds)\n",
    "ext_pflex = np.array(ext_pflex)\n"
   ]
  },
  {
   "cell_type": "code",
   "execution_count": null,
   "metadata": {
    "collapsed": true
   },
   "outputs": [],
   "source": []
  },
  {
   "cell_type": "code",
   "execution_count": 89,
   "metadata": {
    "collapsed": true
   },
   "outputs": [],
   "source": [
    "ext_pflex = ext_pflex.reshape(-1)"
   ]
  },
  {
   "cell_type": "code",
   "execution_count": 90,
   "metadata": {
    "collapsed": true
   },
   "outputs": [],
   "source": [
    "data={'p_base':ext_pbase,'ds':ext_ds,'ext_pflex':ext_pflex}\n",
    "df = pd.DataFrame(data)\n",
    "df.to_csv('0804 dataset.csv')"
   ]
  },
  {
   "cell_type": "code",
   "execution_count": 75,
   "metadata": {},
   "outputs": [
    {
     "data": {
      "text/plain": [
       "(49852, 96, 1)"
      ]
     },
     "execution_count": 75,
     "metadata": {},
     "output_type": "execute_result"
    }
   ],
   "source": [
    "ext_pflex1 = ext_pflex.reshape(-1,96,1)\n",
    "ext_pflex1.shape"
   ]
  },
  {
   "cell_type": "code",
   "execution_count": 78,
   "metadata": {},
   "outputs": [
    {
     "data": {
      "text/plain": [
       "(43672, 96, 1)"
      ]
     },
     "execution_count": 78,
     "metadata": {},
     "output_type": "execute_result"
    }
   ],
   "source": [
    "ext_pflex2 = ext_pflex1[:-30*206,:,]\n",
    "ext_pflex2.shape"
   ]
  },
  {
   "cell_type": "code",
   "execution_count": 83,
   "metadata": {},
   "outputs": [
    {
     "data": {
      "text/plain": [
       "212.0"
      ]
     },
     "execution_count": 83,
     "metadata": {},
     "output_type": "execute_result"
    }
   ],
   "source": [
    "43672/206"
   ]
  },
  {
   "cell_type": "code",
   "execution_count": null,
   "metadata": {
    "collapsed": true
   },
   "outputs": [],
   "source": []
  }
 ],
 "metadata": {
  "kernelspec": {
   "display_name": "Python [conda env:pytorch-cpu]",
   "language": "python",
   "name": "conda-env-pytorch-cpu-py"
  },
  "language_info": {
   "codemirror_mode": {
    "name": "ipython",
    "version": 3
   },
   "file_extension": ".py",
   "mimetype": "text/x-python",
   "name": "python",
   "nbconvert_exporter": "python",
   "pygments_lexer": "ipython3",
   "version": "3.6.10"
  }
 },
 "nbformat": 4,
 "nbformat_minor": 2
}
