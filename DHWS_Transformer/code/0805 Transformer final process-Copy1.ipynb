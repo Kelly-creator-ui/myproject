{
 "cells": [
  {
   "cell_type": "code",
   "execution_count": 1,
   "metadata": {
    "collapsed": true
   },
   "outputs": [],
   "source": [
    "import torch\n",
    "import torch.nn as nn\n",
    "import torch.optim as optim\n",
    "import torch.nn.functional as F\n",
    "from torch.nn.utils import weight_norm\n",
    "import pandas as pd\n",
    "\n",
    "import matplotlib.pyplot as plt\n",
    "import matplotlib.ticker as ticker\n",
    "\n",
    "import spacy\n",
    "import numpy as np\n",
    "\n",
    "import random\n",
    "import math\n",
    "import time\n",
    "import pandas as pd\n",
    "\n",
    "import sys\n",
    "\n"
   ]
  },
  {
   "cell_type": "code",
   "execution_count": 2,
   "metadata": {},
   "outputs": [
    {
     "name": "stdout",
     "output_type": "stream",
     "text": [
      "the max value of dim0 is:1.0, the min value is:0.0\n",
      "the max value of dim1 is:1.0, the min value is:0.0\n",
      "the max value of dim2 is:1.0, the min value is:0.0\n",
      "torch.Size([49028, 192, 2])\n",
      "train_input.shape: torch.Size([29416, 192, 2]), train_output.shape: torch.Size([29416, 96, 1]), \n",
      "val_input.shape: torch.Size([4903, 192, 2]), val_output.shape: torch.Size([4903, 96, 1])\n"
     ]
    }
   ],
   "source": [
    "from Model import TemporalConvNet, Encoder, Decoder, Transformer\n",
    "\n",
    "SEED = 1234\n",
    "\n",
    "random.seed(SEED)\n",
    "np.random.seed(SEED)\n",
    "torch.manual_seed(SEED)\n",
    "torch.cuda.manual_seed(SEED)\n",
    "torch.backends.cudnn.benchmark = True\n",
    "# torch.backends.cudnn.deterministic = True\n",
    "\n",
    "from DHW_create_dataset3 import get_DataLoader\n",
    "device = torch.device('cuda') if torch.cuda.is_available() else torch.device('cpu')\n",
    "## data.npy是只维持4个步长的，optSOCdata.npy是全发1的\n",
    "data = np.array(pd.read_csv('0803 extended data 3.csv')[[\"ls\", \"tariff\", \"p_flex\"]])[206*96*2:,]\n",
    "power = np.array(pd.read_csv('data/0728 200user.csv')[[\"p_norm\", \"tariff\"]])[:-96*3, ] \n",
    "batch_sz = 192 * 1\n",
    "# load data\n",
    "train_loader, val_loader, test_input, test_output, test_LS = get_DataLoader(data, power, batch_sz)"
   ]
  },
  {
   "cell_type": "code",
   "execution_count": 3,
   "metadata": {},
   "outputs": [
    {
     "name": "stdout",
     "output_type": "stream",
     "text": [
      "torch.Size([14709, 192, 2]) torch.Size([15121, 96, 1]) torch.Size([15121, 96, 2])\n"
     ]
    }
   ],
   "source": [
    "print(test_input.shape, test_output.shape, test_LS.shape)"
   ]
  },
  {
   "cell_type": "code",
   "execution_count": 2,
   "metadata": {
    "collapsed": true
   },
   "outputs": [],
   "source": [
    "test_input = np.load('test_in check.npy')\n",
    "test_output = np.load('test_output check.npy')\n",
    "test_LS = np.load('test_LS check.npy')"
   ]
  },
  {
   "cell_type": "code",
   "execution_count": 3,
   "metadata": {},
   "outputs": [
    {
     "data": {
      "text/plain": [
       "(9888, 96)"
      ]
     },
     "execution_count": 3,
     "metadata": {},
     "output_type": "execute_result"
    }
   ],
   "source": [
    "test_LS.shape"
   ]
  },
  {
   "cell_type": "code",
   "execution_count": 4,
   "metadata": {},
   "outputs": [
    {
     "name": "stdout",
     "output_type": "stream",
     "text": [
      "(6180, 96, 1)\n"
     ]
    }
   ],
   "source": [
    "test_input = test_input[-30*206:, :]\n",
    "test_output = test_output[-30*206:, :]\n",
    "test_LS = test_LS[-30*206:, :]\n",
    "print(test_output.shape)"
   ]
  },
  {
   "cell_type": "code",
   "execution_count": 5,
   "metadata": {
    "collapsed": true
   },
   "outputs": [],
   "source": [
    "predicted_output = np.load('data/0804 norm_predicted_output.npy')"
   ]
  },
  {
   "cell_type": "code",
   "execution_count": 6,
   "metadata": {
    "collapsed": true
   },
   "outputs": [],
   "source": [
    "# 存30天的metrics\n",
    "#反归一化\n",
    "data = np.array(pd.read_csv('data/0804 dataset2.csv')[[\"ext_pflex\"]])[206*96*2:,]\n",
    "min_p = data[:,0].min()\n",
    "max_p = data[:,0].max()\n",
    "pre_output = (max_p - min_p)*predicted_output + min_p\n",
    "real_output = (max_p - min_p)*test_output + min_p\n"
   ]
  },
  {
   "cell_type": "code",
   "execution_count": 7,
   "metadata": {},
   "outputs": [
    {
     "data": {
      "text/plain": [
       "array([[[528.     ],\n",
       "        [315.     ],\n",
       "        [101.99999],\n",
       "        ...,\n",
       "        [  0.     ],\n",
       "        [  0.     ],\n",
       "        [  0.     ]],\n",
       "\n",
       "       [[  0.     ],\n",
       "        [567.     ],\n",
       "        [426.     ],\n",
       "        ...,\n",
       "        [  0.     ],\n",
       "        [  0.     ],\n",
       "        [  0.     ]],\n",
       "\n",
       "       [[  0.     ],\n",
       "        [  0.     ],\n",
       "        [546.     ],\n",
       "        ...,\n",
       "        [  0.     ],\n",
       "        [  0.     ],\n",
       "        [  0.     ]],\n",
       "\n",
       "       ...,\n",
       "\n",
       "       [[  0.     ],\n",
       "        [  0.     ],\n",
       "        [  0.     ],\n",
       "        ...,\n",
       "        [  0.     ],\n",
       "        [  0.     ],\n",
       "        [  0.     ]],\n",
       "\n",
       "       [[  0.     ],\n",
       "        [  0.     ],\n",
       "        [  0.     ],\n",
       "        ...,\n",
       "        [  0.     ],\n",
       "        [  0.     ],\n",
       "        [  0.     ]],\n",
       "\n",
       "       [[  0.     ],\n",
       "        [  0.     ],\n",
       "        [  0.     ],\n",
       "        ...,\n",
       "        [  0.     ],\n",
       "        [  0.     ],\n",
       "        [  0.     ]]], dtype=float32)"
      ]
     },
     "execution_count": 7,
     "metadata": {},
     "output_type": "execute_result"
    }
   ],
   "source": [
    "real_output"
   ]
  },
  {
   "cell_type": "code",
   "execution_count": 12,
   "metadata": {
    "collapsed": true
   },
   "outputs": [],
   "source": [
    "# data = np.array(pd.read_csv('data/0804 dataset2.csv')[[\"ext_pflex\"]])[206*96*2:,]\n",
    "# min_p = data[:,0].min()\n",
    "# max_p = data[:,0].max()\n",
    "# real_output = (max_p - min_p)*test_output + min_p"
   ]
  },
  {
   "cell_type": "code",
   "execution_count": 75,
   "metadata": {},
   "outputs": [
    {
     "ename": "NameError",
     "evalue": "name 'real_flex_up' is not defined",
     "output_type": "error",
     "traceback": [
      "\u001b[1;31m---------------------------------------------------------------------------\u001b[0m",
      "\u001b[1;31mNameError\u001b[0m                                 Traceback (most recent call last)",
      "\u001b[1;32m<ipython-input-75-59a4667b19c1>\u001b[0m in \u001b[0;36masync-def-wrapper\u001b[1;34m()\u001b[0m\n\u001b[0;32m      6\u001b[0m     \u001b[0mmae\u001b[0m \u001b[1;33m=\u001b[0m \u001b[0mnp\u001b[0m\u001b[1;33m.\u001b[0m\u001b[0mmean\u001b[0m\u001b[1;33m(\u001b[0m\u001b[0mabs\u001b[0m\u001b[1;33m(\u001b[0m\u001b[0mreal_flex_up\u001b[0m\u001b[1;33m[\u001b[0m\u001b[0mi\u001b[0m\u001b[1;33m]\u001b[0m \u001b[1;33m-\u001b[0m \u001b[0mpre_flex_up\u001b[0m\u001b[1;33m[\u001b[0m\u001b[0mi\u001b[0m\u001b[1;33m]\u001b[0m\u001b[1;33m)\u001b[0m\u001b[1;33m)\u001b[0m\u001b[1;33m\u001b[0m\u001b[1;33m\u001b[0m\u001b[0m\n\u001b[0;32m      7\u001b[0m \u001b[1;31m#     TCN_RMSE_UP.append(rmse)\u001b[0m\u001b[1;33m\u001b[0m\u001b[1;33m\u001b[0m\u001b[1;33m\u001b[0m\u001b[0m\n\u001b[1;32m----> 8\u001b[1;33m \u001b[1;31m#     TCN_MAE_UP .append(mae)\u001b[0m\u001b[1;33m\u001b[0m\u001b[1;33m\u001b[0m\u001b[1;33m\u001b[0m\u001b[0m\n\u001b[0m\u001b[0;32m      9\u001b[0m \u001b[1;31m# TCN_RMSE_UP = np.array(TCN_RMSE_UP)\u001b[0m\u001b[1;33m\u001b[0m\u001b[1;33m\u001b[0m\u001b[1;33m\u001b[0m\u001b[0m\n\u001b[0;32m     10\u001b[0m \u001b[1;31m# TCN_MAE_UP = np.array(TCN_MAE_UP)\u001b[0m\u001b[1;33m\u001b[0m\u001b[1;33m\u001b[0m\u001b[1;33m\u001b[0m\u001b[0m\n",
      "\u001b[1;31mNameError\u001b[0m: name 'real_flex_up' is not defined"
     ]
    }
   ],
   "source": [
    "# # 求30天的metrics\n",
    "# # TCN_RMSE_UP = []\n",
    "# # TCN_MAE_UP = []\n",
    "# # for i in range(29):\n",
    "#     rmse = np.sqrt(np.mean(np.power((real_flex_up[i] - pre_flex_up[i]),2)))\n",
    "#     mae = np.mean(abs(real_flex_up[i] - pre_flex_up[i]))\n",
    "# #     TCN_RMSE_UP.append(rmse)\n",
    "# #     TCN_MAE_UP .append(mae)\n",
    "# # TCN_RMSE_UP = np.array(TCN_RMSE_UP)\n",
    "# # TCN_MAE_UP = np.array(TCN_MAE_UP)"
   ]
  },
  {
   "cell_type": "code",
   "execution_count": 76,
   "metadata": {},
   "outputs": [
    {
     "data": {
      "text/plain": [
       "6180"
      ]
     },
     "execution_count": 76,
     "metadata": {},
     "output_type": "execute_result"
    }
   ],
   "source": [
    "206*30"
   ]
  },
  {
   "cell_type": "code",
   "execution_count": 34,
   "metadata": {
    "collapsed": true
   },
   "outputs": [],
   "source": [
    "oneday = 206\n",
    "def metrics (pre,real,oneday):\n",
    "    pre_up = []\n",
    "    pre_down = []\n",
    "    real_up = []\n",
    "    real_down = []\n",
    "    for i in range(30):\n",
    "        pre_up.append(pre[i*oneday : i*oneday + 96:,:,])\n",
    "        real_up.append(real[i*oneday : i*oneday + 96:,:,])\n",
    "        pre_down.append(pre[i*oneday + 96 : i*oneday + 96*2:,:,])\n",
    "        real_down.append(real[i*oneday + 96 : i*oneday + 96*2:,:,])\n",
    "    pre_up = np.array(pre_up)\n",
    "    real_up = np.array(real_up)\n",
    "    pre_down = np.array(pre_down)\n",
    "    real_down = np.array(real_down)\n",
    "    \n",
    "    Tans_RMSE_UP = []\n",
    "    Tans_RMSE_DOWN = []\n",
    "    Tans_MAE_UP = []\n",
    "    Tans_MAE_DOWN = []\n",
    "    for i in range(30):\n",
    "        rmse_up = np.sqrt(np.mean(np.power((real_up[i] - pre_up[i]),2)))\n",
    "        mae_up = np.mean(abs(real_up[i] - pre_up[i]))\n",
    "        rmse_down= np.sqrt(np.mean(np.power((real_down[i] - pre_down[i]),2)))\n",
    "        mae_down = np.mean(abs(real_down[i] - pre_down[i]))\n",
    "        Tans_RMSE_UP.append(rmse_up)\n",
    "        Tans_RMSE_DOWN .append(rmse_down)\n",
    "        Tans_MAE_UP.append(mae_up)\n",
    "        Tans_MAE_DOWN .append(mae_down)\n",
    "    Tans_RMSE_UP = np.array(Tans_RMSE_UP)\n",
    "    Tans_RMSE_DOWN = np.array(Tans_RMSE_DOWN)\n",
    "    Tans_MAE_UP = np.array(Tans_MAE_UP)\n",
    "    Tans_MAE_DOWN = np.array(Tans_MAE_DOWN)\n",
    "    return Tans_RMSE_UP,Tans_RMSE_DOWN,Tans_MAE_UP,Tans_MAE_DOWN\n",
    "    \n",
    "    \n",
    "    \n",
    "        \n",
    "        \n",
    "    "
   ]
  },
  {
   "cell_type": "code",
   "execution_count": 35,
   "metadata": {
    "collapsed": true
   },
   "outputs": [],
   "source": [
    "Tans_RMSE_UP,Tans_RMSE_DOWN,Tans_MAE_UP,Tans_MAE_DOWN = metrics(pre_output, real_output,206)"
   ]
  },
  {
   "cell_type": "code",
   "execution_count": 38,
   "metadata": {
    "collapsed": true
   },
   "outputs": [],
   "source": [
    "np.save('metrics/norm_Tans_RMSE_UP',Tans_RMSE_UP)\n",
    "np.save('metrics/norm_Tans_RMSE_DOWN',Tans_RMSE_DOWN)\n",
    "np.save('metrics/norm_Tans_MAE_UP',Tans_MAE_UP)\n",
    "np.save('metrics/norm_Tans_MAE_DOWN',Tans_MAE_DOWN)"
   ]
  },
  {
   "cell_type": "code",
   "execution_count": 39,
   "metadata": {},
   "outputs": [
    {
     "name": "stdout",
     "output_type": "stream",
     "text": [
      "Tans_RMSE_UP:Mean:5.824,Max:8.349,Min:4.758\n",
      "Tans_MAE_UP:Mean:1.101,Max:1.516,Min:0.891\n",
      "Tans_RMSE_down:Mean:4.117,Max:5.252,Min:3.313\n",
      "Tans_MAE_down:Mean:0.729,Max:0.917,Min:0.615\n"
     ]
    }
   ],
   "source": [
    "print(\"Tans_RMSE_UP:Mean:{:.3f},Max:{:.3f},Min:{:.3f}\".format(np.mean(Tans_RMSE_UP),np.max(Tans_RMSE_UP),np.min(Tans_RMSE_UP)))\n",
    "print(\"Tans_MAE_UP:Mean:{:.3f},Max:{:.3f},Min:{:.3f}\".format(np.mean(Tans_MAE_UP),np.max(Tans_MAE_UP),np.min(Tans_MAE_UP)))\n",
    "print(\"Tans_RMSE_down:Mean:{:.3f},Max:{:.3f},Min:{:.3f}\".format(np.mean(Tans_RMSE_DOWN),np.max(Tans_RMSE_DOWN),np.min(Tans_RMSE_DOWN)))\n",
    "print(\"Tans_MAE_down:Mean:{:.3f},Max:{:.3f},Min:{:.3f}\".format(np.mean(Tans_MAE_DOWN),np.max(Tans_MAE_DOWN),np.min(Tans_MAE_DOWN)))"
   ]
  },
  {
   "cell_type": "code",
   "execution_count": 8,
   "metadata": {
    "collapsed": true
   },
   "outputs": [],
   "source": [
    "oneday = 206\n",
    "pre_up = []\n",
    "pre_down = []\n",
    "real_up = []\n",
    "real_down = []\n",
    "for i in range(30):\n",
    "    pre_up.append(pre_output[i*oneday : i*oneday + 96:,:,])\n",
    "    real_up.append(real_output[i*oneday : i*oneday + 96:,:,])\n",
    "    pre_down.append(pre_output[i*oneday + 96 : i*oneday + 96*2:,:,])\n",
    "    real_down.append(real_output[i*oneday + 96 : i*oneday + 96*2:,:,])\n",
    "pre_up = np.array(pre_up)\n",
    "real_up = np.array(real_up)\n",
    "pre_down = np.array(pre_down)\n",
    "real_down = np.array(real_down)"
   ]
  },
  {
   "cell_type": "code",
   "execution_count": 41,
   "metadata": {
    "collapsed": true
   },
   "outputs": [],
   "source": [
    "# 画效果图\n",
    "real_flex_up1 = real_up[1].reshape(96,96,1)\n",
    "real_flex_down1 = real_down[2].reshape(96,96,1)\n",
    "pre_flex_up1 = pre_up[1].reshape(96,96,1)\n",
    "pre_flex_down1 = pre_down[2].reshape(96,96,1)"
   ]
  },
  {
   "cell_type": "code",
   "execution_count": 42,
   "metadata": {
    "collapsed": true
   },
   "outputs": [],
   "source": [
    "#生成灵活度表征函数\n",
    "#上备用\n",
    "\n",
    "real_up_1step=[]\n",
    "for i in range(96):\n",
    "    a=real_flex_up1[i][i]\n",
    "    real_up_1step.append(a)\n",
    "real_up_1step=np.array(real_up_1step)\n",
    "\n",
    "real_up_2step=[]\n",
    "for i in range(48):\n",
    "    a=[real_flex_up1[i*2][i*2],real_flex_up1[i*2][i*2+1]]\n",
    "    b=np.min(a)\n",
    "    real_up_2step.append(b)\n",
    "    real_up_2step.append(b)\n",
    "real_up_2step=np.array(real_up_2step)\n",
    "\n",
    "real_up_4step=[]\n",
    "for i in range(24):\n",
    "    a=[real_flex_up1[i*4][i*4],real_flex_up1[i*4][i*4+1],real_flex_up1[i*4][i*4+2],real_flex_up1[i*4][i*4+3]]\n",
    "    b=np.min(a)\n",
    "    real_up_4step.append(b)\n",
    "    real_up_4step.append(b)\n",
    "    real_up_4step.append(b)\n",
    "    real_up_4step.append(b)\n",
    "real_up_4step=np.array(real_up_4step)\n",
    " \n",
    " \n",
    "\n"
   ]
  },
  {
   "cell_type": "code",
   "execution_count": 43,
   "metadata": {
    "collapsed": true
   },
   "outputs": [],
   "source": [
    "pre_up_1step=[]\n",
    "for i in range(96):\n",
    "    a=pre_flex_up1[i][i]\n",
    "    pre_up_1step.append(a)\n",
    "pre_up_1step=np.array(pre_up_1step)\n",
    "\n",
    "pre_up_2step=[]\n",
    "for i in range(48):\n",
    "    a=[pre_flex_up1[i*2][i*2],pre_flex_up1[i*2][i*2+1]]\n",
    "    b=np.min(a)\n",
    "    pre_up_2step.append(b)\n",
    "    pre_up_2step.append(b)\n",
    "pre_up_2step=np.array(pre_up_2step)\n",
    "\n",
    "pre_up_4step=[]\n",
    "for i in range(24):\n",
    "    a=[pre_flex_up1[i*4][i*4],pre_flex_up1[i*4][i*4+1],pre_flex_up1[i*4][i*4+2],pre_flex_up1[i*4][i*4+3]]\n",
    "    b=np.min(a)\n",
    "    pre_up_4step.append(b)\n",
    "    pre_up_4step.append(b)\n",
    "    pre_up_4step.append(b)\n",
    "    pre_up_4step.append(b)\n",
    "pre_up_4step=np.array(pre_up_4step)"
   ]
  },
  {
   "cell_type": "code",
   "execution_count": 47,
   "metadata": {
    "collapsed": true
   },
   "outputs": [],
   "source": [
    "#下备用\n",
    "real_down_1step=[]\n",
    "for i in range(96):\n",
    "    a=real_flex_down1[i][i]\n",
    "    real_down_1step.append(a)\n",
    "real_down_1step=np.array(real_down_1step)\n",
    "\n",
    "real_down_2step=[]\n",
    "for i in range(48):\n",
    "    a=[real_flex_down1[i*2][i*2],real_flex_down1[i*2][i*2+1]]\n",
    "    b=np.min(a)\n",
    "    real_down_2step.append(b)\n",
    "    real_down_2step.append(b)\n",
    "real_down_2step=np.array(real_down_2step)\n",
    "\n",
    "real_down_4step=[]\n",
    "for i in range(24):\n",
    "    a=[real_flex_down1[i*4][i*4],real_flex_down1[i*4][i*4+1],real_flex_down1[i*4][i*4+2],real_flex_down1[i*4][i*4+3]]\n",
    "    b=np.min(a)\n",
    "    real_down_4step.append(b)\n",
    "    real_down_4step.append(b)\n",
    "    real_down_4step.append(b)\n",
    "    real_down_4step.append(b)\n",
    "real_down_4step=np.array(real_down_4step)"
   ]
  },
  {
   "cell_type": "code",
   "execution_count": 48,
   "metadata": {
    "collapsed": true
   },
   "outputs": [],
   "source": [
    "pre_down_1step=[]\n",
    "for i in range(96):\n",
    "    a=pre_flex_down1[i][i]\n",
    "    pre_down_1step.append(a)\n",
    "pre_down_1step=np.array(pre_down_1step)\n",
    "\n",
    "pre_down_2step=[]\n",
    "for i in range(48):\n",
    "    a=[pre_flex_down1[i*2][i*2],pre_flex_down1[i*2][i*2+1]]\n",
    "    b=np.min(a)\n",
    "    pre_down_2step.append(b)\n",
    "    pre_down_2step.append(b)\n",
    "pre_down_2step=np.array(pre_down_2step)\n",
    "\n",
    "pre_down_4step=[]\n",
    "for i in range(24):\n",
    "    a=[pre_flex_down1[i*4][i*4],pre_flex_down1[i*4][i*4+1],pre_flex_down1[i*4][i*4+2],pre_flex_down1[i*4][i*4+3]]\n",
    "    b=np.min(a)\n",
    "    pre_down_4step.append(b)\n",
    "    pre_down_4step.append(b)\n",
    "    pre_down_4step.append(b)\n",
    "    pre_down_4step.append(b)\n",
    "pre_down_4step=np.array(pre_down_4step)"
   ]
  },
  {
   "cell_type": "code",
   "execution_count": 54,
   "metadata": {},
   "outputs": [
    {
     "data": {
      "image/png": "[encoded data removed]",
      "text/plain": [
       "<Figure size 720x360 with 3 Axes>"
      ]
     },
     "metadata": {
      "needs_background": "light"
     },
     "output_type": "display_data"
    }
   ],
   "source": [
    "#画图\n",
    "plt.figure(figsize=(10,5))\n",
    "ax1 = plt.subplot(311)\n",
    "x1=np.linspace(0,96,96).astype(int)\n",
    "l1=plt.step(x1,real_up_1step,label='one step down backup')\n",
    "l2=plt.step(x1,pre_up_1step,label='one step predicted backup')\n",
    "plt.legend(loc = 'upper right')\n",
    "# plt.yticks(y)\n",
    "plt.grid()\n",
    "\n",
    "ax2 = plt.subplot(312)\n",
    "l1=plt.step(x1,real_up_2step,label='two step down backup')\n",
    "l2=plt.step(x1,pre_up_2step,label='two step predicted backup')\n",
    "plt.legend(loc = 'upper right')\n",
    "# plt.yticks(y)\n",
    "plt.grid()\n",
    "\n",
    "ax3 = plt.subplot(313)\n",
    "l1=plt.step(x1,real_up_4step,label='four step down backup')\n",
    "l2=plt.step(x1,pre_up_4step,label='four step predicted backup')\n",
    "plt.legend(loc = 'upper right')\n",
    "# plt.yticks(y)\n",
    "plt.grid()"
   ]
  },
  {
   "cell_type": "code",
   "execution_count": 55,
   "metadata": {},
   "outputs": [
    {
     "data": {
      "image/png": "[encoded data removed]",
      "text/plain": [
       "<Figure size 720x360 with 3 Axes>"
      ]
     },
     "metadata": {
      "needs_background": "light"
     },
     "output_type": "display_data"
    }
   ],
   "source": [
    "plt.figure(figsize=(10,5))\n",
    "ax1 = plt.subplot(311)\n",
    "x1=np.linspace(0,96,96).astype(int)\n",
    "l1=plt.step(x1,real_down_1step,label='one step up backup')\n",
    "l2=plt.step(x1,pre_down_1step,label='one step predicted backup')\n",
    "plt.legend(loc = 'upper right')\n",
    "# plt.yticks(y)\n",
    "plt.grid()\n",
    "\n",
    "ax2 = plt.subplot(312)\n",
    "l1=plt.step(x1,real_down_2step,label='two step up backup')\n",
    "l2=plt.step(x1,pre_down_2step,label='two step predicted backup')\n",
    "plt.legend(loc = 'upper right')\n",
    "# plt.yticks(y)\n",
    "plt.grid()\n",
    "\n",
    "ax3 = plt.subplot(313)\n",
    "l1=plt.step(x1,real_down_4step,label='four step up backup')\n",
    "l2=plt.step(x1,pre_down_4step,label='four step predicted backup')\n",
    "plt.legend(loc = 'upper right')\n",
    "# plt.yticks(y)\n",
    "plt.grid()\n",
    "\n",
    "\n",
    "\n",
    "plt.show()"
   ]
  },
  {
   "cell_type": "code",
   "execution_count": 62,
   "metadata": {
    "collapsed": true
   },
   "outputs": [],
   "source": [
    "data = {'norm_TRAN_real_up_1step':real_up_1step.reshape(-1),'norm_TRAN_real_up_2step':real_up_2step.reshape(-1),'norm_TRAN_real_up_4step':real_up_4step.reshape(-1),'norm_TRAN_pre_up_1step':pre_up_1step.reshape(-1),\n",
    "       'norm_TRAN_pre_up_2step':pre_up_2step.reshape(-1),'norm_TRAN_pre_up_4step':pre_up_4step.reshape(-1),'norm_TRAN_real_down_1step':real_down_1step.reshape(-1),'norm_TRAN_real_down_2step':real_down_2step.reshape(-1),\n",
    "        'norm_TRAN_real_down_4step':real_down_4step.reshape(-1),'norm_TRAN_pre_down_1step':pre_down_1step.reshape(-1),'norm_TRAN_pre_down_2step':pre_down_2step.reshape(-1),'norm_TRAN_pre_down_4step':pre_down_4step.reshape(-1)}\n",
    "df = pd.DataFrame(data)"
   ]
  },
  {
   "cell_type": "code",
   "execution_count": 63,
   "metadata": {
    "collapsed": true
   },
   "outputs": [],
   "source": [
    "df = pd.DataFrame(data)\n",
    "df.to_csv('flex2draw/norm_tansformer_flex2draw.csv')"
   ]
  },
  {
   "cell_type": "code",
   "execution_count": 70,
   "metadata": {
    "collapsed": true
   },
   "outputs": [],
   "source": [
    "rmse_up = np.sqrt(np.mean(np.power((real_down_4step - pre_down_4step),2)))\n",
    "mae_up = np.mean(abs(real_down_4step - pre_down_4step))"
   ]
  },
  {
   "cell_type": "code",
   "execution_count": 71,
   "metadata": {},
   "outputs": [
    {
     "name": "stdout",
     "output_type": "stream",
     "text": [
      "13.37169 11.033145\n"
     ]
    }
   ],
   "source": [
    "print(rmse_up,mae_up)"
   ]
  },
  {
   "cell_type": "code",
   "execution_count": 16,
   "metadata": {
    "collapsed": true
   },
   "outputs": [],
   "source": [
    "oneday = 206\n",
    "def metrics (real_up,real_down,pre_up,pre_down):\n",
    "    Tans_RMSE_UP_15 = []\n",
    "    Tans_RMSE_DOWN_15 = []\n",
    "    Tans_MAE_UP_15 = []\n",
    "    Tans_MAE_DOWN_15 = []\n",
    "    real_up_1=[]\n",
    "    pre_up_1=[]\n",
    "    real_down_1=[]\n",
    "    pre_down_1=[]\n",
    "    for i in range(30):\n",
    "        for j in range(96):\n",
    "            a = [real_up[i][j][j]]\n",
    "            b = [pre_up[i][j][j]]\n",
    "            c = [real_down[i][j][j]]\n",
    "            d = [pre_down[i][j][j]]\n",
    "            real_up_1.append(a)\n",
    "            pre_up_1.append(b)\n",
    "            real_down_1.append(c)\n",
    "            pre_down_1.append(d)\n",
    "        real_up_15=np.array(real_up_1)\n",
    "        pre_up_15=np.array(pre_up_1)\n",
    "        real_down_15=np.array(real_down_1)\n",
    "        pre_down_15=np.array(pre_down_1)\n",
    "        rmse_up = np.sqrt(np.mean(np.power((real_up_15 - pre_up_15),2)))\n",
    "        mae_up = np.mean(abs(real_up_15 - pre_up_15))\n",
    "        rmse_down= np.sqrt(np.mean(np.power((real_down_15 - pre_down_15),2)))\n",
    "        mae_down = np.mean(abs(real_down_15 - pre_down_15))\n",
    "        Tans_RMSE_UP_15.append(rmse_up)\n",
    "        Tans_RMSE_DOWN_15 .append(rmse_down)\n",
    "        Tans_MAE_UP_15.append(mae_up)\n",
    "        Tans_MAE_DOWN_15 .append(mae_down)\n",
    "    Tans_RMSE_UP_15 = np.array(Tans_RMSE_UP_15)\n",
    "    Tans_RMSE_DOWN_15 = np.array(Tans_RMSE_DOWN_15)\n",
    "    Tans_MAE_UP_15 = np.array(Tans_MAE_UP_15)\n",
    "    Tans_MAE_DOWN_15 = np.array(Tans_MAE_DOWN_15)\n",
    "    \n",
    "    Tans_RMSE_UP_30 = []\n",
    "    Tans_RMSE_DOWN_30 = []\n",
    "    Tans_MAE_UP_30 = []\n",
    "    Tans_MAE_DOWN_30 = []\n",
    "    real_up_3=[]\n",
    "    pre_up_3=[]\n",
    "    real_down_3=[]\n",
    "    pre_down_3=[]\n",
    "    for i in range(30):\n",
    "        for j in range(48):\n",
    "            a = np.min([real_up[i][j*2][j*2],real_up[i][j*2][j*2+1]])\n",
    "            b = np.min([pre_up[i][j*2][j*2],pre_up[i][j*2][j*2+1]])\n",
    "            c = np.min([real_down[i][j*2][j*2],real_down[i][j*2][j*2+1]])\n",
    "            d = np.min([pre_down[i][j*2][j*2],pre_down[i][j*2][j*2+1]])\n",
    "            real_up_3.append(a)\n",
    "            real_up_3.append(a)\n",
    "            pre_up_3.append(b)\n",
    "            pre_up_3.append(b)\n",
    "            real_down_3.append(c)\n",
    "            real_down_3.append(c)\n",
    "            pre_down_3.append(d)\n",
    "            pre_down_3.append(d)\n",
    "        real_up_30=np.array(real_up_3)\n",
    "        pre_up_30=np.array(pre_up_3)\n",
    "        real_down_30=np.array(real_down_3)\n",
    "        pre_down_30=np.array(pre_down_3)\n",
    "        rmse_up = np.sqrt(np.mean(np.power((real_up_30 - pre_up_30),2)))\n",
    "        mae_up = np.mean(abs(real_up_30 - pre_up_30))\n",
    "        rmse_down= np.sqrt(np.mean(np.power((real_down_30 -pre_down_30),2)))\n",
    "        mae_down = np.mean(abs(real_down_30 -pre_down_30))\n",
    "        Tans_RMSE_UP_30.append(rmse_up)\n",
    "        Tans_RMSE_DOWN_30 .append(rmse_down)\n",
    "        Tans_MAE_UP_30.append(mae_up)\n",
    "        Tans_MAE_DOWN_30.append(mae_down)\n",
    "    Tans_RMSE_UP_30 = np.array(Tans_RMSE_UP_30)\n",
    "    Tans_RMSE_DOWN_30 = np.array(Tans_RMSE_DOWN_30)\n",
    "    Tans_MAE_UP_30 = np.array(Tans_MAE_UP_30)\n",
    "    Tans_MAE_DOWN_30 = np.array(Tans_MAE_DOWN_30)\n",
    "    \n",
    "    Tans_RMSE_UP_60 = []\n",
    "    Tans_RMSE_DOWN_60 = []\n",
    "    Tans_MAE_UP_60 = []\n",
    "    Tans_MAE_DOWN_60 = []\n",
    "    real_up_6=[]\n",
    "    pre_up_6=[]\n",
    "    real_down_6=[]\n",
    "    pre_down_6=[]\n",
    "    for i in range(30):\n",
    "        for j in range(24):\n",
    "            a = np.min([real_up[i][j*4][j*4],real_up[i][j*4][j*4+1],real_up[i][j*4][j*4+2],real_up[i][j*4][j*4+3]])\n",
    "            b = np.min([pre_up[i][j*4][j*4],pre_up[i][j*4][j*4+1],pre_up[i][j*4][j*4+2],pre_up[i][j*4][j*4+3]])\n",
    "            c = np.min([real_down[i][j*4][j*4],real_down[i][j*4][j*4+1],real_down[i][j*4][j*4+2],real_down[i][j*4][j*4+3]])\n",
    "            d = np.min([pre_down[i][j*4][j*4],pre_down[i][j*4][j*4+1],pre_down[i][j*4][j*4+2],pre_down[i][j*4][j*4+3]])\n",
    "            real_up_6.append(a)\n",
    "            real_up_6.append(a)\n",
    "            real_up_6.append(a)\n",
    "            real_up_6.append(a)\n",
    "            pre_up_6.append(b)\n",
    "            pre_up_6.append(b)\n",
    "            pre_up_6.append(b)\n",
    "            pre_up_6.append(b)\n",
    "            real_down_6.append(c)\n",
    "            real_down_6.append(c)\n",
    "            real_down_6.append(c)\n",
    "            real_down_6.append(c)\n",
    "            pre_down_6.append(d)\n",
    "            pre_down_6.append(d)\n",
    "            pre_down_6.append(d)\n",
    "            pre_down_6.append(d)\n",
    "        real_up_60=np.array(real_up_6)\n",
    "        pre_up_60=np.array(pre_up_6)\n",
    "        real_down_60=np.array(real_down_6)\n",
    "        pre_down_60=np.array(pre_down_6)\n",
    "        rmse_up = np.sqrt(np.mean(np.power((real_up_60 - pre_up_60),2)))\n",
    "        mae_up = np.mean(abs(real_up_60 - pre_up_60))\n",
    "        rmse_down= np.sqrt(np.mean(np.power((real_down_60 - pre_down_60),2)))\n",
    "        mae_down = np.mean(abs(real_down_60 - pre_down_60))\n",
    "        Tans_RMSE_UP_60.append(rmse_up)\n",
    "        Tans_RMSE_DOWN_60 .append(rmse_down)\n",
    "        Tans_MAE_UP_60.append(mae_up)\n",
    "        Tans_MAE_DOWN_60.append(mae_down)\n",
    "    Tans_RMSE_UP_60 = np.array(Tans_RMSE_UP_60)\n",
    "    Tans_RMSE_DOWN_60 = np.array(Tans_RMSE_DOWN_60)\n",
    "    Tans_MAE_UP_60 = np.array(Tans_MAE_UP_60)\n",
    "    Tans_MAE_DOWN_60 = np.array(Tans_MAE_DOWN_60)\n",
    "    \n",
    "    \n",
    "    return Tans_RMSE_UP_15,Tans_RMSE_DOWN_15,Tans_MAE_UP_15,Tans_MAE_DOWN_15,Tans_RMSE_UP_30,Tans_RMSE_DOWN_30,Tans_MAE_UP_30,Tans_MAE_DOWN_30,Tans_RMSE_UP_60,Tans_RMSE_DOWN_60,Tans_MAE_UP_60,Tans_MAE_DOWN_60\n",
    "    \n",
    "    \n",
    "    \n",
    "        \n",
    "        \n",
    "    "
   ]
  },
  {
   "cell_type": "code",
   "execution_count": 17,
   "metadata": {},
   "outputs": [],
   "source": [
    "Tans_RMSE_UP,Tans_RMSE_DOWN,Tans_MAE_UP,Tans_MAE_DOWN,Tans_RMSE_UP_30,Tans_RMSE_DOWN_30,Tans_MAE_UP_30,Tans_MAE_DOWN_30,Tans_RMSE_UP_60,Tans_RMSE_DOWN_60,Tans_MAE_UP_60,Tans_MAE_DOWN_60 = metrics(real_up,real_down,pre_up,pre_down)"
   ]
  },
  {
   "cell_type": "code",
   "execution_count": 18,
   "metadata": {},
   "outputs": [
    {
     "name": "stdout",
     "output_type": "stream",
     "text": [
      "Tans_RMSE_UP:Mean:23.337,Max:24.718,Min:18.811\n",
      "Tans_MAE_UP:Mean:18.515,Max:19.605,Min:14.947\n",
      "Tans_RMSE_down:Mean:18.913,Max:20.039,Min:14.828\n",
      "Tans_MAE_down:Mean:14.785,Max:15.491,Min:11.944\n"
     ]
    }
   ],
   "source": [
    "print(\"Tans_RMSE_UP:Mean:{:.3f},Max:{:.3f},Min:{:.3f}\".format(np.mean(Tans_RMSE_UP),np.max(Tans_RMSE_UP),np.min(Tans_RMSE_UP)))\n",
    "print(\"Tans_MAE_UP:Mean:{:.3f},Max:{:.3f},Min:{:.3f}\".format(np.mean(Tans_MAE_UP),np.max(Tans_MAE_UP),np.min(Tans_MAE_UP)))\n",
    "print(\"Tans_RMSE_down:Mean:{:.3f},Max:{:.3f},Min:{:.3f}\".format(np.mean(Tans_RMSE_DOWN),np.max(Tans_RMSE_DOWN),np.min(Tans_RMSE_DOWN)))\n",
    "print(\"Tans_MAE_down:Mean:{:.3f},Max:{:.3f},Min:{:.3f}\".format(np.mean(Tans_MAE_DOWN),np.max(Tans_MAE_DOWN),np.min(Tans_MAE_DOWN)))"
   ]
  },
  {
   "cell_type": "code",
   "execution_count": 19,
   "metadata": {},
   "outputs": [
    {
     "name": "stdout",
     "output_type": "stream",
     "text": [
      "Tans_RMSE_UP_30:Mean:25.715,Max:27.253,Min:22.575\n",
      "Tans_MAE_UP_30:Mean:20.313,Max:21.542,Min:17.042\n",
      "Tans_RMSE_down_30:Mean:19.129,Max:20.093,Min:16.614\n",
      "Tans_MAE_down_30:Mean:14.884,Max:15.520,Min:12.799\n"
     ]
    }
   ],
   "source": [
    "print(\"Tans_RMSE_UP_30:Mean:{:.3f},Max:{:.3f},Min:{:.3f}\".format(np.mean(Tans_RMSE_UP_30),np.max(Tans_RMSE_UP_30),np.min(Tans_RMSE_UP_30)))\n",
    "print(\"Tans_MAE_UP_30:Mean:{:.3f},Max:{:.3f},Min:{:.3f}\".format(np.mean(Tans_MAE_UP_30),np.max(Tans_MAE_UP_30),np.min(Tans_MAE_UP_30)))\n",
    "print(\"Tans_RMSE_down_30:Mean:{:.3f},Max:{:.3f},Min:{:.3f}\".format(np.mean(Tans_RMSE_DOWN_30),np.max(Tans_RMSE_DOWN_30),np.min(Tans_RMSE_DOWN_30)))\n",
    "print(\"Tans_MAE_down_30:Mean:{:.3f},Max:{:.3f},Min:{:.3f}\".format(np.mean(Tans_MAE_DOWN_30),np.max(Tans_MAE_DOWN_30),np.min(Tans_MAE_DOWN_30)))"
   ]
  },
  {
   "cell_type": "code",
   "execution_count": 20,
   "metadata": {},
   "outputs": [
    {
     "name": "stdout",
     "output_type": "stream",
     "text": [
      "Tans_RMSE_UP_60:Mean:25.436,Max:26.733,Min:22.063\n",
      "Tans_MAE_UP_60:Mean:17.598,Max:18.250,Min:15.695\n",
      "Tans_RMSE_down_60:Mean:17.059,Max:18.512,Min:16.609\n",
      "Tans_MAE_down_60:Mean:12.109,Max:12.906,Min:11.060\n"
     ]
    }
   ],
   "source": [
    "print(\"Tans_RMSE_UP_60:Mean:{:.3f},Max:{:.3f},Min:{:.3f}\".format(np.mean(Tans_RMSE_UP_60),np.max(Tans_RMSE_UP_60),np.min(Tans_RMSE_UP_60)))\n",
    "print(\"Tans_MAE_UP_60:Mean:{:.3f},Max:{:.3f},Min:{:.3f}\".format(np.mean(Tans_MAE_UP_60),np.max(Tans_MAE_UP_60),np.min(Tans_MAE_UP_60)))\n",
    "print(\"Tans_RMSE_down_60:Mean:{:.3f},Max:{:.3f},Min:{:.3f}\".format(np.mean(Tans_RMSE_DOWN_60),np.max(Tans_RMSE_DOWN_60),np.min(Tans_RMSE_DOWN_60)))\n",
    "print(\"Tans_MAE_down_60:Mean:{:.3f},Max:{:.3f},Min:{:.3f}\".format(np.mean(Tans_MAE_DOWN_60),np.max(Tans_MAE_DOWN_60),np.min(Tans_MAE_DOWN_60)))"
   ]
  },
  {
   "cell_type": "code",
   "execution_count": null,
   "metadata": {
    "collapsed": true
   },
   "outputs": [],
   "source": []
  }
 ],
 "metadata": {
  "kernelspec": {
   "display_name": "Python [conda env:pytorch-cpu]",
   "language": "python",
   "name": "conda-env-pytorch-cpu-py"
  },
  "language_info": {
   "codemirror_mode": {
    "name": "ipython",
    "version": 3
   },
   "file_extension": ".py",
   "mimetype": "text/x-python",
   "name": "python",
   "nbconvert_exporter": "python",
   "pygments_lexer": "ipython3",
   "version": "3.6.10"
  }
 },
 "nbformat": 4,
 "nbformat_minor": 2
}
